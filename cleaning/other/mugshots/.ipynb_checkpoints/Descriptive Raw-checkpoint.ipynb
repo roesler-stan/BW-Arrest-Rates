{
 "metadata": {
  "name": "",
  "signature": "sha256:d89c75e5e6f4aad1a1fece0f29858e7ff2065d5713d627402aa3b11983ddfc78"
 },
 "nbformat": 3,
 "nbformat_minor": 0,
 "worksheets": [
  {
   "cells": [
    {
     "cell_type": "code",
     "collapsed": false,
     "input": [
      "import pandas\n",
      "import numpy\n",
      "import Setup_Datasets as su\n",
      "import Analysis_Prep as ap"
     ],
     "language": "python",
     "metadata": {},
     "outputs": [],
     "prompt_number": 1
    },
    {
     "cell_type": "code",
     "collapsed": false,
     "input": [
      "dataset = su.setup('mugshots', '../Data/SQL Output/Subqueries/arrests_2014.csv', quoting = '\"',\n",
      "                   memory = False)\n",
      "\n",
      "# prepare data without removing people without charge coded\n",
      "dataset, d2014, m2014, f2014 = ap.analysis_prep(dataset, keep_uncoded = True)"
     ],
     "language": "python",
     "metadata": {},
     "outputs": [],
     "prompt_number": 2
    },
    {
     "cell_type": "code",
     "collapsed": false,
     "input": [
      "sum(dataset['county_no'].isnull())"
     ],
     "language": "python",
     "metadata": {},
     "outputs": []
    },
    {
     "cell_type": "code",
     "collapsed": false,
     "input": [
      "# % Arrested individuals with more than one charge string found\n",
      "(m2014['charge_no'] > 1).mean()\n",
      "#(m2014['charge_no'] == 0).mean()\n",
      "\n",
      "# Number of charge strings found\n",
      "#m2014['charge_no'].describe()\n",
      "\n",
      "# % of arrested individuals with coded charge - two lines are identical\n",
      "#(m2014['charge_coded'] == 1).sum() / m2014['arrest_id'].count().astype(float)\n",
      "#(m2014['charge_coded'] == 1).mean()\n",
      "\n",
      "# Number of individuals with charge string found\n",
      "#(m2014['charge_no'] > 0).sum()\n",
      "\n",
      "# % of individuals with charge string found whose charge was successfully coded\n",
      "# why do these two differ?\n",
      "#(m2014['charge_coded'] == 1).sum() / float((m2014['charge_no'] > 0).sum())\n",
      "#(m2014['charge_coded']).mean()"
     ],
     "language": "python",
     "metadata": {},
     "outputs": [
      {
       "metadata": {},
       "output_type": "pyout",
       "prompt_number": 3,
       "text": [
        "0.22166638705446337"
       ]
      }
     ],
     "prompt_number": 3
    },
    {
     "cell_type": "code",
     "collapsed": false,
     "input": [
      "# Number of counties with exactly 1,000 arrests (suggesting censoring)\n",
      "(d2014.groupby('county_no')['arrest_id'].count() == 1000).sum()"
     ],
     "language": "python",
     "metadata": {},
     "outputs": []
    }
   ],
   "metadata": {}
  }
 ]
}