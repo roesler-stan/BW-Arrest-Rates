{
 "metadata": {
  "name": "",
  "signature": "sha256:bd43930ad9df7025f430ce4788a245eae8d2394a30a400329ff6278be0744ef1"
 },
 "nbformat": 3,
 "nbformat_minor": 0,
 "worksheets": [
  {
   "cells": [
    {
     "cell_type": "code",
     "collapsed": false,
     "input": [
      "import pandas\n",
      "import re\n",
      "import string"
     ],
     "language": "python",
     "metadata": {},
     "outputs": [],
     "prompt_number": 1
    },
    {
     "cell_type": "code",
     "collapsed": false,
     "input": [
      "# This expands it to have many charges per arrest_id\n",
      "def expand_charges(dataset):\n",
      "    dataset['charge_edit'] = dataset.loc[:,'charge_combo'].astype(str).map(fix_string)\n",
      "    \n",
      "    dataset = dataset.loc[:,('charge_edit', 'arrest_id')]\n",
      "    \n",
      "    dataset = pandas.DataFrame(dataset['charge_edit'].tolist(), dataset['arrest_id']).stack()\n",
      "    dataset = dataset.to_frame().reset_index(level = 0, drop = False)\n",
      "    dataset.columns = ['arrest_id', 'charge']\n",
      "    dataset.reset_index(drop = True, inplace = True)\n",
      "\n",
      "    dataset = dataset[dataset['arrest_id'].notnull()]\n",
      "    dataset = dataset[dataset['charge'].notnull()]\n",
      "    \n",
      "    return dataset"
     ],
     "language": "python",
     "metadata": {},
     "outputs": [],
     "prompt_number": 10
    },
    {
     "cell_type": "code",
     "collapsed": false,
     "input": [
      "# Given one string of charges\n",
      "# Former strings are surrounded by ' || '\n",
      "# Former tuples are surrounded by ' +++ '\n",
      "def fix_string(charge_str):\n",
      "    charges = []\n",
      "\n",
      "    # For each former tuple in the string, find the text between +++'s\n",
      "    while ' +++ ' in charge_str:\n",
      "        tuple_str = charge_str.split(' +++ ')[1]\n",
      "\n",
      "        # If there is only one +++ (weirdly), stop here\n",
      "        if len(charge_str.split(' +++ ')) == 2:\n",
      "            break\n",
      "\n",
      "        # While there are still quotes left, indicating tuple value\n",
      "        while '\\'' in tuple_str:\n",
      "            # Finding the text to the right of the left quote and left of the right quote\n",
      "            c_str = tuple_str.split('\\'')[1]\n",
      "            # If there is only one quote, stop here\n",
      "            if len(tuple_str.split('\\'')) == 2:\n",
      "                break\n",
      "            # Otherwise, append the quoted item and delete it from the string\n",
      "            charges.append(c_str)\n",
      "            # the second number is the maxsplit, so it returns everything to the right\n",
      "            tuple_str = string.split(tuple_str, '\\'', 2)[-1]\n",
      "\n",
      "        # Remove the tuple from the charge string\n",
      "        charge_str = string.split(charge_str, ' +++ ', 2)[-1]\n",
      "\n",
      "    # For each string, find it and remove it\n",
      "    while '|| ' in charge_str:\n",
      "        str_str = charge_str.split(' || ')[1]\n",
      "        # Append the entire string, b/c can't be sure that commas aren't within a single charge\n",
      "        charges.append(str_str)\n",
      "\n",
      "        # If there is only one || (weirdly), stop here\n",
      "        if len(charge_str.split(' || ')) == 2:\n",
      "            break\n",
      "\n",
      "        # Remove that string\n",
      "        charge_str = string.split(charge_str, ' || ', 2)[-1]\n",
      "\n",
      "    return tuple(charges)"
     ],
     "language": "python",
     "metadata": {},
     "outputs": []
    },
    {
     "cell_type": "heading",
     "level": 4,
     "metadata": {},
     "source": [
      "# This expands it to have many charges per arrest_id\n",
      "# I think there was a problem with the fact that charges had to be a set of unique values\n",
      "def expand_charges_old(dataset):\n",
      "    dataset['arrest_id'] = dataset['identifier'].astype(int)\n",
      "    \n",
      "    dataset = dataset[['charge_edit', 'arrest_id']]\n",
      "    \n",
      "    # This throws out identical charges within the same arrest id\n",
      "    def expand(row):\n",
      "        charges = row['charge_edit'] if isinstance(row['charge_edit'], tuple) else []\n",
      "        s = pandas.Series(row['arrest_id'], index = list(set(charges)))\n",
      "        return s    \n",
      "\n",
      "    dataset = dataset.apply(expand, axis = 1).stack()\n",
      "    \n",
      "    dataset = dataset.to_frame().reset_index(level = 1, drop=False)\n",
      "    dataset.columns = ['charge', 'arrest_id']\n",
      "    dataset.reset_index(drop = True, inplace = True)\n",
      "    \n",
      "    return dataset"
     ]
    }
   ],
   "metadata": {}
  }
 ]
}