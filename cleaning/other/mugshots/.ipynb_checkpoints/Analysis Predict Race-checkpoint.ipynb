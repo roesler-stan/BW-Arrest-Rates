{
 "metadata": {
  "name": "",
  "signature": "sha256:e27b8887384460cf8527b43b1b542b590ba6026b2019e03bfbea1bdbcb1f56ca"
 },
 "nbformat": 3,
 "nbformat_minor": 0,
 "worksheets": [
  {
   "cells": [
    {
     "cell_type": "heading",
     "level": 3,
     "metadata": {},
     "source": [
      "Predict Race of Arrestee by Police IVs and Offense Type (Moderators)"
     ]
    },
    {
     "cell_type": "heading",
     "level": 4,
     "metadata": {},
     "source": [
      "All analyses below are for men arrested in 2014, at the individual level, clustered by county"
     ]
    },
    {
     "cell_type": "code",
     "collapsed": false,
     "input": [
      "import pandas\n",
      "import numpy\n",
      "import Setup_Datasets as su\n",
      "import Analysis_Prep as ap\n",
      "import statsmodels.iolib.summary2\n",
      "from statsmodels.iolib.summary2 import summary_params\n",
      "from statsmodels.iolib.summary2 import summary_col\n",
      "import statsmodels.genmod.generalized_estimating_equations as sgm\n",
      "import statsmodels.genmod as sg\n",
      "from patsy import Treatment\n",
      "import statsmodels.tools.eval_measures as se"
     ],
     "language": "python",
     "metadata": {},
     "outputs": [],
     "prompt_number": 1
    },
    {
     "cell_type": "code",
     "collapsed": false,
     "input": [
      "# to correct stars levels for latex output\n",
      "def my_col_params(result, float_format='%.4f', stars=True):\n",
      "    '''Stack coefficients and standard errors in single column\n",
      "    '''\n",
      "\n",
      "    # Extract parameters\n",
      "    res = summary_params(result)\n",
      "    # Format float\n",
      "    for col in res.columns[:2]:\n",
      "        res[col] = res[col].apply(lambda x: float_format % x)\n",
      "    # Std.Errors in parentheses\n",
      "    res.ix[:, 1] = '(' + res.ix[:, 1] + ')'\n",
      "    # Significance stars\n",
      "    if stars:\n",
      "        idx = res.ix[:, 3] < .05\n",
      "        res.ix[:, 0][idx] = res.ix[:, 0][idx] + '*'\n",
      "        idx = res.ix[:, 3] < .01\n",
      "        res.ix[:, 0][idx] = res.ix[:, 0][idx] + '*'\n",
      "        idx = res.ix[:, 3] < .001\n",
      "        res.ix[:, 0][idx] = res.ix[:, 0][idx] + '*'\n",
      "    # Stack Coefs and Std.Errors\n",
      "    res = res.ix[:, :2]\n",
      "    res = res.stack()\n",
      "    res = pandas.DataFrame(res)\n",
      "    res.columns = [str(result.model.endog_names)]\n",
      "    return res\n",
      "\n",
      "statsmodels.iolib.summary2._col_params = my_col_params"
     ],
     "language": "python",
     "metadata": {},
     "outputs": [],
     "prompt_number": 2
    },
    {
     "cell_type": "code",
     "collapsed": true,
     "input": [
      "dataset = su.main('../../Data/SQL Output/Subqueries/arrests_2014.csv')\n",
      "\n",
      "dataset, d2014, m2014, f2014 = ap.main(dataset)\n",
      "# All analysis will be for individuals with at least 1 charge successully coded\n",
      "# b/c uncoded could mean no actual charge text was written or text couldn't be coded"
     ],
     "language": "python",
     "metadata": {},
     "outputs": [
      {
       "output_type": "stream",
       "stream": "stderr",
       "text": [
        "Setup_Datasets.py:38: SettingWithCopyWarning: \n",
        "A value is trying to be set on a copy of a slice from a DataFrame.\n",
        "Try using .loc[row_indexer,col_indexer] = value instead\n",
        "\n",
        "See the the caveats in the documentation: http://pandas.pydata.org/pandas-docs/stable/indexing.html#indexing-view-versus-copy\n",
        "  dataset[date_var] = pandas.to_datetime(dataset[date_var], coerce = True, utc = True)\n"
       ]
      }
     ],
     "prompt_number": 3
    },
    {
     "cell_type": "code",
     "collapsed": false,
     "input": [
      "fam = sg.families.Binomial()\n",
      "ind = sgm.Independence()\n",
      "\n",
      "def make_controls(c_list):\n",
      "    controls_string = ''\n",
      "    for var in c_list:\n",
      "        controls_string += ' + ' + var\n",
      "    return controls_string\n",
      "\n",
      "def clustered_logit(data_input, dv, iv, moderator = '', interact = False, control_vars = [], weight_input = ''):\n",
      "    controls_string = ''\n",
      "    if control_vars != []:\n",
      "        controls_string = make_controls(control_vars)\n",
      "\n",
      "    if interact:\n",
      "        i_vars = iv + ' * ' + moderator + controls_string\n",
      "    else:\n",
      "        if moderator == '':\n",
      "            i_vars = iv + controls_string\n",
      "        else:\n",
      "            i_vars = iv + ' + ' + moderator + controls_string\n",
      "    \n",
      "    if weight_input == '':\n",
      "        return sgm.GEE.from_formula(dv + ' ~ ' + i_vars + controls_string, groups = 'county_no',\n",
      "                                    data = data_input, family = fam, cov_struct = ind).fit()\n",
      "    else:\n",
      "        return sgm.GEE.from_formula(dv + ' ~ ' + i_vars + controls_string, groups = 'county_no',\n",
      "                                    data = data_input, family = fam, cov_struct = ind,\n",
      "                                    weight = 1./data_input[weight_input]).fit()"
     ],
     "language": "python",
     "metadata": {},
     "outputs": [],
     "prompt_number": 4
    },
    {
     "cell_type": "code",
     "collapsed": false,
     "input": [
      "#dv = 'black_not_white'\n",
      "#dv = 'racial_minority'\n",
      "controls = ['b_residents_percent', 'b_residents_percent_sq', 'w_residents_percent',\n",
      "            'inc_mean', 'unemployed']\n",
      "\n",
      "# 'numuoftot' might not be appropriate\n",
      "# other possible controls: 'racialprplcy', 'cpnone', 'earlywarn', 'citcompplcy', 'ccrb_wpowers'\n",
      "fewpd_controls = ['w_officers_percent_calc', 'male_officers_percent', 'opbudget', 'numuoftot',\n",
      "               'psycheval', 'totinsrv', 'cultdiv', 'confmgt', 'ccrb']\n",
      "\n",
      "pd_controls = ['w_officers_percent_calc', 'male_officers_percent', 'opbudget', 'numuoftot',\n",
      "               'psycheval', 'totinsrv', 'cultdiv', 'confmgt',\n",
      "               'racialprplcy', 'cpnone', 'earlywarn', 'citcompplcy', 'ccrb_wpowers']\n",
      "\n",
      "inc_controls = ['binc_under40_percent', 'winc_under40_percent']\n",
      "irs_inc_controls = ['irs_inc_mean']\n",
      "party = [\"+ C(gov_party, Treatment(reference = 'Democrat'))\"]"
     ],
     "language": "python",
     "metadata": {},
     "outputs": [],
     "prompt_number": 7
    },
    {
     "cell_type": "code",
     "collapsed": false,
     "input": [
      "dummy_vars = ('proactive', 'hdisc', 'driving', 'disorder', 'drunk_public', 'mar_poss', 'drugs')\n",
      "refs = ('reactive', 'ldisc', 'theft', 'auto_theft', 'robbery', 'burglary', 'embez')\n",
      "\n",
      "control_types = [controls, controls + fewpd_controls, controls + inc_controls,\n",
      "                 controls + fewpd_controls + inc_controls]"
     ],
     "language": "python",
     "metadata": {},
     "outputs": [],
     "prompt_number": 8
    },
    {
     "cell_type": "code",
     "collapsed": false,
     "input": [
      "# To understand whether county-level scatterplots are right\n",
      "#clustered_logit(m2014, 'black_not_white', 'wofficers_minusres').summary()\n",
      "#clustered_logit(m2014[m2014['disorder'] == 1], 'black_not_white', 'wofficers_minusres').summary()"
     ],
     "language": "python",
     "metadata": {},
     "outputs": [
      {
       "html": [
        "<table class=\"simpletable\">\n",
        "<caption>GEE Regression Results</caption>\n",
        "<tr>\n",
        "  <th>Dep. Variable:</th>           <td>black_not_white</td>   <th>  No. Observations:  </th>   <td>39508</td> \n",
        "</tr>\n",
        "<tr>\n",
        "  <th>Model:</th>                         <td>GEE</td>         <th>  No. clusters:      </th>    <td>539</td>  \n",
        "</tr>\n",
        "<tr>\n",
        "  <th>Method:</th>                    <td>Generalized</td>     <th>  Min. cluster size: </th>     <td>1</td>   \n",
        "</tr>\n",
        "<tr>\n",
        "  <th></th>                      <td>Estimating Equations</td> <th>  Max. cluster size: </th>    <td>520</td>  \n",
        "</tr>\n",
        "<tr>\n",
        "  <th>Family:</th>                     <td>Binomial</td>       <th>  Mean cluster size: </th>   <td>73.3</td>  \n",
        "</tr>\n",
        "<tr>\n",
        "  <th>Dependence structure:</th>     <td>Independence</td>     <th>  Num. iterations:   </th>     <td>6</td>   \n",
        "</tr>\n",
        "<tr>\n",
        "  <th>Date:</th>                   <td>Mon, 20 Apr 2015</td>   <th>  Scale:             </th>   <td>1.075</td> \n",
        "</tr>\n",
        "<tr>\n",
        "  <th>Covariance type: </th>            <td>robust</td>        <th>  Time:              </th> <td>10:49:44</td>\n",
        "</tr>\n",
        "</table>\n",
        "<table class=\"simpletable\">\n",
        "<tr>\n",
        "           <td></td>             <th>coef</th>     <th>std err</th>      <th>z</th>      <th>P>|z|</th> <th>[95.0% Conf. Int.]</th> \n",
        "</tr>\n",
        "<tr>\n",
        "  <th>Intercept</th>          <td>   -1.4142</td> <td>    0.152</td> <td>   -9.308</td> <td> 0.000</td> <td>   -1.712    -1.116</td>\n",
        "</tr>\n",
        "<tr>\n",
        "  <th>wofficers_minusres</th> <td>    0.0482</td> <td>    0.010</td> <td>    4.595</td> <td> 0.000</td> <td>    0.028     0.069</td>\n",
        "</tr>\n",
        "</table>\n",
        "<table class=\"simpletable\">\n",
        "<tr>\n",
        "  <th>Skew:</th>          <td>      0.8942</td> <th>  Kurtosis:          </th> <td>     -1.0147</td>\n",
        "</tr>\n",
        "<tr>\n",
        "  <th>Centered skew:</th> <td>      0.7242</td> <th>  Centered kurtosis: </th> <td>     -0.4584</td>\n",
        "</tr>\n",
        "</table>"
       ],
       "metadata": {},
       "output_type": "pyout",
       "prompt_number": 6,
       "text": [
        "<class 'statsmodels.iolib.summary.Summary'>\n",
        "\"\"\"\n",
        "                               GEE Regression Results                              \n",
        "===================================================================================\n",
        "Dep. Variable:             black_not_white   No. Observations:                39508\n",
        "Model:                                 GEE   No. clusters:                      539\n",
        "Method:                        Generalized   Min. cluster size:                   1\n",
        "                      Estimating Equations   Max. cluster size:                 520\n",
        "Family:                           Binomial   Mean cluster size:                73.3\n",
        "Dependence structure:         Independence   Num. iterations:                     6\n",
        "Date:                     Mon, 20 Apr 2015   Scale:                           1.075\n",
        "Covariance type:                    robust   Time:                         10:49:44\n",
        "======================================================================================\n",
        "                         coef    std err          z      P>|z|      [95.0% Conf. Int.]\n",
        "--------------------------------------------------------------------------------------\n",
        "Intercept             -1.4142      0.152     -9.308      0.000        -1.712    -1.116\n",
        "wofficers_minusres     0.0482      0.010      4.595      0.000         0.028     0.069\n",
        "==============================================================================\n",
        "Skew:                          0.8942   Kurtosis:                      -1.0147\n",
        "Centered skew:                 0.7242   Centered kurtosis:             -0.4584\n",
        "==============================================================================\n",
        "\"\"\""
       ]
      }
     ],
     "prompt_number": 6
    },
    {
     "cell_type": "code",
     "collapsed": false,
     "input": [
      "pandas.value_counts(d2014['gender'])"
     ],
     "language": "python",
     "metadata": {},
     "outputs": [
      {
       "metadata": {},
       "output_type": "pyout",
       "prompt_number": 50,
       "text": [
        "male      70227\n",
        "female    23461\n",
        "dtype: int64"
       ]
      }
     ],
     "prompt_number": 50
    },
    {
     "cell_type": "code",
     "collapsed": false,
     "input": [
      "# Interaction of race and gender\n",
      "results = []\n",
      "\n",
      "for iv in pd_controls:\n",
      "    results.append(clustered_logit(d2014, 'black_not_white', iv, 'gender', interact = True,\n",
      "                        control_vars = controls))"
     ],
     "language": "python",
     "metadata": {},
     "outputs": [],
     "prompt_number": 33
    },
    {
     "cell_type": "code",
     "collapsed": false,
     "input": [
      "results[12].summary()"
     ],
     "language": "python",
     "metadata": {},
     "outputs": [
      {
       "html": [
        "<table class=\"simpletable\">\n",
        "<caption>GEE Regression Results</caption>\n",
        "<tr>\n",
        "  <th>Dep. Variable:</th>           <td>black_not_white</td>   <th>  No. Observations:  </th>   <td>48074</td> \n",
        "</tr>\n",
        "<tr>\n",
        "  <th>Model:</th>                         <td>GEE</td>         <th>  No. clusters:      </th>    <td>520</td>  \n",
        "</tr>\n",
        "<tr>\n",
        "  <th>Method:</th>                    <td>Generalized</td>     <th>  Min. cluster size: </th>     <td>1</td>   \n",
        "</tr>\n",
        "<tr>\n",
        "  <th></th>                      <td>Estimating Equations</td> <th>  Max. cluster size: </th>    <td>668</td>  \n",
        "</tr>\n",
        "<tr>\n",
        "  <th>Family:</th>                     <td>Binomial</td>       <th>  Mean cluster size: </th>   <td>92.5</td>  \n",
        "</tr>\n",
        "<tr>\n",
        "  <th>Dependence structure:</th>     <td>Independence</td>     <th>  Num. iterations:   </th>     <td>8</td>   \n",
        "</tr>\n",
        "<tr>\n",
        "  <th>Date:</th>                   <td>Mon, 20 Apr 2015</td>   <th>  Scale:             </th>   <td>0.975</td> \n",
        "</tr>\n",
        "<tr>\n",
        "  <th>Covariance type: </th>            <td>robust</td>        <th>  Time:              </th> <td>11:06:59</td>\n",
        "</tr>\n",
        "</table>\n",
        "<table class=\"simpletable\">\n",
        "<tr>\n",
        "               <td></td>                  <th>coef</th>     <th>std err</th>      <th>z</th>      <th>P>|z|</th> <th>[95.0% Conf. Int.]</th> \n",
        "</tr>\n",
        "<tr>\n",
        "  <th>Intercept</th>                   <td>   -0.9109</td> <td>    0.728</td> <td>   -1.251</td> <td> 0.211</td> <td>   -2.338     0.516</td>\n",
        "</tr>\n",
        "<tr>\n",
        "  <th>gender[T.male]</th>              <td>    0.4623</td> <td>    0.042</td> <td>   10.919</td> <td> 0.000</td> <td>    0.379     0.545</td>\n",
        "</tr>\n",
        "<tr>\n",
        "  <th>ccrb_wpowers</th>                <td>   -1.5424</td> <td>    0.440</td> <td>   -3.505</td> <td> 0.000</td> <td>   -2.405    -0.680</td>\n",
        "</tr>\n",
        "<tr>\n",
        "  <th>ccrb_wpowers:gender[T.male]</th> <td>   -0.0069</td> <td>    0.262</td> <td>   -0.027</td> <td> 0.979</td> <td>   -0.521     0.507</td>\n",
        "</tr>\n",
        "<tr>\n",
        "  <th>b_residents_percent</th>         <td>    0.0829</td> <td>    0.009</td> <td>    9.222</td> <td> 0.000</td> <td>    0.065     0.101</td>\n",
        "</tr>\n",
        "<tr>\n",
        "  <th>b_residents_percent_sq</th>      <td>   -0.0007</td> <td>    0.000</td> <td>   -7.055</td> <td> 0.000</td> <td>   -0.001    -0.001</td>\n",
        "</tr>\n",
        "<tr>\n",
        "  <th>w_residents_percent</th>         <td>   -0.0250</td> <td>    0.006</td> <td>   -3.942</td> <td> 0.000</td> <td>   -0.037    -0.013</td>\n",
        "</tr>\n",
        "<tr>\n",
        "  <th>inc_mean</th>                    <td>    0.0106</td> <td>    0.003</td> <td>    3.344</td> <td> 0.001</td> <td>    0.004     0.017</td>\n",
        "</tr>\n",
        "<tr>\n",
        "  <th>unemployed</th>                  <td>   -0.0059</td> <td>    0.017</td> <td>   -0.357</td> <td> 0.721</td> <td>   -0.038     0.026</td>\n",
        "</tr>\n",
        "</table>\n",
        "<table class=\"simpletable\">\n",
        "<tr>\n",
        "  <th>Skew:</th>          <td>      0.8698</td> <th>  Kurtosis:          </th> <td>     -0.2004</td>\n",
        "</tr>\n",
        "<tr>\n",
        "  <th>Centered skew:</th> <td>      0.8142</td> <th>  Centered kurtosis: </th> <td>     -0.2101</td>\n",
        "</tr>\n",
        "</table>"
       ],
       "metadata": {},
       "output_type": "pyout",
       "prompt_number": 49,
       "text": [
        "<class 'statsmodels.iolib.summary.Summary'>\n",
        "\"\"\"\n",
        "                               GEE Regression Results                              \n",
        "===================================================================================\n",
        "Dep. Variable:             black_not_white   No. Observations:                48074\n",
        "Model:                                 GEE   No. clusters:                      520\n",
        "Method:                        Generalized   Min. cluster size:                   1\n",
        "                      Estimating Equations   Max. cluster size:                 668\n",
        "Family:                           Binomial   Mean cluster size:                92.5\n",
        "Dependence structure:         Independence   Num. iterations:                     8\n",
        "Date:                     Mon, 20 Apr 2015   Scale:                           0.975\n",
        "Covariance type:                    robust   Time:                         11:06:59\n",
        "===============================================================================================\n",
        "                                  coef    std err          z      P>|z|      [95.0% Conf. Int.]\n",
        "-----------------------------------------------------------------------------------------------\n",
        "Intercept                      -0.9109      0.728     -1.251      0.211        -2.338     0.516\n",
        "gender[T.male]                  0.4623      0.042     10.919      0.000         0.379     0.545\n",
        "ccrb_wpowers                   -1.5424      0.440     -3.505      0.000        -2.405    -0.680\n",
        "ccrb_wpowers:gender[T.male]    -0.0069      0.262     -0.027      0.979        -0.521     0.507\n",
        "b_residents_percent             0.0829      0.009      9.222      0.000         0.065     0.101\n",
        "b_residents_percent_sq         -0.0007      0.000     -7.055      0.000        -0.001    -0.001\n",
        "w_residents_percent            -0.0250      0.006     -3.942      0.000        -0.037    -0.013\n",
        "inc_mean                        0.0106      0.003      3.344      0.001         0.004     0.017\n",
        "unemployed                     -0.0059      0.017     -0.357      0.721        -0.038     0.026\n",
        "==============================================================================\n",
        "Skew:                          0.8698   Kurtosis:                      -0.2004\n",
        "Centered skew:                 0.8142   Centered kurtosis:             -0.2101\n",
        "==============================================================================\n",
        "\"\"\""
       ]
      }
     ],
     "prompt_number": 49
    },
    {
     "cell_type": "code",
     "collapsed": false,
     "input": [
      "for i in range(len(results)):\n",
      "    print results[i].params[3], results[i].pvalues[3]"
     ],
     "language": "python",
     "metadata": {},
     "outputs": [
      {
       "output_type": "stream",
       "stream": "stdout",
       "text": [
        "0.000674454377665 0.801209200953\n",
        "0.0182946066485 0.00713030012868\n",
        "-4.81339207207e-07 0.031145068909\n",
        "-0.00385514042018 0.0250369163747\n",
        "-0.262866735459 0.0269373671942\n",
        "0.00136637525342 0.412383382483\n",
        "0.214831993002 0.110438206484\n",
        "0.267612321224 0.058654991715\n",
        "-0.0694911791747 0.521031475414\n",
        "0.231607593135 0.0448738374798\n",
        "-0.223779353225 0.0425797054533\n",
        "-0.117936569715 0.463632376814\n",
        "-0.0069485154416 0.978851388758\n"
       ]
      }
     ],
     "prompt_number": 35
    },
    {
     "cell_type": "code",
     "collapsed": true,
     "input": [
      "# numuoftot changes things\n",
      "clustered_logit(m2014[m2014['disorder'] == 1], 'black_not_white', 'w_officers_percent_calc',\n",
      "                    control_vars = controls + pd_controls + inc_controls).summary()"
     ],
     "language": "python",
     "metadata": {},
     "outputs": []
    },
    {
     "cell_type": "code",
     "collapsed": true,
     "input": [
      "dummy = 'disorder'\n",
      "refs = ['theft', 'auto_theft', 'robbery', 'ldisc', 'reactive']\n",
      "results = []\n",
      "control_groups = [controls, controls + fewpd_controls + inc_controls]\n",
      "\n",
      "for ref in refs:\n",
      "    for control_group in control_groups:\n",
      "        results.append(clustered_logit(m2014, 'black_not_white', 'w_officers_percent_calc',\n",
      "                        dummy + '_vs_' + ref, interact = True,\n",
      "                        control_vars = control_group))\n",
      "        \n",
      "mnames = ['Model 1', 'Model 2', 'Model 3', 'Model 4', 'Model 5', 'Model 6', 'Model 7',\n",
      "          'Model 8', 'Model 9', 'Model 10']\n",
      "info = {'N':lambda x: \"{0:,d}\".format(int(x.model.nobs)),\n",
      "        'Clusters':lambda x: \"{0:,d}\".format(int(x.model.num_group))}\n",
      "table = summary_col(results, model_names = mnames, info_dict = info, float_format='%.3f', stars = True)\n",
      "\n",
      "with open ('../../Figures_Output/Draft 2/tables/disorder_interact.tex', 'w') as mfile:\n",
      "    mfile.write(table.as_latex())"
     ],
     "language": "python",
     "metadata": {},
     "outputs": []
    },
    {
     "cell_type": "code",
     "collapsed": true,
     "input": [
      "# For main effect\n",
      "results = []\n",
      "\n",
      "# theft and robbery have no effects\n",
      "subsets = [m2014[m2014['disorder'] == 1], m2014[m2014['drunk_public'] == 1],\n",
      "           m2014[m2014['hdisc'] == 1], m2014[m2014['mar_poss'] == 1], m2014[m2014['coc_poss'] == 1]]\n",
      "control_groups = [controls, controls + fewpd_controls + inc_controls]\n",
      "\n",
      "for subset in subsets:\n",
      "    for control_group in control_groups:\n",
      "        results.append(clustered_logit(subset, 'black_not_white', 'w_officers_percent_calc',\n",
      "                                       control_vars = control_group))\n",
      "\n",
      "mnames = ['Model 1', 'Model 2', 'Model 3', 'Model 4', 'Model 5', 'Model 6', 'Model 7',\n",
      "          'Model 8', 'Model 9', 'Model 10']\n",
      "info = {'N':lambda x: \"{0:,d}\".format(int(x.model.nobs)),\n",
      "        'Clusters':lambda x: \"{0:,d}\".format(int(x.model.num_group))}\n",
      "table = summary_col(results, model_names = mnames, info_dict = info, float_format='%.3f', stars = True)\n",
      "\n",
      "with open ('../../Figures_Output/Draft 2/tables/main.tex', 'w') as mfile:\n",
      "    mfile.write(table.as_latex())"
     ],
     "language": "python",
     "metadata": {},
     "outputs": []
    },
    {
     "cell_type": "code",
     "collapsed": false,
     "input": [
      "for i in range(len(results)):\n",
      "    print results[i].params[1], results[i].pvalues[1]\n",
      "\n",
      "basic_coeffs = []\n",
      "basic_p = []\n",
      "controls_coeffs = []\n",
      "controls_p = []\n",
      "\n",
      "for i in range(len(results)):\n",
      "    # even-numbered models (odd in table) are with only basic controls\n",
      "    if i % 2 == 0:\n",
      "        basic_coeffs.append(results[i].params[1])\n",
      "        basic_p.append(results[i].pvalues[1])\n",
      "    # odd-numbered models (even in table) include inc and police controls\n",
      "    if i % 2 == 1:\n",
      "        controls_coeffs.append(results[i].params[1])\n",
      "        controls_p.append(results[i].pvalues[1])"
     ],
     "language": "python",
     "metadata": {},
     "outputs": []
    },
    {
     "cell_type": "code",
     "collapsed": false,
     "input": [
      "#numpy.mean(basic_coeffs)\n",
      "#numpy.mean(basic_p)\n",
      "\n",
      "#numpy.mean(controls_coeffs)\n",
      "numpy.mean(controls_p)"
     ],
     "language": "python",
     "metadata": {},
     "outputs": []
    },
    {
     "cell_type": "code",
     "collapsed": true,
     "input": [
      "dummy = 'disorder'\n",
      "ref = 'ldisc'\n",
      "clustered_logit(m2014, 'black_not_white', 'w_officers_percent_calc',\n",
      "                dummy + '_vs_' + ref, interact = True,\n",
      "                    control_vars = controls + fewpd_controls + inc_controls).summary()"
     ],
     "language": "python",
     "metadata": {},
     "outputs": []
    },
    {
     "cell_type": "code",
     "collapsed": false,
     "input": [
      "# For all offenses together - trying different subsests\n",
      "results = []\n",
      "\n",
      "subsets = [m2014, m2014[m2014['driving_vs_theft'].notnull()], m2014[m2014['disorder_vs_theft'].notnull()],\n",
      "           m2014[m2014['hdisc_vs_ldisc'].notnull()]]\n",
      "control_groups = [controls, controls + fewpd_controls + inc_controls]\n",
      "\n",
      "for subset in subsets:\n",
      "    for control_group in control_groups:\n",
      "        results.append(clustered_logit(subset, 'black_not_white', 'w_officers_percent_calc',\n",
      "                                       control_vars = control_group))\n",
      "\n",
      "# First two models are m2014, 3 and 4 are driving_vs_theft non-missing, etc.\n",
      "mnames = ['Model 1', 'Model 2', 'Model 3', 'Model 4', 'Model 5', 'Model 6', 'Model 7', 'Model 8']\n",
      "info = {'N':lambda x: \"{0:,d}\".format(int(x.model.nobs)),\n",
      "        'Clusters':lambda x: \"{0:,d}\".format(int(x.model.num_group))}\n",
      "table = summary_col(results, model_names = mnames, info_dict = info, float_format='%.3f', stars = True)\n",
      "\n",
      "#with open ('../../Figures_Output/Draft 2/tables/alloffs.tex', 'w') as mfile:\n",
      "#    mfile.write(table.as_latex())"
     ],
     "language": "python",
     "metadata": {},
     "outputs": []
    },
    {
     "cell_type": "code",
     "collapsed": false,
     "input": [
      "# To iterate through controls for a single dummy-ref pair\n",
      "dummy = 'disorder'\n",
      "ref = 'theft'\n",
      "results = []\n",
      "\n",
      "results.append(clustered_logit(m2014, 'black_not_white', 'w_officers_percent_calc',\n",
      "                        dummy + '_vs_' + ref, interact = False,\n",
      "                        control_vars = controls))\n",
      "\n",
      "for control_type in control_types:\n",
      "    results.append(clustered_logit(m2014, 'black_not_white', 'w_officers_percent_calc',\n",
      "                        dummy + '_vs_' + ref, interact = True,\n",
      "                        control_vars = control_type))\n",
      "\n",
      "mnames = ['Model 1', 'Model 2', 'Model 3', 'Model 4', 'Model 5']\n",
      "info = {'N':lambda x: \"{0:,d}\".format(int(x.model.nobs)),\n",
      "        'Clusters':lambda x: \"{0:,d}\".format(int(x.model.num_group))}\n",
      "table = summary_col(results, model_names = mnames, info_dict = info, float_format='%.3f', stars = True)\n",
      "\n",
      "#with open ('../Figures_Output/Draft 1/tables/discretion.tex', 'w') as mfile:\n",
      "#    mfile.write(table.as_latex())"
     ],
     "language": "python",
     "metadata": {},
     "outputs": []
    },
    {
     "cell_type": "code",
     "collapsed": false,
     "input": [
      "numpy.e ** (results[3].params[1] * 10)"
     ],
     "language": "python",
     "metadata": {},
     "outputs": []
    },
    {
     "cell_type": "code",
     "collapsed": false,
     "input": [
      "numpy.e ** (results[3].params[2])"
     ],
     "language": "python",
     "metadata": {},
     "outputs": []
    },
    {
     "cell_type": "code",
     "collapsed": false,
     "input": [
      "numpy.e ** (results[4].params[3] * 10)"
     ],
     "language": "python",
     "metadata": {},
     "outputs": []
    },
    {
     "cell_type": "code",
     "collapsed": false,
     "input": [
      "dummy = 'driving'\n",
      "results = []\n",
      "\n",
      "for ref in refs:\n",
      "    results.append(clustered_logit(m2014, 'black_not_white', 'w_officers_percent_calc',\n",
      "                    dummy + '_vs_' + ref, interact = True,\n",
      "                    control_vars = controls + inc_controls))\n",
      "\n",
      "for i in range(5):\n",
      "    print results[i].params[3], results[i].pvalues[3]"
     ],
     "language": "python",
     "metadata": {},
     "outputs": []
    },
    {
     "cell_type": "code",
     "collapsed": false,
     "input": [
      "results[1].summary()"
     ],
     "language": "python",
     "metadata": {},
     "outputs": []
    },
    {
     "cell_type": "code",
     "collapsed": false,
     "input": [
      "# To get the main effect\n",
      "dvs = ['driving','disorder', 'mar_poss','drunk_public','harass_stalk','theft','assault','robbery']\n",
      "results = []\n",
      "\n",
      "for dv in dvs:\n",
      "    for control_type in [controls, controls + fewpd_controls + inc_controls]:\n",
      "        results.append(clustered_logit(m2014[m2014[dv] == 1], 'black_not_white', 'w_officers_percent_calc',\n",
      "                            control_vars = control_type))\n",
      "\n",
      "#mnames = ['Model 1', 'Model 2', 'Model 3', 'Model 4', 'Model 5']\n",
      "#info = {'N':lambda x: \"{0:,d}\".format(int(x.model.nobs)),\n",
      "#        'Clusters':lambda x: \"{0:,d}\".format(int(x.model.num_group))}\n",
      "#table = summary_col(results, model_names = mnames, info_dict = info, float_format='%.3f', stars = True)\n",
      "\n",
      "for i in range(16):\n",
      "    print results[i].params[1], results[i].pvalues[1]\n",
      "\n",
      "#with open ('../Figures_Output/Draft 1/tables/discretion.tex', 'w') as mfile:\n",
      "#    mfile.write(table.as_latex())"
     ],
     "language": "python",
     "metadata": {},
     "outputs": []
    },
    {
     "cell_type": "code",
     "collapsed": false,
     "input": [
      "# To look at average coefficients and p-values\n",
      "basic_coeffs = {}\n",
      "pdcont_coeffs = {}\n",
      "\n",
      "# I could also get all possible control combinations\n",
      "\n",
      "for dummy in dummy_vars:\n",
      "    for ref in refs:\n",
      "        b_model = clustered_logit(m2014, 'black_not_white', 'w_officers_percent_calc',\n",
      "                                               dummy + '_vs_' + ref, interact = True,\n",
      "                                               control_vars = controls)\n",
      "        \n",
      "        basic_coeffs[(dummy, ref)] = b_model.params[3], b_model.pvalues[3]\n",
      "\n",
      "        c_model = clustered_logit(m2014, 'black_not_white', 'w_officers_percent_calc',\n",
      "                                               dummy + '_vs_' + ref, interact = True,\n",
      "                                               control_vars = controls + pd_controls)\n",
      "        \n",
      "        pdcont_coeffs[(dummy, ref)] = c_model.params[3], c_model.pvalues[3]"
     ],
     "language": "python",
     "metadata": {},
     "outputs": []
    },
    {
     "cell_type": "code",
     "collapsed": false,
     "input": [
      "# Average coefficient\n",
      "numpy.median([item [0] for item in basic_coeffs.values()])\n",
      "\n",
      "#numpy.median([item [1] for item in basic_coeffs.values()])"
     ],
     "language": "python",
     "metadata": {},
     "outputs": []
    },
    {
     "cell_type": "code",
     "collapsed": false,
     "input": [
      "# For theft/theft only - to see if it is GOOD to have White officers\n",
      "# Same thing as interpreting main effect of W officers in interaction models\n",
      "results = []\n",
      "\n",
      "for control_type in control_types:\n",
      "    results.append(clustered_logit(m2014[m2014['theft'] == 1], 'black_not_white',\n",
      "                                   'w_officers_percent_calc',\n",
      "                        control_vars = control_type))\n",
      "\n",
      "mnames = ['Model 1', 'Model 2', 'Model 3', 'Model 4', 'Model 5']\n",
      "info = {'N':lambda x: \"{0:,d}\".format(int(x.model.nobs)),\n",
      "        'Clusters':lambda x: \"{0:,d}\".format(int(x.model.num_group))}\n",
      "table = summary_col(results, model_names = mnames, info_dict = info, float_format='%.3f', stars = True)\n",
      "\n",
      "with open ('../Figures_Output/Draft 1/tables/theft.tex', 'w') as mfile:\n",
      "    mfile.write(table.as_latex())"
     ],
     "language": "python",
     "metadata": {},
     "outputs": []
    },
    {
     "cell_type": "heading",
     "level": 4,
     "metadata": {},
     "source": [
      "Weight"
     ]
    },
    {
     "cell_type": "code",
     "collapsed": true,
     "input": [
      "# Weight to correct for missing arrests as compared to federal data\n",
      "#ucr_weight_normalized"
     ],
     "language": "python",
     "metadata": {},
     "outputs": []
    }
   ],
   "metadata": {}
  }
 ]
}