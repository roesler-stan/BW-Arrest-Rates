{
 "metadata": {
  "name": "",
  "signature": "sha256:ecfc254baa7b32710fe1daff2932256ec307368b49fc7c8a9e868ffb7d24083e"
 },
 "nbformat": 3,
 "nbformat_minor": 0,
 "worksheets": [
  {
   "cells": [
    {
     "cell_type": "code",
     "collapsed": true,
     "input": [
      "import pandas\n",
      "import numpy\n",
      "import Setup_Datasets as su\n",
      "import Analysis_Prep as ap\n",
      "import statsmodels.formula.api as sm\n",
      "from statsmodels.iolib.summary2 import summary_col\n",
      "import statsmodels.genmod.generalized_estimating_equations as sgm\n",
      "import statsmodels.genmod.generalized_linear_model as glm\n",
      "from patsy import Treatment\n",
      "from scipy.stats import pearsonr"
     ],
     "language": "python",
     "metadata": {},
     "outputs": []
    },
    {
     "cell_type": "code",
     "collapsed": false,
     "input": [
      "dataset = su.setup('mugshots', '../Data/SQL Output/Subqueries/arrests_2014.csv', quoting = '\"',\n",
      "                   memory = False)\n",
      "\n",
      "dataset, d2014, m2014, f2014 = ap.analysis_prep(dataset)"
     ],
     "language": "python",
     "metadata": {},
     "outputs": [],
     "prompt_number": 2
    },
    {
     "cell_type": "heading",
     "level": 4,
     "metadata": {},
     "source": [
      "County-Level Data"
     ]
    },
    {
     "cell_type": "code",
     "collapsed": true,
     "input": [
      "# To weight larger counties more\n",
      "m2014_counties = m2014.groupby('county_no')\n",
      "m2014_counties = m2014_counties.mean().reset_index()\n",
      "\n",
      "m2014_counties['total_residents_1000s'] = m2014_counties['total_residents'] / 1000\n",
      "m2014_counties['residents_normalized'] = m2014_counties['total_residents_1000s'] / \\\n",
      "    m2014_counties['total_residents_1000s'].mean()"
     ],
     "language": "python",
     "metadata": {},
     "outputs": []
    },
    {
     "cell_type": "code",
     "collapsed": true,
     "input": [
      "# Once again, wofficers_minusres is more sig. than w_officers_percent_calc\n",
      "# Before removing small counties, 661 left, but only N = 518 used (548 with b/w race)\n",
      "mod1 = sm.ols(formula = 'black_not_white ~ w_officers_percent_calc'\n",
      "       '+ b_residents_percent + b_residents_percent_sq', \\\n",
      "       data = m2014_counties).fit()\n",
      "\n",
      "mod2 = sm.ols(formula = 'black_not_white ~ w_officers_percent_calc'\n",
      "       '+ b_residents_percent + b_residents_percent_sq'\n",
      "       '+ inc_mean + unemployed', \\\n",
      "       data = m2014_counties).fit()\n",
      "\n",
      "# Controlling for county size\n",
      "mod3 = sm.ols(formula = 'black_not_white ~ w_officers_percent_calc'\n",
      "       '+ b_residents_percent + b_residents_percent_sq'\n",
      "       '+ inc_mean + unemployed + total_residents_1000s', \\\n",
      "       data = m2014_counties).fit()"
     ],
     "language": "python",
     "metadata": {},
     "outputs": []
    },
    {
     "cell_type": "code",
     "collapsed": false,
     "input": [
      "# Applying weight for county size\n",
      "# Suddenly, percent officers white is significant (although not very large)\n",
      "mod4 = sm.wls(formula = 'black_not_white ~ w_officers_percent_calc'\n",
      "       '+ b_residents_percent + b_residents_percent_sq'\n",
      "       '+ inc_mean + unemployed', \\\n",
      "       data = m2014_counties, weights = 1./m2014_counties['residents_normalized']).fit()\n",
      "\n",
      "mod5 = sm.wls(formula = 'black_not_white ~ w_officers_percent_calc'\n",
      "       '+ b_residents_percent + b_residents_percent_sq'\n",
      "       '+ inc_mean + unemployed + total_residents_1000s', \\\n",
      "       data = m2014_counties, weights = 1./m2014_counties['residents_normalized']).fit()"
     ],
     "language": "python",
     "metadata": {},
     "outputs": []
    },
    {
     "cell_type": "heading",
     "level": 4,
     "metadata": {},
     "source": [
      "National Level"
     ]
    },
    {
     "cell_type": "code",
     "collapsed": true,
     "input": [
      "# Males arrested at the national level - don't do all vars b/c takes forever\n",
      "m2014_national = m2014[['black_not_white','black', 'white', 'am ind', 'hispanic', 'asian',\n",
      "                        'b_residents','w_residents', 'total_residents']].mean()\n",
      "m2014_national\n",
      "\n",
      "# Proportion arrestees black divided by proportion residents black\n",
      "b_ator = m2014_national[1] / (m2014_national[6] / m2014_national[8])\n",
      "# Proportion arrestees white divided by proportion residents white\n",
      "w_ator = m2014_national[2] / (m2014_national[7] / m2014_national[8])\n",
      "# BW AtoR is 2.4, comparable to but smaller than UCR\n",
      "b_ator / w_ator"
     ],
     "language": "python",
     "metadata": {},
     "outputs": []
    },
    {
     "cell_type": "code",
     "collapsed": false,
     "input": [
      "# Both genders arrested at the national level\n",
      "d2014_national = d2014[['black_not_white','black', 'white', 'am ind', 'hispanic', 'asian',\n",
      "                        'b_residents','w_residents', 'total_residents']].mean()\n",
      "d2014_national\n",
      "\n",
      "# Proportion arrestees black divided by proportion residents black\n",
      "b_ator = d2014_national[1] / (d2014_national[6] / d2014_national[8])\n",
      "# Proportion arrestees white divided by proportion residents white\n",
      "w_ator = d2014_national[2] / (d2014_national[7] / d2014_national[8])\n",
      "# BW AtoR is 2.18, comparable to but smaller than UCR\n",
      "b_ator / w_ator"
     ],
     "language": "python",
     "metadata": {},
     "outputs": []
    },
    {
     "cell_type": "code",
     "collapsed": false,
     "input": [
      "# Both genders arrested at the national level - with weights based on UCR arrests\n",
      "d2014 = d2014 * d2014['ucr_weight_normalized']\n",
      "d2014_national = d2014[['black_not_white','black', 'white', 'am ind', 'hispanic', 'asian',\n",
      "                        'b_residents','w_residents', 'total_residents']].mean()\n",
      "d2014_national\n",
      "\n",
      "b_ator = d2014_national[1] / (d2014_national[6] / d2014_national[8])\n",
      "w_ator = d2014_national[2] / (d2014_national[7] / d2014_national[8])\n",
      "# BW AtoR \n",
      "b_ator / w_ator\n",
      "\n",
      "# Need to check gender rates to compare to UCR data, but for now don't have gender by county from ACS"
     ],
     "language": "python",
     "metadata": {},
     "outputs": []
    }
   ],
   "metadata": {}
  }
 ]
}