{
 "cells": [
  {
   "cell_type": "markdown",
   "metadata": {},
   "source": [
    "### Plot provider cost predictions and residuals"
   ]
  },
  {
   "cell_type": "code",
   "execution_count": 1,
   "metadata": {
    "collapsed": false,
    "scrolled": true
   },
   "outputs": [
    {
     "name": "stderr",
     "output_type": "stream",
     "text": [
      "/usr/local/lib/python2.7/site-packages/matplotlib/__init__.py:872: UserWarning: axes.color_cycle is deprecated and replaced with axes.prop_cycle; please use the latter.\n",
      "  warnings.warn(self.msg_depr % (key, alt_key))\n"
     ]
    }
   ],
   "source": [
    "import pandas as pd\n",
    "import requests, zipfile, io\n",
    "from bokeh.charts import Bar, Scatter, output_notebook, show, output_file\n",
    "from bokeh.charts.attributes import CatAttr, color\n",
    "from bokeh.models import HoverTool, Range1d, Span, LabelSet, ColumnDataSource, Title, NumeralTickFormatter\n",
    "from bokeh.models.widgets import Panel, Tabs\n",
    "from bokeh.models.glyphs import Text\n",
    "from bokeh.plotting import figure\n",
    "from bokeh.palettes import PuOr5, RdYlBu10\n",
    "import statsmodels.api as sm\n",
    "lowess = sm.nonparametric.lowess"
   ]
  },
  {
   "cell_type": "markdown",
   "metadata": {},
   "source": [
    "### Read the zipped file"
   ]
  },
  {
   "cell_type": "code",
   "execution_count": 4,
   "metadata": {
    "collapsed": false
   },
   "outputs": [
    {
     "name": "stderr",
     "output_type": "stream",
     "text": [
      "/usr/local/lib/python2.7/site-packages/IPython/core/interactiveshell.py:2902: DtypeWarning: Columns (12,24,57,143,149,210,212,241,255) have mixed types. Specify dtype option on import or set low_memory=False.\n",
      "  interactivity=interactivity, compiler=compiler, result=result)\n"
     ]
    }
   ],
   "source": [
    "df = pd.read_csv('../../Data/offenders_2013_caplg_ucr_clean2.csv', nrows = 100000)"
   ]
  },
  {
   "cell_type": "code",
   "execution_count": 8,
   "metadata": {
    "collapsed": false
   },
   "outputs": [
    {
     "data": {
      "text/plain": [
       "array([ nan])"
      ]
     },
     "execution_count": 8,
     "metadata": {},
     "output_type": "execute_result"
    }
   ],
   "source": [
    "df['bofficers_divres'].unique()"
   ]
  },
  {
   "cell_type": "code",
   "execution_count": null,
   "metadata": {
    "collapsed": false
   },
   "outputs": [],
   "source": [
    "df = pd.read_csv('../../Data/offenders_2013_caplg_ucr_clean2.csv')\n",
    "# r = requests.get('http://crimedata.io/data/offenders_2013_caplg_ucr_clean2.csv.zip')\n",
    "# z = zipfile.ZipFile(io.BytesIO(r.content))\n",
    "# df = pd.read_csv(z.open('offenders_2013_caplg_ucr_clean2.csv'))\n",
    "# Fix an issue in the data (wofficers_divres was missing)\n",
    "df['wofficers_divres'] = df['w_officers_percent'] / df['w_residents_percent']\n",
    "# Only include men\n",
    "df = df[df['sex'] == 'male']"
   ]
  },
  {
   "cell_type": "code",
   "execution_count": null,
   "metadata": {
    "collapsed": false
   },
   "outputs": [],
   "source": [
    "df['race'].value_counts()"
   ]
  },
  {
   "cell_type": "code",
   "execution_count": null,
   "metadata": {
    "collapsed": false
   },
   "outputs": [],
   "source": [
    "df['ethnicity'].value_counts()"
   ]
  },
  {
   "cell_type": "markdown",
   "metadata": {},
   "source": [
    "#### Define the offenses beforehand, choose colors for plotting"
   ]
  },
  {
   "cell_type": "code",
   "execution_count": null,
   "metadata": {
    "collapsed": true
   },
   "outputs": [],
   "source": [
    "offenses = ['robbery', 'aggravated_assault', 'simple_assault', 'intimidation', 'weapon',\n",
    "            'shoplifting', 'vandalism', 'drugs_narcotics', 'drug_equipment']\n",
    "\n",
    "black_color = PuOr5[-1]\n",
    "white_color = PuOr5[0]"
   ]
  },
  {
   "cell_type": "code",
   "execution_count": null,
   "metadata": {
    "collapsed": false
   },
   "outputs": [],
   "source": [
    "percent_black = pd.DataFrame()\n",
    "for offense in offenses:\n",
    "    subset = df[df['offense_' + offense] == 1]\n",
    "    non_arrested_subset = subset[subset['arrested'] == 0]\n",
    "    arrested_subset = subset[subset['arrested'] == 1]\n",
    "    arrested_sameday = arrested_subset[arrested_subset['incident_to_arrest_days'] == 0]\n",
    "    arrested_otherday = arrested_subset[arrested_subset['incident_to_arrest_days'] > 0]\n",
    "\n",
    "    non_arrestees_black = non_arrested_subset['black_not_white'].mean()\n",
    "    arrestees_black = arrested_subset['black_not_white'].mean()\n",
    "    arrestees_black_sameday = arrested_sameday['black_not_white'].mean()\n",
    "    arrestees_black_otherday = arrested_otherday['black_not_white'].mean()\n",
    "    \n",
    "    row1 = {'offense': offense, 'type': 'Non-Arrested Offenders', 'percent_black': non_arrestees_black}\n",
    "    row2 = {'offense': offense, 'type': 'Arrested Offenders', 'percent_black': arrestees_black}\n",
    "    row3 = {'offense': offense, 'type': 'Arrested Same Day', 'percent_black': arrestees_black_sameday}\n",
    "    row4 = {'offense': offense, 'type': 'Arrested Other Day', 'percent_black': arrestees_black_otherday}\n",
    "    percent_black = percent_black.append(row1, ignore_index = True)\n",
    "    percent_black = percent_black.append(row2, ignore_index = True)\n",
    "    percent_black = percent_black.append(row3, ignore_index = True)\n",
    "    percent_black = percent_black.append(row4, ignore_index = True)\n",
    "\n",
    "percent_black['offense'] = percent_black['offense'].str.replace('_', ' ')\n",
    "percent_black['offense'] = percent_black['offense'].str.title()\n",
    "percent_black['percent_black'] = (percent_black['percent_black'] * 100).round(0)"
   ]
  },
  {
   "cell_type": "code",
   "execution_count": null,
   "metadata": {
    "collapsed": true
   },
   "outputs": [],
   "source": [
    "p = Bar(percent_black, label=CatAttr(columns=['offense'], sort=False), values='percent_black',\n",
    "         group = \"type\", legend = \"top_right\", tools=\"previewsave\", height=550, width=1200,\n",
    "        title=\"Percent of Male Offenders who are Black\", xlabel=\"Offense\", ylabel=\"Percent Black\")\n",
    "# Fix bar width issue\n",
    "for r in p.renderers:\n",
    "    try:\n",
    "        r.glyph.width = 0.10\n",
    "    except AttributeError:\n",
    "        pass\n",
    "\n",
    "# Horizontal line showing % of US population that is black (13%) - sample is 13.0% black\n",
    "hline = Span(location=13, dimension='width', line_color='gray', line_width=2, line_dash=[4,4])\n",
    "p.renderers.extend([hline])\n",
    "\n",
    "msg = \"\"\"Note: Data are from 2013 NIBRS, and only male offenders are included.  The dashed gray line shows the percentage of the US population that is black (13).\"\"\"\n",
    "caption = Title(text=msg, align='left', text_font_size='8pt')\n",
    "p.add_layout(caption, 'below')\n",
    "\n",
    "output_file(\"output/percent_black.html\")\n",
    "show(p)"
   ]
  },
  {
   "cell_type": "code",
   "execution_count": null,
   "metadata": {
    "collapsed": false
   },
   "outputs": [],
   "source": [
    "percent_black_subset = percent_black[percent_black['type'].isin(['Non-Arrested Offenders', 'Arrested Offenders'])]\n",
    "p = Bar(percent_black_subset, label=CatAttr(columns=['offense'], sort=False), values='percent_black',\n",
    "         group = \"type\", legend = \"top_right\", tools=\"previewsave\", height=550, width=1200,\n",
    "        title=\"Percent of Offenders who are Black\", xlabel=\"Offense\", ylabel=\"Percent Black\")\n",
    "# Fix bar width issue\n",
    "for r in p.renderers:\n",
    "    try:\n",
    "        r.glyph.width = 0.333\n",
    "    except AttributeError:\n",
    "        pass\n",
    "\n",
    "# Horizontal line showing % of US population that is black (13%) - sample is 13.0% black\n",
    "hline = Span(location=13, dimension='width', line_color='gray', line_width=2, line_dash=[4,4])\n",
    "p.renderers.extend([hline])\n",
    "\n",
    "msg = \"\"\"Note: Data are from 2013 NIBRS, and only male offenders are included.  The dashed gray line shows the percentage of the US population that is black (13).\"\"\"\n",
    "caption = Title(text=msg, align='left', text_font_size='8pt')\n",
    "p.add_layout(caption, 'below')\n",
    "\n",
    "output_file(\"output/percent_black_simple.html\")\n",
    "show(p)"
   ]
  },
  {
   "cell_type": "markdown",
   "metadata": {},
   "source": [
    "### What percentage of arrests are on the same same versus another day as the offense?"
   ]
  },
  {
   "cell_type": "code",
   "execution_count": null,
   "metadata": {
    "collapsed": true
   },
   "outputs": [],
   "source": [
    "percent_same = pd.DataFrame()\n",
    "for offense in offenses:\n",
    "    subset = df[df['offense_' + offense] == 1]\n",
    "    arrested_subset = subset[subset['arrested'] == 1]\n",
    "    arrested_sameday = arrested_subset[arrested_subset['incident_to_arrest_days'] == 0]\n",
    "    arrested_otherday = arrested_subset[arrested_subset['incident_to_arrest_days'] > 0]\n",
    "\n",
    "    sameday = arrested_sameday.groupby('black_not_white')['arrested'].sum().reset_index()\n",
    "    otherday = arrested_otherday.groupby('black_not_white')['arrested'].sum().reset_index()\n",
    "    subset_data = sameday.merge(otherday, on = ['black_not_white'], how = 'inner', suffixes = ['_same', '_other'])\n",
    "    \n",
    "    subset_data['percent_same'] = subset_data['arrested_same'] / (subset_data['arrested_same'] + subset_data['arrested_other'])\n",
    "    subset_data['offense'] = offense\n",
    "    \n",
    "    percent_same = percent_same.append(subset_data, ignore_index = True)\n",
    "\n",
    "percent_same['offense'] = percent_same['offense'].str.replace('_', ' ')\n",
    "percent_same['offense'] = percent_same['offense'].str.title()\n",
    "percent_same['percent_same'] = (percent_same['percent_same'] * 100).round(0)\n",
    "percent_same.loc[percent_same['black_not_white'] == 1, 'black_not_white_text'] = 'Black'\n",
    "percent_same.loc[percent_same['black_not_white'] == 0, 'black_not_white_text'] = 'White'"
   ]
  },
  {
   "cell_type": "code",
   "execution_count": null,
   "metadata": {
    "collapsed": false
   },
   "outputs": [],
   "source": [
    "p = Bar(percent_same, label=CatAttr(columns=['offense'], sort=False), values='percent_same',\n",
    "         group = \"black_not_white_text\", legend = \"top_left\", tools=\"resize,reset,previewsave\", height=600, width=900,\n",
    "        title=\"Percent of Arrests on Same Day as Offense\", xlabel=\"Offense\", ylabel=\"Percent of Arrests Same Day\",\n",
    "       color = color(columns='black_not_white_text', palette=[black_color, white_color]))\n",
    "# Fix bar width issue\n",
    "for r in p.renderers:\n",
    "    try:\n",
    "        r.glyph.width = 0.33\n",
    "    except AttributeError:\n",
    "        pass\n",
    "\n",
    "msg = \"\"\"Note: Data are from 2013 NIBRS, and only male offenders are included.\"\"\"\n",
    "caption = Title(text=msg, align='left', text_font_size='8pt')\n",
    "p.add_layout(caption, 'below')\n",
    "\n",
    "output_file(\"output/percent_sameday.html\")\n",
    "show(p)"
   ]
  },
  {
   "cell_type": "markdown",
   "metadata": {},
   "source": [
    "##### White offenders are more likely than black offenders to have same-day arrests for more serious offenses with less officer discretion, but less likely to have same-day arrests for less serious offenses."
   ]
  },
  {
   "cell_type": "markdown",
   "metadata": {},
   "source": [
    "### How do these percentages compare to those in Uniform Crime Reports (UCR) data?"
   ]
  },
  {
   "cell_type": "code",
   "execution_count": null,
   "metadata": {
    "collapsed": false
   },
   "outputs": [],
   "source": [
    "ucr_data = df.groupby('ori')['ucr13_black_arrests_percent'].mean().reset_index()\n",
    "ucr_total = df.groupby('ori')['ucr13_total_arrests'].mean().reset_index()\n",
    "ucr_data = ucr_data.merge(ucr_total, on = ['ori'], how = 'inner')\n",
    "ucr_data['ucr13_black_arrests'] = ucr_data['ucr13_black_arrests_percent'] * ucr_data['ucr13_total_arrests']\n",
    "ucr_data['ucr13_black_arrests'].sum() / ucr_data['ucr13_total_arrests'].sum()"
   ]
  },
  {
   "cell_type": "markdown",
   "metadata": {},
   "source": [
    "##### About 27% percent of people arrested in this samples' agencies were black, according to 2013 UCR.  This includes both men and women.  For a more detailed analysis of UCR data, please see the UCR notebook."
   ]
  },
  {
   "cell_type": "markdown",
   "metadata": {},
   "source": [
    "### What percentage of black and white offenders are arrested?"
   ]
  },
  {
   "cell_type": "code",
   "execution_count": null,
   "metadata": {
    "collapsed": false
   },
   "outputs": [],
   "source": [
    "arrest_rates = pd.DataFrame()\n",
    "for offense in offenses:\n",
    "    subset = df[df['offense_' + offense] == 1]\n",
    "    \n",
    "    arrested_byagency = subset.groupby(['ori', 'black_not_white'])['arrested'].mean().reset_index()\n",
    "    arrested_byagency = arrested_byagency.groupby('black_not_white')['arrested'].mean().reset_index()\n",
    "    arrested_byagency = arrested_byagency.rename(columns = {'arrested': 'arrested_byagency'})\n",
    "    \n",
    "    arrested = subset.groupby('black_not_white')['arrested'].mean().reset_index()\n",
    "    arrested = arrested.merge(arrested_byagency, on = ['black_not_white'])\n",
    "    arrested['offense'] = offense\n",
    "\n",
    "    arrest_rates = arrest_rates.append(arrested, ignore_index = True)\n",
    "    \n",
    "arrest_rates.loc[arrest_rates['black_not_white'] == 1, 'black_not_white_text'] = 'Black'\n",
    "arrest_rates.loc[arrest_rates['black_not_white'] == 0, 'black_not_white_text'] = 'White'\n",
    "\n",
    "arrest_rates['offense'] = arrest_rates['offense'].str.replace('_', ' ')\n",
    "arrest_rates['offense'] = arrest_rates['offense'].str.title()\n",
    "\n",
    "arrest_rates['arrested'] = (arrest_rates['arrested'] * 100).round(1)\n",
    "arrest_rates['arrested_byagency'] = (arrest_rates['arrested_byagency'] * 100).round(1)"
   ]
  },
  {
   "cell_type": "code",
   "execution_count": null,
   "metadata": {
    "collapsed": false
   },
   "outputs": [],
   "source": [
    "p1 = Bar(arrest_rates, label=CatAttr(columns=['offense'], sort=False),\n",
    "         values='arrested', group='black_not_white_text', legend='top_left', tools=\"previewsave\",\n",
    "         title=\"Percent Offenders Arrested by Race and Offense\", xlabel=\"Offense\", ylabel=\"Percent Arrested\",\n",
    "         color = color(columns='black_not_white', palette=[black_color, white_color]))\n",
    "p1.y_range = Range1d(0, 95)\n",
    "# Fix bar width issue\n",
    "for r in p1.renderers:\n",
    "    try:\n",
    "        r.glyph.width = 0.3\n",
    "    except AttributeError:\n",
    "        pass\n",
    "\n",
    "p2 = Bar(arrest_rates, label=CatAttr(columns=['offense'], sort=False),\n",
    "         values='arrested_byagency', group='black_not_white_text', legend='top_left',\n",
    "         title=\"Agencies' Percent Offenders Arrested by Race and Offense\", xlabel=\"Offense\", ylabel=\"Agencies' Percent Arrested\",\n",
    "         tools=\"previewsave\", color = color(columns='black_not_white', palette=[black_color, white_color]))\n",
    "p2.y_range = Range1d(0, 95)\n",
    "# Fix bar width issue\n",
    "for r in p2.renderers:\n",
    "    try:\n",
    "        r.glyph.width = 0.3\n",
    "    except AttributeError:\n",
    "        pass\n",
    "\n",
    "source_arrests_black = ColumnDataSource(arrest_rates[arrest_rates['black_not_white_text'] == 'Black'])\n",
    "source_arrests_white = ColumnDataSource(arrest_rates[arrest_rates['black_not_white_text'] == 'White'])\n",
    "\n",
    "offender_labels_white = LabelSet(x=\"offense\", y=\"arrested\", text=\"arrested\", y_offset=8, x_offset=-11,\n",
    "                  text_font_size=\"8pt\", text_color=\"#555555\", source=source_arrests_white, text_align='center')\n",
    "offender_labels_black = LabelSet(x=\"offense\", y=\"arrested\", text=\"arrested\", y_offset=8, x_offset=11,\n",
    "                  text_font_size=\"8pt\", text_color=\"#555555\", source=source_arrests_black, text_align='center')\n",
    "p1.add_layout(offender_labels_white)\n",
    "p1.add_layout(offender_labels_black)\n",
    "\n",
    "agency_labels_white = LabelSet(x=\"offense\", y=\"arrested_byagency\", text=\"arrested_byagency\", y_offset=8, x_offset=-11,\n",
    "                  text_font_size=\"8pt\", text_color=\"#555555\", source=source_arrests_white, text_align='center')\n",
    "agency_labels_black = LabelSet(x=\"offense\", y=\"arrested_byagency\", text=\"arrested_byagency\", y_offset=8, x_offset=11,\n",
    "                  text_font_size=\"8pt\", text_color=\"#555555\", source=source_arrests_black, text_align='center')\n",
    "p2.add_layout(agency_labels_white)\n",
    "p2.add_layout(agency_labels_black)\n",
    "\n",
    "msg = \"\"\"Note: Data are from 2013 NIBRS, and only male offenders are included.\"\"\"\n",
    "# Make two copies intentionlly\n",
    "caption1 = Title(text=msg, align='left', text_font_size='8pt')\n",
    "caption2 = Title(text=msg, align='left', text_font_size='8pt')\n",
    "p1.add_layout(caption1, 'below')\n",
    "p2.add_layout(caption2, 'below')\n",
    "\n",
    "tab1_arrested = Panel(child=p1, title=\"Offender\")\n",
    "tab2_arrested = Panel(child=p2, title=\"Agency\")\n",
    "tabs_arrested = Tabs(tabs=[ tab1_arrested, tab2_arrested ])\n",
    "\n",
    "output_file(\"output/percent_arrested.html\")\n",
    "show(tabs_arrested)"
   ]
  },
  {
   "cell_type": "markdown",
   "metadata": {},
   "source": [
    "### Do \"Whiter\" agencies have higher arrest rates for black offenders, or lower arrest rates for white offenders?"
   ]
  },
  {
   "cell_type": "code",
   "execution_count": null,
   "metadata": {
    "collapsed": false
   },
   "outputs": [],
   "source": [
    "tabs_list = []\n",
    "for offense in offenses:\n",
    "    offense_title = offense.replace('_', ' ').title()\n",
    "    subset = df[df['offense_' + offense] == 1]\n",
    "    subset['arrested'] = subset['arrested'] * 100\n",
    "    subset_black = subset[subset['black_not_white'] == 1]\n",
    "    subset_white = subset[subset['black_not_white'] == 0]\n",
    "    agg_data = subset.groupby(['ori', 'black_not_white'])[['arrested', 'w_officers_percent']].mean().reset_index()\n",
    "    black_data = agg_data[agg_data['black_not_white'] == 1]\n",
    "    white_data = agg_data[agg_data['black_not_white'] == 0]\n",
    "\n",
    "    predictions_black = pd.DataFrame(lowess(black_data['arrested'], black_data['w_officers_percent']))\n",
    "    predictions_white = pd.DataFrame(lowess(white_data['arrested'], white_data['w_officers_percent']))\n",
    "    \n",
    "    p = figure(tools=\"resize,reset,previewsave\", title=\"Percent of Offenders Arrested\",\n",
    "              height=600, width=600)\n",
    "    p.scatter(black_data['w_officers_percent'], black_data['arrested'], fill_color=black_color, line_color=None, legend=\"Black\")\n",
    "    p.scatter(white_data['w_officers_percent'], white_data['arrested'], fill_color=white_color, line_color=None, legend=\"White\")\n",
    "    p.line(x = predictions_black[0], y = predictions_black[1], color = black_color, line_width=2)\n",
    "    p.line(x = predictions_white[0], y = predictions_white[1], color = white_color, line_width=2)\n",
    "    p.xaxis.axis_label = \"Percent Officers White\"\n",
    "    p.yaxis.axis_label = \"Percent of Offenders Arrested\"\n",
    "    p.y_range = Range1d(-1, 101)\n",
    "    p.x_range = Range1d(-1, 101)\n",
    "    p.legend[0].location = \"top_left\"\n",
    "    tab = Panel(child=p, title=offense_title)\n",
    "    tabs_list.append(tab)\n",
    "    msg = \"\"\"Note: Data are from 2013 NIBRS and LEMAS, and only male offenders are included.\"\"\"\n",
    "    caption = Title(text=msg, align='left', text_font_size='8pt')\n",
    "    p.add_layout(caption, 'below')\n",
    "\n",
    "tabs_object = Tabs(tabs=tabs_list)\n",
    "output_file(\"output/arrested_wofficers_byagency.html\")\n",
    "show(tabs_object)"
   ]
  },
  {
   "cell_type": "markdown",
   "metadata": {},
   "source": [
    "### Do disproportionately White agencies have higher arrest rates for black offenders, or lower arrest rates for white offenders?"
   ]
  },
  {
   "cell_type": "code",
   "execution_count": null,
   "metadata": {
    "collapsed": false
   },
   "outputs": [],
   "source": [
    "tabs_list = []\n",
    "for offense in offenses:\n",
    "    offense_title = offense.replace('_', ' ').title()\n",
    "    subset = df[df['offense_' + offense] == 1]\n",
    "    subset['arrested'] = subset['arrested'] * 100\n",
    "    subset_black = subset[subset['black_not_white'] == 1]\n",
    "    subset_white = subset[subset['black_not_white'] == 0]\n",
    "    agg_data = subset.groupby(['ori', 'black_not_white'])[['arrested', 'wofficers_divres']].mean().reset_index()\n",
    "    black_data = agg_data[agg_data['black_not_white'] == 1]\n",
    "    white_data = agg_data[agg_data['black_not_white'] == 0]\n",
    "\n",
    "    predictions_black = pd.DataFrame(lowess(black_data['arrested'], black_data['wofficers_divres']))\n",
    "    predictions_white = pd.DataFrame(lowess(white_data['arrested'], white_data['wofficers_divres']))\n",
    "    \n",
    "    p = figure(tools=\"resize,reset,previewsave\", title=\"Percent of Offenders Arrested by Race and Officer Racial Demographics\",\n",
    "               height=600, width=600)\n",
    "    p.scatter(black_data['wofficers_divres'], black_data['arrested'], fill_color=black_color, line_color=None, legend=\"Black\")\n",
    "    p.scatter(white_data['wofficers_divres'], white_data['arrested'], fill_color=white_color, line_color=None, legend=\"White\")\n",
    "    p.line(x = predictions_black[0], y = predictions_black[1], color = black_color, line_width=2)\n",
    "    p.line(x = predictions_white[0], y = predictions_white[1], color = white_color, line_width=2)\n",
    "    p.xaxis.axis_label = \"Percent Officers / Residents White\"\n",
    "    p.yaxis.axis_label = \"Percent of Offenders Arrested\"\n",
    "    p.y_range = Range1d(-1, 101)\n",
    "    p.legend[0].location = \"top_left\"\n",
    "    tab = Panel(child=p, title=offense_title)\n",
    "    tabs_list.append(tab)\n",
    "    msg = \"\"\"Note: Data are from 2013 NIBRS, LEMAS, and ACS. Only male offenders are included.\"\"\"\n",
    "    caption = Title(text=msg, align='left', text_font_size='8pt')\n",
    "    p.add_layout(caption, 'below')\n",
    "\n",
    "    # Vertical line showing where % officers / residents is 1 (equal percentages)\n",
    "    vline = Span(location=1, dimension='height', line_color='gray', line_width=2, line_dash=[4,4])\n",
    "    p.renderers.extend([vline])\n",
    "    \n",
    "tabs_object = Tabs(tabs=tabs_list)\n",
    "output_file(\"output/arrested_wofficers_divres_byagency.html\")\n",
    "show(tabs_object)"
   ]
  },
  {
   "cell_type": "markdown",
   "metadata": {},
   "source": [
    "### Are offenders disproportionately black in disproportionately White agencies?"
   ]
  },
  {
   "cell_type": "code",
   "execution_count": null,
   "metadata": {
    "collapsed": false
   },
   "outputs": [],
   "source": [
    "tabs_list = []\n",
    "for offense in offenses:\n",
    "    offense_title = offense.replace('_', ' ').title()\n",
    "    subset = df[df['offense_' + offense] == 1]\n",
    "    subset['black_not_white'] = subset['black_not_white'] * 100\n",
    "    subset_arrested = subset[subset['arrested'] == 1]\n",
    "    offenders_data = subset.groupby('ori')[['black_not_white', 'wofficers_divres']].mean().reset_index()\n",
    "    arrested_data = subset_arrested.groupby('ori')[['black_not_white', 'wofficers_divres']].mean().reset_index()\n",
    "\n",
    "    predictions_offenders = pd.DataFrame(lowess(offenders_data['black_not_white'], offenders_data['wofficers_divres']))\n",
    "    predictions_arrested = pd.DataFrame(lowess(arrested_data['black_not_white'], arrested_data['wofficers_divres']))\n",
    "    \n",
    "    p = figure(tools=\"resize,reset,previewsave\", title=\"Percent of Offenders Black by Officer Racial Demographics\",\n",
    "               height=600, width=600)\n",
    "    p.scatter(offenders_data['wofficers_divres'], offenders_data['black_not_white'], fill_color=RdYlBu10[-2], line_color=None, legend=\"All Offenders\")\n",
    "    p.scatter(arrested_data['wofficers_divres'], arrested_data['black_not_white'], fill_color=RdYlBu10[1], line_color=None, legend=\"Arrested Offenders\")\n",
    "    p.line(x = predictions_offenders[0], y = predictions_offenders[1], color = RdYlBu10[-2], line_width=2)\n",
    "    p.line(x = predictions_arrested[0], y = predictions_arrested[1], color = RdYlBu10[1], line_width=2)\n",
    "    p.xaxis.axis_label = \"Percent Officers / Residents White\"\n",
    "    p.yaxis.axis_label = \"Percent Black\"\n",
    "    p.x_range = Range1d(-0.2, 3.5)\n",
    "    p.y_range = Range1d(-1, 101)\n",
    "    p.legend[0].location = \"top_left\"\n",
    "    tab = Panel(child=p, title=offense_title)\n",
    "    tabs_list.append(tab)\n",
    "    msg = \"\"\"Note: Data are from 2013 NIBRS, LEMAS, and ACS. Only male offenders are included.\"\"\"\n",
    "    caption = Title(text=msg, align='left', text_font_size='8pt')\n",
    "    p.add_layout(caption, 'below')\n",
    "\n",
    "    # Vertical line showing where % officers / residents is 1 (equal percentages)\n",
    "    vline = Span(location=1, dimension='height', line_color='gray', line_width=2, line_dash=[4,4])\n",
    "    p.renderers.extend([vline])\n",
    "    \n",
    "tabs_object = Tabs(tabs=tabs_list)\n",
    "output_file(\"output/percent_black_wofficers_divres.html\")\n",
    "show(tabs_object)"
   ]
  },
  {
   "cell_type": "markdown",
   "metadata": {},
   "source": [
    "##### In general, it seems that agencies with more white officers compared to residents also have relatively more black offenders and arrestees.  This could be because areas with larger black populations have the potential for greater wofficers_divres values, since most agencies have wofficers_divres values greater than 1."
   ]
  },
  {
   "cell_type": "code",
   "execution_count": null,
   "metadata": {
    "collapsed": false
   },
   "outputs": [],
   "source": [
    "agency_data = df.groupby('ori')[['w_residents_percent', 'b_residents_percent', 'wofficers_divres']].mean()\n",
    "predictions = pd.DataFrame(lowess(agency_data['wofficers_divres'], agency_data['b_residents_percent']))\n",
    "\n",
    "p = figure(tools=\"resize,reset,previewsave\", title=\"Percent of Residents Black by Officer Racial Demographics\",\n",
    "           height=600, width=600)\n",
    "p.scatter(agency_data['b_residents_percent'], agency_data['wofficers_divres'])\n",
    "p.line(x = predictions[0], y = predictions[1], color = RdYlBu10[-2], line_width=2)\n",
    "p.xaxis.axis_label = \"Percent Residents Black\"\n",
    "p.yaxis.axis_label = \"Percent Officers / Residents White\"\n",
    "\n",
    "msg = \"\"\"Note: Data are from 2013 NIBRS, LEMAS, and ACS. Only male offenders are included.\"\"\"\n",
    "caption = Title(text=msg, align='left', text_font_size='8pt')\n",
    "p.add_layout(caption, 'below')\n",
    "\n",
    "output_file(\"output/wofficers_divres.html\")\n",
    "show(p)"
   ]
  },
  {
   "cell_type": "markdown",
   "metadata": {},
   "source": [
    "##### Percent residents black is positively related with percent officers/residents white - there is more opportunity for disparity when there are more black residents"
   ]
  },
  {
   "cell_type": "markdown",
   "metadata": {},
   "source": [
    "### Why do agencies with fewer offenders arrest relatively fewer black offenders?  Are smaller agencies faced with similar proportions of black and white offenders originally?"
   ]
  },
  {
   "cell_type": "code",
   "execution_count": null,
   "metadata": {
    "collapsed": false
   },
   "outputs": [],
   "source": [
    "states_dict = {'Alabama': 'AL', 'Alaska': 'AK', 'Arizona': 'AZ', 'Arkansas': 'AR', 'California': 'CA', 'Colorado': 'CO',\n",
    "               'Connecticut': 'CT', 'Delaware': 'DE', 'Florida': 'FL', 'Georgia': 'GA', 'Hawaii': 'HI', 'Idaho': 'ID',\n",
    "               'Illinois': 'IL', 'Indiana': 'IN', 'Iowa': 'IA', 'Kansas': 'KS', 'Kentucky': 'KY', 'Louisiana': 'LA',\n",
    "               'Maine': 'ME', 'Maryland': 'MD', 'Massachusetts': 'MA', 'Michigan': 'MI', 'Minnesota': 'MN', 'Mississippi': 'MS',\n",
    "               'Missouri': 'MO', 'Montana': 'MT', 'Nebraska': 'NE', 'Nevada': 'NV', 'New Hampshire': 'NH', 'New Jersey': 'NJ',\n",
    "               'New Mexico': 'NM', 'New York': 'NY', 'North Carolina': 'NC', 'North Dakota': 'ND', 'Ohio': 'OH',\n",
    "               'Oklahoma': 'OK', 'Oregon': 'OR', 'Pennsylvania': 'PA', 'Rhode Island': 'RI', 'South Carolina': 'SC',\n",
    "               'South Dakota': 'SD', 'Tennessee': 'TN', 'Texas': 'TX', 'Utah': 'UT', 'Vermont': 'VT', 'Virginia': 'VA',\n",
    "               'Washington': 'WA', 'West Virginia': 'WV', 'Wisconsin': 'WI', 'Wyoming': 'WY'}\n",
    "df['state'] = df['state_name'].map(states_dict)\n",
    "\n",
    "tabs_list = []\n",
    "for offense in offenses:\n",
    "    offense_title = offense.replace('_', ' ').title()\n",
    "    subset = df[df['offense_' + offense] == 1]\n",
    "    \n",
    "    count_data = subset.groupby('ori')['race'].count().reset_index()\n",
    "    count_data = count_data.rename(columns = {'race': 'offenders'})\n",
    "    subset['black'] = (subset['race'] == 'black').astype(float)\n",
    "    percent_data = subset.groupby('ori')['black'].mean().reset_index()\n",
    "    percent_data = percent_data.rename(columns = {'black': 'percent_black'})\n",
    "    percent_data['percent_black'] = percent_data['percent_black'] * 100\n",
    "    \n",
    "    subset['city_state'] = subset['city'] + ', ' + subset['state']\n",
    "    city_data = subset.groupby('ori')['city_state'].max().reset_index()\n",
    "    \n",
    "    plot_data = count_data.merge(percent_data, on = ['ori'], how = 'inner')\n",
    "    plot_data = plot_data.merge(city_data, on = ['ori'], how = 'inner')\n",
    "    plot_data.loc[plot_data['city_state'].isnull(), 'city_state'] = ''\n",
    "\n",
    "    predictions = pd.DataFrame(lowess(plot_data['percent_black'], plot_data['offenders']))\n",
    "    \n",
    "    p = figure(tools=\"previewsave\", title=\"Percent of Male Offenders who are Black\", height=600, width=600)\n",
    "    p.scatter(plot_data['offenders'], plot_data['percent_black'])\n",
    "    p.line(x = predictions[0], y = predictions[1], color=\"red\", line_width=2)\n",
    "    p.xaxis.axis_label = \"Offenders Reported\"\n",
    "    p.yaxis.axis_label = \"Percent Offenders Black\"\n",
    "    p.xaxis[0].formatter = NumeralTickFormatter(format=\"0,0\")\n",
    "    p.y_range = Range1d(-5, 105)\n",
    "\n",
    "    many_offenders = plot_data['offenders'].mean() + (5 * plot_data['offenders'].std())\n",
    "    label_data = plot_data[plot_data['offenders'] > many_offenders]\n",
    "    source = ColumnDataSource(label_data)\n",
    "    labels = LabelSet(x=\"offenders\", y=\"percent_black\", text=\"city_state\", y_offset=6,\n",
    "                      text_font_size=\"6pt\", text_color=\"#555555\", source=source, text_align='center')\n",
    "    p.add_layout(labels)\n",
    "\n",
    "    tab = Panel(child=p, title=offense_title)\n",
    "    tabs_list.append(tab)\n",
    "    msg = \"\"\"Note: Data are from 2013 NIBRS and LEMAS, and only male offenders are included.\"\"\"\n",
    "    caption = Title(text=msg, align='left', text_font_size='8pt')\n",
    "    p.add_layout(caption, 'below')\n",
    "\n",
    "tabs_object = Tabs(tabs=tabs_list)\n",
    "output_file(\"output/agency_offenders_pctblack.html\")\n",
    "show(tabs_object)"
   ]
  }
 ],
 "metadata": {
  "anaconda-cloud": {},
  "kernelspec": {
   "display_name": "Python 2",
   "language": "python",
   "name": "python2"
  },
  "language_info": {
   "codemirror_mode": {
    "name": "ipython",
    "version": 2
   },
   "file_extension": ".py",
   "mimetype": "text/x-python",
   "name": "python",
   "nbconvert_exporter": "python",
   "pygments_lexer": "ipython2",
   "version": "2.7.11"
  }
 },
 "nbformat": 4,
 "nbformat_minor": 0
}
