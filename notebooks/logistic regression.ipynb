{
 "cells": [
  {
   "cell_type": "markdown",
   "metadata": {},
   "source": [
    "### Plot provider cost predictions and residuals"
   ]
  },
  {
   "cell_type": "markdown",
   "metadata": {},
   "source": [
    "### TO DO\n",
    "Add control for population size / urbanicity (http://www.nytimes.com/2016/09/02/upshot/new-geography-of-prisons.html?hp&action=click&pgtype=Homepage&clickSource=story-heading&module=first-column-region&region=top-news&WT.nav=top-news&_r=0)"
   ]
  },
  {
   "cell_type": "code",
   "execution_count": 1,
   "metadata": {
    "collapsed": false,
    "scrolled": true
   },
   "outputs": [
    {
     "name": "stderr",
     "output_type": "stream",
     "text": [
      "/usr/local/lib/python2.7/site-packages/matplotlib/__init__.py:872: UserWarning: axes.color_cycle is deprecated and replaced with axes.prop_cycle; please use the latter.\n",
      "  warnings.warn(self.msg_depr % (key, alt_key))\n"
     ]
    }
   ],
   "source": [
    "import pandas as pd\n",
    "import zipfile, requests, io\n",
    "import statsmodels.api as sm\n",
    "import statsmodels.discrete.discrete_model as dm"
   ]
  },
  {
   "cell_type": "markdown",
   "metadata": {},
   "source": [
    "### Read the zipped file"
   ]
  },
  {
   "cell_type": "code",
   "execution_count": 2,
   "metadata": {
    "collapsed": false,
    "scrolled": true
   },
   "outputs": [
    {
     "name": "stderr",
     "output_type": "stream",
     "text": [
      "/usr/local/lib/python2.7/site-packages/IPython/core/interactiveshell.py:2902: DtypeWarning: Columns (12,24,57,68,75,81,86,95,106,143,149,210,212,213,225,241,242,255) have mixed types. Specify dtype option on import or set low_memory=False.\n",
      "  interactivity=interactivity, compiler=compiler, result=result)\n"
     ]
    }
   ],
   "source": [
    "df = pd.read_csv('../../Data/offenders_2013_caplg_ucr_clean2.csv')\n",
    "# r = requests.get('http://crimedata.io/data/offenders_2013_caplg_ucr_clean2.csv.zip')\n",
    "# z = zipfile.ZipFile(io.BytesIO(r.content))\n",
    "# df = pd.read_csv(z.open('offenders_2013_caplg_ucr_clean2.csv'))\n",
    "# Exclude non-Black/White offenders\n",
    "df = df[df['black_not_white'].notnull()]"
   ]
  },
  {
   "cell_type": "markdown",
   "metadata": {},
   "source": [
    "#### Define the offenses beforehand"
   ]
  },
  {
   "cell_type": "code",
   "execution_count": 3,
   "metadata": {
    "collapsed": true
   },
   "outputs": [],
   "source": [
    "offenses = ['robbery', 'aggravated_assault', 'simple_assault', 'intimidation', 'weapon',\n",
    "            'shoplifting', 'vandalism', 'drugs_narcotics', 'drug_equipment']"
   ]
  },
  {
   "cell_type": "code",
   "execution_count": 4,
   "metadata": {
    "collapsed": true
   },
   "outputs": [],
   "source": [
    "# Exclude non-Black/White offenders\n",
    "df = df[df['black_not_white'].notnull()]\n",
    "# Only include men\n",
    "df = df[df['sex'] == 'male']\n",
    "\n",
    "df.loc[df['victim_analyzing_sex'] == 'female', 'victim_analyzing_male'] = 0\n",
    "df.loc[df['victim_analyzing_sex'] == 'male', 'victim_analyzing_male'] = 1"
   ]
  },
  {
   "cell_type": "code",
   "execution_count": 5,
   "metadata": {
    "collapsed": false
   },
   "outputs": [],
   "source": [
    "subset = df[df['offense_robbery'] == 1]"
   ]
  },
  {
   "cell_type": "code",
   "execution_count": 6,
   "metadata": {
    "collapsed": false
   },
   "outputs": [
    {
     "name": "stderr",
     "output_type": "stream",
     "text": [
      "/usr/local/lib/python2.7/site-packages/pandas/core/frame.py:2320: SettingWithCopyWarning: \n",
      "A value is trying to be set on a copy of a slice from a DataFrame.\n",
      "Try using .loc[row_indexer,col_indexer] = value instead\n",
      "\n",
      "See the caveats in the documentation: http://pandas.pydata.org/pandas-docs/stable/indexing.html#indexing-view-versus-copy\n",
      "  self[k1] = value[k2]\n",
      "/usr/local/lib/python2.7/site-packages/ipykernel/__main__.py:5: SettingWithCopyWarning: \n",
      "A value is trying to be set on a copy of a slice from a DataFrame.\n",
      "Try using .loc[row_indexer,col_indexer] = value instead\n",
      "\n",
      "See the caveats in the documentation: http://pandas.pydata.org/pandas-docs/stable/indexing.html#indexing-view-versus-copy\n"
     ]
    },
    {
     "name": "stdout",
     "output_type": "stream",
     "text": [
      "Optimization terminated successfully.\n",
      "         Current function value: 0.566071\n",
      "         Iterations 5\n",
      "Optimization terminated successfully.\n",
      "         Current function value: 0.556080\n",
      "         Iterations 5\n"
     ]
    }
   ],
   "source": [
    "# Standardize by subtracting the mean and dividing by the standard deviation\n",
    "continuous_cols = ['w_officers_percent', 'male_officers_percent', 'agency_bdgt_per_offender']\n",
    "subset[continuous_cols] = (subset[continuous_cols] - subset[continuous_cols].mean()) / subset[continuous_cols].std()\n",
    "\n",
    "subset['black_not_white_times_w_officers_percent'] = subset['black_not_white'] * subset['w_officers_percent']\n",
    "\n",
    "independent_vars1 = ['black_not_white', 'w_officers_percent', 'black_not_white_times_w_officers_percent']\n",
    "independent_vars2 = ['black_not_white', 'w_officers_percent', 'black_not_white_times_w_officers_percent',\n",
    "                     'victim_analyzing_male', 'victim_analyzing_interracial', 'victim_analyzing_known',\n",
    "                     'offense_in_residence1', 'male_officers_percent', 'agency_bdgt_per_offender',\n",
    "                     'com_bt', 'tech_typ_vpat', 'hir_trn_no_p', 'min_hiring_educ_gths']\n",
    "\n",
    "complete_data = subset.dropna(subset = independent_vars2 + ['arrested'])\n",
    "\n",
    "Y = complete_data[\"arrested\"]\n",
    "X1 = complete_data[independent_vars1]\n",
    "X2 = complete_data[independent_vars2]\n",
    "\n",
    "X1 = sm.add_constant(X1)\n",
    "X2 = sm.add_constant(X2)\n",
    "\n",
    "model1 = dm.Logit(Y, X1).fit()\n",
    "model2 = dm.Logit(Y, X2).fit()"
   ]
  },
  {
   "cell_type": "code",
   "execution_count": null,
   "metadata": {
    "collapsed": true
   },
   "outputs": [],
   "source": [
    "model2.summary()"
   ]
  },
  {
   "cell_type": "code",
   "execution_count": null,
   "metadata": {
    "collapsed": false
   },
   "outputs": [],
   "source": [
    "model1.aic, model2.aic"
   ]
  },
  {
   "cell_type": "code",
   "execution_count": null,
   "metadata": {
    "collapsed": false
   },
   "outputs": [],
   "source": [
    "# Proportion of offenders actually arrested\n",
    "Y.mean()"
   ]
  },
  {
   "cell_type": "code",
   "execution_count": null,
   "metadata": {
    "collapsed": false
   },
   "outputs": [],
   "source": [
    "## Proportion predicted as arrested\n",
    "predicted2 = model2.predict(X2)\n",
    "(predicted2 >= 0.5).mean()"
   ]
  },
  {
   "cell_type": "code",
   "execution_count": null,
   "metadata": {
    "collapsed": false,
    "scrolled": true
   },
   "outputs": [],
   "source": [
    "# Error rate\n",
    "(((predicted2 >= 0.5) & (Y == 0)) | ((predicted2 < 0.5) & (Y == 1))).mean()"
   ]
  },
  {
   "cell_type": "code",
   "execution_count": null,
   "metadata": {
    "collapsed": false
   },
   "outputs": [],
   "source": [
    "# False positives, false negatives\n",
    "((predicted2 >= 0.5) & (Y == 0)).mean(), ((predicted2 < 0.5) & (Y == 1)).mean()"
   ]
  },
  {
   "cell_type": "code",
   "execution_count": null,
   "metadata": {
    "collapsed": false
   },
   "outputs": [],
   "source": [
    "model1.summary()"
   ]
  },
  {
   "cell_type": "code",
   "execution_count": null,
   "metadata": {
    "collapsed": false
   },
   "outputs": [],
   "source": [
    "# Proportion predicted as arrested\n",
    "predicted1 = model1.predict(X1)\n",
    "(predicted1 >= 0.5).mean()"
   ]
  },
  {
   "cell_type": "code",
   "execution_count": null,
   "metadata": {
    "collapsed": false
   },
   "outputs": [],
   "source": [
    "# Error rate\n",
    "(((predicted1 >= 0.5) & (Y == 0)) | ((predicted1 < 0.5) & (Y == 1))).mean()"
   ]
  },
  {
   "cell_type": "code",
   "execution_count": null,
   "metadata": {
    "collapsed": true
   },
   "outputs": [],
   "source": [
    "def _col_params(result, float_format='%.4f', stars=True):\n",
    "    '''Stack coefficients and standard errors in single column'''\n",
    "    # Extract parameters\n",
    "    res = s2.summary_params(result)\n",
    "    # Format float\n",
    "    for col in res.columns[:2]:\n",
    "        res[col] = res[col].apply(lambda x: float_format % x)\n",
    "    # Std.Errors in parentheses\n",
    "    res.ix[:, 1] = '(' + res.ix[:, 1] + ')'\n",
    "    # Significance stars\n",
    "    if stars:\n",
    "        idx = res.ix[:, 3] < .05\n",
    "        res.ix[:, 0][idx] = res.ix[:, 0][idx] + '*'\n",
    "        idx = res.ix[:, 3] < .01\n",
    "        res.ix[:, 0][idx] = res.ix[:, 0][idx] + '*'\n",
    "        idx = res.ix[:, 3] < .001\n",
    "        res.ix[:, 0][idx] = res.ix[:, 0][idx] + '*'\n",
    "    # Stack Coefs and Std.Errors\n",
    "    res = res.ix[:, :2]\n",
    "    res = res.stack()\n",
    "    res = pd.DataFrame(res)\n",
    "    res.columns = [str(result.model.endog_names)]\n",
    "    return res\n",
    "\n",
    "s2._col_params = _col_params"
   ]
  },
  {
   "cell_type": "code",
   "execution_count": null,
   "metadata": {
    "collapsed": false,
    "scrolled": true
   },
   "outputs": [],
   "source": [
    "with open('table.txt', 'w') as f:\n",
    "    f.write(str(s2.summary_col([model1, model2], model_names = ['Model 1', 'Model 2'],\n",
    "        stars = True, regressor_order = X2.columns.tolist(), float_format = '%.2f',\n",
    "        info_dict = {'N': lambda x: x.nobs, 'AIC': lambda x: \"{:.0f}\".format(x.aic)})))"
   ]
  },
  {
   "cell_type": "markdown",
   "metadata": {},
   "source": [
    "### Account for clustering by agency with in the data - specify covariance structures"
   ]
  },
  {
   "cell_type": "code",
   "execution_count": null,
   "metadata": {
    "collapsed": true
   },
   "outputs": [],
   "source": [
    "require(sandwich, quietly = TRUE)\n",
    "require(lmtest, quietly = TRUE)"
   ]
  },
  {
   "cell_type": "code",
   "execution_count": null,
   "metadata": {
    "collapsed": true
   },
   "outputs": [],
   "source": [
    "def cl(data, model, cluster):\n",
    "    M = len(data[cluster].unique())\n",
    "    N = len(data)\n",
    "    K = rank(model)\n",
    "    dfc = (M/(M-1))*((N-1)/(N-K))\n",
    "    uj = apply(estfun(fm),2, function(x) tapply(x, cluster, sum));\n",
    "    vcovCL = dfc*sandwich(fm, meat=crossprod(uj)/N)\n",
    "    coeftest(fm, vcovCL)"
   ]
  },
  {
   "cell_type": "code",
   "execution_count": null,
   "metadata": {
    "collapsed": true
   },
   "outputs": [],
   "source": [
    "cl(subset, model1, \"ori\")"
   ]
  }
 ],
 "metadata": {
  "kernelspec": {
   "display_name": "Python 2",
   "language": "python",
   "name": "python2"
  },
  "language_info": {
   "codemirror_mode": {
    "name": "ipython",
    "version": 2
   },
   "file_extension": ".py",
   "mimetype": "text/x-python",
   "name": "python",
   "nbconvert_exporter": "python",
   "pygments_lexer": "ipython2",
   "version": "2.7.11"
  }
 },
 "nbformat": 4,
 "nbformat_minor": 0
}
