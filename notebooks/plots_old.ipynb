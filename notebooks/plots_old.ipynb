{
 "cells": [
  {
   "cell_type": "markdown",
   "metadata": {},
   "source": [
    "### Plot provider cost predictions and residuals"
   ]
  },
  {
   "cell_type": "code",
   "execution_count": 1,
   "metadata": {
    "collapsed": false,
    "scrolled": true
   },
   "outputs": [
    {
     "name": "stderr",
     "output_type": "stream",
     "text": [
      "/usr/local/lib/python2.7/site-packages/matplotlib/__init__.py:872: UserWarning: axes.color_cycle is deprecated and replaced with axes.prop_cycle; please use the latter.\n",
      "  warnings.warn(self.msg_depr % (key, alt_key))\n"
     ]
    }
   ],
   "source": [
    "import pandas as pd\n",
    "import requests, zipfile, io\n",
    "from bokeh.charts import Bar, Scatter, output_notebook, show, output_file\n",
    "from bokeh.charts.attributes import CatAttr, color\n",
    "from bokeh.models import HoverTool, Range1d, Span, LabelSet, ColumnDataSource\n",
    "from bokeh.models.widgets import Panel, Tabs\n",
    "from bokeh.models.glyphs import Text\n",
    "from bokeh.plotting import figure\n",
    "from bokeh.palettes import PuOr5\n",
    "import statsmodels.api as sm\n",
    "lowess = sm.nonparametric.lowess"
   ]
  },
  {
   "cell_type": "markdown",
   "metadata": {},
   "source": [
    "### Read the zipped file"
   ]
  },
  {
   "cell_type": "code",
   "execution_count": 7,
   "metadata": {
    "collapsed": false
   },
   "outputs": [
    {
     "name": "stderr",
     "output_type": "stream",
     "text": [
      "/usr/local/lib/python2.7/site-packages/IPython/core/interactiveshell.py:2902: DtypeWarning: Columns (12,24,57,68,75,81,86,95,106,143,149,210,212,213,225,241,242,255) have mixed types. Specify dtype option on import or set low_memory=False.\n",
      "  interactivity=interactivity, compiler=compiler, result=result)\n"
     ]
    }
   ],
   "source": [
    "#df = pd.read_csv('../../Data/offenders_2013_caplg_ucr_clean2.csv')\n",
    "r = requests.get('http://crimedata.io/data/offenders_2013_caplg_ucr_clean2.csv.zip')\n",
    "z = zipfile.ZipFile(io.BytesIO(r.content))\n",
    "df = pd.read_csv(z.open('offenders_2013_caplg_ucr_clean2.csv'))\n",
    "# Exclude non-Black/White offenders\n",
    "df = df[df['black_not_white'].notnull()]"
   ]
  },
  {
   "cell_type": "markdown",
   "metadata": {},
   "source": [
    "#### Define the offenses beforehand"
   ]
  },
  {
   "cell_type": "code",
   "execution_count": 8,
   "metadata": {
    "collapsed": true
   },
   "outputs": [],
   "source": [
    "offenses = ['robbery', 'aggravated_assault', 'simple_assault', 'intimidation', 'weapon',\n",
    "            'shoplifting', 'vandalism', 'drugs_narcotics', 'drug_equipment']"
   ]
  },
  {
   "cell_type": "markdown",
   "metadata": {},
   "source": [
    "#### Set some constants for plotting"
   ]
  },
  {
   "cell_type": "code",
   "execution_count": 9,
   "metadata": {
    "collapsed": true
   },
   "outputs": [],
   "source": [
    "black_color = PuOr5[-1]\n",
    "white_color = PuOr5[0]\n",
    "TOOLS = \"pan,wheel_zoom,box_zoom,reset,previewsave\""
   ]
  },
  {
   "cell_type": "markdown",
   "metadata": {},
   "source": [
    "### See what the data look like"
   ]
  },
  {
   "cell_type": "code",
   "execution_count": 10,
   "metadata": {
    "collapsed": false
   },
   "outputs": [
    {
     "data": {
      "text/html": [
       "<div>\n",
       "<table border=\"1\" class=\"dataframe\">\n",
       "  <thead>\n",
       "    <tr style=\"text-align: right;\">\n",
       "      <th></th>\n",
       "      <th>offense_prostitution_purchase</th>\n",
       "      <th>com_ptnr</th>\n",
       "      <th>victim3_ucr_offense_code2</th>\n",
       "      <th>b_residents_percent</th>\n",
       "      <th>arrest_statutory_rape</th>\n",
       "      <th>total_residents</th>\n",
       "      <th>offense_auto_parts_theft</th>\n",
       "      <th>offense_operating_gambling</th>\n",
       "      <th>o_residents</th>\n",
       "      <th>arrest_operating_gambling</th>\n",
       "      <th>...</th>\n",
       "      <th>agency_offenders_count</th>\n",
       "      <th>agency_arrestees_count</th>\n",
       "      <th>county_offenders_count</th>\n",
       "      <th>county_arrestees_count</th>\n",
       "      <th>county_bdgt</th>\n",
       "      <th>agency_bdgt_per_offender</th>\n",
       "      <th>agency_bdgt_per_arrestee</th>\n",
       "      <th>county_offenders_per_resident</th>\n",
       "      <th>county_arrestees_per_resident</th>\n",
       "      <th>county_bdgt_per_resident</th>\n",
       "    </tr>\n",
       "  </thead>\n",
       "  <tbody>\n",
       "    <tr>\n",
       "      <th>3983540</th>\n",
       "      <td>NaN</td>\n",
       "      <td>NaN</td>\n",
       "      <td>-8</td>\n",
       "      <td>0.986241</td>\n",
       "      <td>NaN</td>\n",
       "      <td>8.213</td>\n",
       "      <td>NaN</td>\n",
       "      <td>NaN</td>\n",
       "      <td>0</td>\n",
       "      <td>NaN</td>\n",
       "      <td>...</td>\n",
       "      <td>85</td>\n",
       "      <td>21</td>\n",
       "      <td>85</td>\n",
       "      <td>21</td>\n",
       "      <td>NaN</td>\n",
       "      <td>NaN</td>\n",
       "      <td>NaN</td>\n",
       "      <td>0.010349</td>\n",
       "      <td>0.002557</td>\n",
       "      <td>NaN</td>\n",
       "    </tr>\n",
       "    <tr>\n",
       "      <th>3983541</th>\n",
       "      <td>NaN</td>\n",
       "      <td>NaN</td>\n",
       "      <td>-8</td>\n",
       "      <td>0.986241</td>\n",
       "      <td>NaN</td>\n",
       "      <td>8.213</td>\n",
       "      <td>NaN</td>\n",
       "      <td>NaN</td>\n",
       "      <td>0</td>\n",
       "      <td>NaN</td>\n",
       "      <td>...</td>\n",
       "      <td>85</td>\n",
       "      <td>21</td>\n",
       "      <td>85</td>\n",
       "      <td>21</td>\n",
       "      <td>NaN</td>\n",
       "      <td>NaN</td>\n",
       "      <td>NaN</td>\n",
       "      <td>0.010349</td>\n",
       "      <td>0.002557</td>\n",
       "      <td>NaN</td>\n",
       "    </tr>\n",
       "  </tbody>\n",
       "</table>\n",
       "<p>2 rows × 267 columns</p>\n",
       "</div>"
      ],
      "text/plain": [
       "         offense_prostitution_purchase  com_ptnr  victim3_ucr_offense_code2  \\\n",
       "3983540                            NaN       NaN                         -8   \n",
       "3983541                            NaN       NaN                         -8   \n",
       "\n",
       "         b_residents_percent  arrest_statutory_rape  total_residents  \\\n",
       "3983540             0.986241                    NaN            8.213   \n",
       "3983541             0.986241                    NaN            8.213   \n",
       "\n",
       "         offense_auto_parts_theft  offense_operating_gambling  o_residents  \\\n",
       "3983540                       NaN                         NaN            0   \n",
       "3983541                       NaN                         NaN            0   \n",
       "\n",
       "         arrest_operating_gambling            ...             \\\n",
       "3983540                        NaN            ...              \n",
       "3983541                        NaN            ...              \n",
       "\n",
       "         agency_offenders_count  agency_arrestees_count  \\\n",
       "3983540                      85                      21   \n",
       "3983541                      85                      21   \n",
       "\n",
       "        county_offenders_count  county_arrestees_count  county_bdgt  \\\n",
       "3983540                     85                      21          NaN   \n",
       "3983541                     85                      21          NaN   \n",
       "\n",
       "         agency_bdgt_per_offender  agency_bdgt_per_arrestee  \\\n",
       "3983540                       NaN                       NaN   \n",
       "3983541                       NaN                       NaN   \n",
       "\n",
       "         county_offenders_per_resident  county_arrestees_per_resident  \\\n",
       "3983540                       0.010349                       0.002557   \n",
       "3983541                       0.010349                       0.002557   \n",
       "\n",
       "         county_bdgt_per_resident  \n",
       "3983540                       NaN  \n",
       "3983541                       NaN  \n",
       "\n",
       "[2 rows x 267 columns]"
      ]
     },
     "execution_count": 10,
     "metadata": {},
     "output_type": "execute_result"
    }
   ],
   "source": [
    "df.tail(2)"
   ]
  },
  {
   "cell_type": "markdown",
   "metadata": {},
   "source": [
    "##### There are about 4 million rows, each representing a person reported to police as a criminal offender"
   ]
  },
  {
   "cell_type": "code",
   "execution_count": 11,
   "metadata": {
    "collapsed": false
   },
   "outputs": [
    {
     "data": {
      "text/html": [
       "<div>\n",
       "<table border=\"1\" class=\"dataframe\">\n",
       "  <thead>\n",
       "    <tr style=\"text-align: right;\">\n",
       "      <th></th>\n",
       "      <th>black_not_white</th>\n",
       "      <th>ori</th>\n",
       "      <th>arrested</th>\n",
       "      <th>offense_robbery</th>\n",
       "      <th>w_officers_percent</th>\n",
       "    </tr>\n",
       "  </thead>\n",
       "  <tbody>\n",
       "    <tr>\n",
       "      <th>5</th>\n",
       "      <td>0</td>\n",
       "      <td>AL0011200</td>\n",
       "      <td>1</td>\n",
       "      <td>NaN</td>\n",
       "      <td>89.240506</td>\n",
       "    </tr>\n",
       "    <tr>\n",
       "      <th>6</th>\n",
       "      <td>0</td>\n",
       "      <td>AL0011200</td>\n",
       "      <td>1</td>\n",
       "      <td>NaN</td>\n",
       "      <td>89.240506</td>\n",
       "    </tr>\n",
       "    <tr>\n",
       "      <th>7</th>\n",
       "      <td>0</td>\n",
       "      <td>AL0011200</td>\n",
       "      <td>0</td>\n",
       "      <td>NaN</td>\n",
       "      <td>89.240506</td>\n",
       "    </tr>\n",
       "    <tr>\n",
       "      <th>8</th>\n",
       "      <td>0</td>\n",
       "      <td>AL0011200</td>\n",
       "      <td>0</td>\n",
       "      <td>NaN</td>\n",
       "      <td>89.240506</td>\n",
       "    </tr>\n",
       "    <tr>\n",
       "      <th>9</th>\n",
       "      <td>1</td>\n",
       "      <td>AL0011200</td>\n",
       "      <td>1</td>\n",
       "      <td>NaN</td>\n",
       "      <td>89.240506</td>\n",
       "    </tr>\n",
       "  </tbody>\n",
       "</table>\n",
       "</div>"
      ],
      "text/plain": [
       "   black_not_white        ori  arrested  offense_robbery  w_officers_percent\n",
       "5                0  AL0011200         1              NaN           89.240506\n",
       "6                0  AL0011200         1              NaN           89.240506\n",
       "7                0  AL0011200         0              NaN           89.240506\n",
       "8                0  AL0011200         0              NaN           89.240506\n",
       "9                1  AL0011200         1              NaN           89.240506"
      ]
     },
     "execution_count": 11,
     "metadata": {},
     "output_type": "execute_result"
    }
   ],
   "source": [
    "df[5:10][['black_not_white', 'ori', 'arrested', 'offense_robbery', 'w_officers_percent']]"
   ]
  },
  {
   "cell_type": "markdown",
   "metadata": {},
   "source": [
    "#### How many offenders are black and white?"
   ]
  },
  {
   "cell_type": "code",
   "execution_count": 13,
   "metadata": {
    "collapsed": false
   },
   "outputs": [
    {
     "data": {
      "text/plain": [
       "0    0.662212\n",
       "1    0.337788\n",
       "Name: black_not_white, dtype: float64"
      ]
     },
     "execution_count": 13,
     "metadata": {},
     "output_type": "execute_result"
    }
   ],
   "source": [
    "df['black_not_white'].value_counts(normalize = True)"
   ]
  },
  {
   "cell_type": "markdown",
   "metadata": {},
   "source": [
    "##### About 34% of offenders are black.  Keep in mind that all offenders are male."
   ]
  },
  {
   "cell_type": "markdown",
   "metadata": {},
   "source": [
    "### What percentage of offenders are black versus white?  How does this vary by offense?"
   ]
  },
  {
   "cell_type": "code",
   "execution_count": 19,
   "metadata": {
    "collapsed": false
   },
   "outputs": [
    {
     "data": {
      "text/plain": [
       "0.18507212666441297"
      ]
     },
     "execution_count": 19,
     "metadata": {},
     "output_type": "execute_result"
    }
   ],
   "source": [
    "df[df['arrested'] == 1]['incident_to_arrest_days'].isnull().mean()"
   ]
  },
  {
   "cell_type": "code",
   "execution_count": 20,
   "metadata": {
    "collapsed": false
   },
   "outputs": [
    {
     "data": {
      "text/plain": [
       "0.89039976184829939"
      ]
     },
     "execution_count": 20,
     "metadata": {},
     "output_type": "execute_result"
    }
   ],
   "source": [
    "df[df['arrested'] == 1]['report_to_arrest_days'].isnull().mean()"
   ]
  },
  {
   "cell_type": "code",
   "execution_count": 16,
   "metadata": {
    "collapsed": true
   },
   "outputs": [
    {
     "data": {
      "text/plain": [
       "0      994045\n",
       "1       79630\n",
       "2       18640\n",
       "3       13146\n",
       "4       10743\n",
       "5        9568\n",
       "6        8726\n",
       "7        7725\n",
       "8        6578\n",
       "9        5553\n",
       "10       5237\n",
       "11       4537\n",
       "12       4209\n",
       "14       4169\n",
       "13       4168\n",
       "15       3729\n",
       "16       3255\n",
       "17       3168\n",
       "18       2969\n",
       "19       2852\n",
       "20       2758\n",
       "21       2722\n",
       "22       2437\n",
       "23       2370\n",
       "28       2121\n",
       "24       2099\n",
       "25       2047\n",
       "27       2004\n",
       "26       1947\n",
       "31       1867\n",
       "        ...  \n",
       "299         6\n",
       "331         6\n",
       "326         6\n",
       "337         6\n",
       "340         6\n",
       "325         5\n",
       "342         5\n",
       "310         5\n",
       "345         4\n",
       "352         4\n",
       "343         4\n",
       "349         4\n",
       "350         4\n",
       "334         4\n",
       "353         4\n",
       "332         4\n",
       "330         4\n",
       "335         3\n",
       "346         3\n",
       "351         2\n",
       "356         2\n",
       "341         2\n",
       "357         2\n",
       "344         2\n",
       "354         2\n",
       "359         1\n",
       "363         1\n",
       "348         1\n",
       "333         1\n",
       "364         1\n",
       "Name: incident_to_arrest_days, dtype: int64"
      ]
     },
     "execution_count": 16,
     "metadata": {},
     "output_type": "execute_result"
    }
   ],
   "source": [
    "df['incident_to_arrest_days'].value_counts()"
   ]
  },
  {
   "cell_type": "code",
   "execution_count": 17,
   "metadata": {
    "collapsed": true
   },
   "outputs": [
    {
     "data": {
      "text/plain": [
       "0      131461\n",
       "1       11351\n",
       "2        2351\n",
       "3        1754\n",
       "4        1533\n",
       "5        1333\n",
       "7        1196\n",
       "6        1140\n",
       "8         918\n",
       "9         879\n",
       "10        708\n",
       "11        663\n",
       "14        638\n",
       "13        621\n",
       "12        593\n",
       "15        548\n",
       "16        475\n",
       "17        450\n",
       "19        443\n",
       "20        428\n",
       "18        426\n",
       "21        421\n",
       "22        393\n",
       "23        353\n",
       "24        343\n",
       "27        327\n",
       "25        315\n",
       "28        302\n",
       "29        292\n",
       "26        260\n",
       "        ...  \n",
       "269         2\n",
       "281         2\n",
       "260         2\n",
       "247         2\n",
       "324         1\n",
       "315         1\n",
       "318         1\n",
       "320         1\n",
       "283         1\n",
       "246         1\n",
       "337         1\n",
       "314         1\n",
       "347         1\n",
       "349         1\n",
       "356         1\n",
       "343         1\n",
       "308         1\n",
       "313         1\n",
       "311         1\n",
       "259         1\n",
       "263         1\n",
       "267         1\n",
       "268         1\n",
       "302         1\n",
       "301         1\n",
       "300         1\n",
       "298         1\n",
       "271         1\n",
       "277         1\n",
       "363         1\n",
       "Name: report_to_arrest_days, dtype: int64"
      ]
     },
     "execution_count": 17,
     "metadata": {},
     "output_type": "execute_result"
    }
   ],
   "source": [
    "df['report_to_arrest_days'].value_counts()"
   ]
  },
  {
   "cell_type": "code",
   "execution_count": null,
   "metadata": {
    "collapsed": false
   },
   "outputs": [],
   "source": [
    "percent_black = pd.DataFrame()\n",
    "for offense in offenses:\n",
    "    subset = df[df['offense_' + offense] == 1]\n",
    "    arrested_subset = subset[subset['arrested'] == 1]\n",
    "    offenders_black = subset['black_not_white'].mean()\n",
    "    arrested_sameday = arrested_subset[arrested_subset['incident_to_arrest_days'] == 0]\n",
    "    arrested_otherday = arrested_subset[arrested_subset['incident_to_arrest_days'] > 0]\n",
    "\n",
    "    offenders_black_byagency = subset.groupby('ori')['black_not_white'].mean().reset_index().mean()[0]\n",
    "    arrested_black = arrested_subset['black_not_white'].mean()\n",
    "    arrested_black_byagency = arrested_subset.groupby('ori')['black_not_white'].mean().reset_index().mean()[0]\n",
    "    arrested_black_sameday = arrested_sameday['black_not_white'].mean()\n",
    "    arrested_black_otherday = arrested_otherday['black_not_white'].mean()\n",
    "    \n",
    "    row1 = {'offense': offense, 'level': 'Offender', 'offenders_black': offenders_black, 'arrested_black': arrested_black}\n",
    "    row2 = {'offense': offense, 'level': 'Agency', 'offenders_black': offenders_black_byagency,\n",
    "            'arrested_black': arrested_black_byagency}\n",
    "    row3 = {'offense': offense, 'level': 'Arrested Same Day', 'offenders_black': offenders_black, 'arrested_black': arrested_black_sameday}\n",
    "    row4 = {'offense': offense, 'level': 'Arrested Other Day', 'offenders_black': offenders_black, 'arrested_black': arrested_black_otherday}\n",
    "    percent_black = percent_black.append(row1, ignore_index = True)\n",
    "    percent_black = percent_black.append(row2, ignore_index = True)\n",
    "\n",
    "percent_black['offense'] = percent_black['offense'].str.replace('_', ' ')\n",
    "percent_black['offense'] = percent_black['offense'].str.title()\n",
    "percent_black['offenders_black'] = (percent_black['offenders_black'] * 100).round(1)\n",
    "percent_black['arrested_black'] = (percent_black['arrested_black'] * 100).round(1)"
   ]
  },
  {
   "cell_type": "code",
   "execution_count": null,
   "metadata": {
    "collapsed": false
   },
   "outputs": [],
   "source": [
    "output_notebook()"
   ]
  },
  {
   "cell_type": "code",
   "execution_count": null,
   "metadata": {
    "collapsed": false
   },
   "outputs": [],
   "source": [
    "p1 = Bar(percent_black, label=CatAttr(columns=['offense'], sort=False),\n",
    "        values='offenders_black', group='level', legend = \"top_right\", tools=TOOLS,\n",
    "        title=\"Percent Offenders Black by Race and Offense\", xlabel=\"Offense\", ylabel=\"Percent Offenders Black\")\n",
    "p1.y_range = Range1d(0, 85)\n",
    "# Fix bar width issue\n",
    "for r in p1.renderers:\n",
    "    try:\n",
    "        r.glyph.width = 0.3\n",
    "    except AttributeError:\n",
    "        pass\n",
    "\n",
    "# Horizontal line showing % of US population that is black (13%)\n",
    "hline = Span(location=13, dimension='width', line_color='gray', line_width=2, line_dash=[4,4])\n",
    "p1.renderers.extend([hline])\n",
    "\n",
    "source_offenders = ColumnDataSource(percent_black[percent_black['level'] == 'Offender'])\n",
    "source_agencies = ColumnDataSource(percent_black[percent_black['level'] == 'Agency'])\n",
    "offender_labels = LabelSet(x=\"offense\", y=\"offenders_black\", text=\"offenders_black\", y_offset=8, x_offset=-11,\n",
    "                  text_font_size=\"8pt\", text_color=\"#555555\", source=source_offenders, text_align='center')\n",
    "agency_labels = LabelSet(x=\"offense\", y=\"offenders_black\", text=\"offenders_black\", y_offset=8, x_offset=11,\n",
    "                  text_font_size=\"8pt\", text_color=\"#555555\", source=source_agencies, text_align='center')\n",
    "p1.add_layout(offender_labels)\n",
    "p1.add_layout(agency_labels)\n",
    "\n",
    "\n",
    "p2 = Bar(percent_black, label=CatAttr(columns=['offense'], sort=False),\n",
    "        values='arrested_black', group='level', legend = \"top_right\", tools=TOOLS,\n",
    "        title=\"Percent Arrested Offenders Black by Race and Offense\",\n",
    "         xlabel=\"Offense\", ylabel=\"Percent Arrested Offenders Black\")\n",
    "p2.y_range = Range1d(0, 85)\n",
    "for r in p2.renderers:\n",
    "    try:\n",
    "        r.glyph.width = 0.3\n",
    "    except AttributeError:\n",
    "        pass\n",
    "hline = Span(location=13, dimension='width', line_color='gray', line_width=2, line_dash=[4,4])\n",
    "p2.renderers.extend([hline])\n",
    "\n",
    "source_offenders_arrested = ColumnDataSource(percent_black[percent_black['level'] == 'Offender'])\n",
    "source_agencies_arrested = ColumnDataSource(percent_black[percent_black['level'] == 'Agency'])\n",
    "offender_arrested_labels = LabelSet(x=\"offense\", y=\"arrested_black\", text=\"arrested_black\", y_offset=8, x_offset=-11,\n",
    "                  text_font_size=\"8pt\", text_color=\"#555555\", source=source_offenders_arrested, text_align='center')\n",
    "agency_arrested_labels = LabelSet(x=\"offense\", y=\"arrested_black\", text=\"arrested_black\", y_offset=8, x_offset=11,\n",
    "                  text_font_size=\"8pt\", text_color=\"#555555\", source=source_agencies_arrested, text_align='center')\n",
    "p2.add_layout(offender_arrested_labels)\n",
    "p2.add_layout(agency_arrested_labels)\n",
    "\n",
    "\n",
    "tab1 = Panel(child=p1, title=\"All Offenders\")\n",
    "tab2 = Panel(child=p2, title=\"Arrested Offenders\")\n",
    "tabs_percent_black = Tabs(tabs=[ tab1, tab2 ])\n",
    "\n",
    "output_file(\"output/percent_black.html\")\n",
    "show(tabs_percent_black)"
   ]
  },
  {
   "cell_type": "markdown",
   "metadata": {},
   "source": [
    "### How do these percentages compare to those in Uniform Crime Reports (UCR) data?"
   ]
  },
  {
   "cell_type": "code",
   "execution_count": 14,
   "metadata": {
    "collapsed": false
   },
   "outputs": [
    {
     "data": {
      "text/plain": [
       "['victim3_ucr_offense_code2',\n",
       " 'victim2_ucr_offense_code3',\n",
       " 'victim2_ucr_offense_code1',\n",
       " 'ucr13_burglary_offenses_total',\n",
       " 'victim3_ucr_offense_code3',\n",
       " 'ucr13_total_offenses_offenses_total',\n",
       " 'victim3_ucr_offense_code1',\n",
       " 'victim1_ucr_offense_code1',\n",
       " 'ucr13_aggravated_assault_offenses_total',\n",
       " 'victim2_ucr_offense_code2',\n",
       " 'ucr13_total_arrests',\n",
       " 'ucr13_white_arrests_percent',\n",
       " 'ucr13_black_arrests_percent',\n",
       " 'victim1_ucr_offense_code3',\n",
       " 'ucr13_rape_offenses_total',\n",
       " 'ucr13_indian_arrests_percent',\n",
       " 'ucr13_ori7',\n",
       " 'ucr13_nonhispanic_arrests_percent',\n",
       " 'ucr13_robbery_offenses_total',\n",
       " 'victim1_ucr_offense_code2',\n",
       " 'ucr13_motor_vehicle_theft_offenses_total',\n",
       " 'ucr13_hispanic_arrests_percent',\n",
       " 'ucr13_asian_arrests_percent',\n",
       " 'ucr_offense_code1',\n",
       " 'ucr_offense_code3',\n",
       " 'ucr13_larceny_offenses_total',\n",
       " 'ucr13_murder_offenses_total',\n",
       " 'ucr_offense_code2']"
      ]
     },
     "execution_count": 14,
     "metadata": {},
     "output_type": "execute_result"
    }
   ],
   "source": [
    "[col for col in df.columns if 'ucr' in col]"
   ]
  },
  {
   "cell_type": "markdown",
   "metadata": {},
   "source": [
    "### What percentage of black and white offenders are arrested?"
   ]
  },
  {
   "cell_type": "code",
   "execution_count": null,
   "metadata": {
    "collapsed": false
   },
   "outputs": [],
   "source": [
    "arrest_rates = pd.DataFrame()\n",
    "for offense in offenses:\n",
    "    subset = df[df['offense_' + offense] == 1]\n",
    "    \n",
    "    arrested_byagency = subset.groupby(['ori', 'black_not_white'])['arrested'].mean().reset_index()\n",
    "    arrested_byagency = arrested_byagency.groupby('black_not_white')['arrested'].mean().reset_index()\n",
    "    arrested_byagency = arrested_byagency.rename(columns = {'arrested': 'arrested_byagency'})\n",
    "    \n",
    "    arrested = subset.groupby('black_not_white')['arrested'].mean().reset_index()\n",
    "    arrested = arrested.merge(arrested_byagency, on = ['black_not_white'])\n",
    "    arrested['offense'] = offense\n",
    "\n",
    "    arrest_rates = arrest_rates.append(arrested, ignore_index = True)\n",
    "    \n",
    "arrest_rates.loc[arrest_rates['black_not_white'] == 1, 'black_not_white_text'] = 'Black'\n",
    "arrest_rates.loc[arrest_rates['black_not_white'] == 0, 'black_not_white_text'] = 'White'\n",
    "\n",
    "arrest_rates['offense'] = arrest_rates['offense'].str.replace('_', ' ')\n",
    "arrest_rates['offense'] = arrest_rates['offense'].str.title()\n",
    "\n",
    "arrest_rates['arrested'] = (arrest_rates['arrested'] * 100).round(1)\n",
    "arrest_rates['arrested_byagency'] = (arrest_rates['arrested_byagency'] * 100).round(1)"
   ]
  },
  {
   "cell_type": "code",
   "execution_count": null,
   "metadata": {
    "collapsed": false
   },
   "outputs": [],
   "source": [
    "output_notebook()"
   ]
  },
  {
   "cell_type": "code",
   "execution_count": null,
   "metadata": {
    "collapsed": false
   },
   "outputs": [],
   "source": [
    "p1 = Bar(arrest_rates, label=CatAttr(columns=['offense'], sort=False),\n",
    "         values='arrested', group='black_not_white_text', legend='top_left', tools=TOOLS,\n",
    "         title=\"Percent Offenders Arrested by Race and Offense\", xlabel=\"Offense\", ylabel=\"Percent Arrested\",\n",
    "         color = color(columns='black_not_white', palette=[black_color, white_color]))\n",
    "p1.y_range = Range1d(0, 95)\n",
    "hover1 = p1.select(dict(type=HoverTool))\n",
    "hover1.tooltips = \"\"\"<div>Offense: @offense</div>\n",
    "<div>Race: @black_not_white</div>\n",
    "<div>Percent arrested: @y{1.1}</div>\n",
    "\"\"\"\n",
    "# Fix bar width issue\n",
    "for r in p1.renderers:\n",
    "    try:\n",
    "        r.glyph.width = 0.3\n",
    "    except AttributeError:\n",
    "        pass\n",
    "\n",
    "p2 = Bar(arrest_rates, label=CatAttr(columns=['offense'], sort=False),\n",
    "         values='arrested_byagency', group='black_not_white_text', legend='top_left',\n",
    "         title=\"Agencies' Percent Offenders Arrested by Race and Offense\", xlabel=\"Offense\", ylabel=\"Agencies' Percent Arrested\",\n",
    "         tools=\"hover,pan,wheel_zoom,reset\", color = color(columns='black_not_white', palette=[black_color, white_color]))\n",
    "p2.y_range = Range1d(0, 95)\n",
    "hover2 = p2.select(dict(type=HoverTool))\n",
    "hover2.tooltips = \"\"\"<div>Offense: @offense</div>\n",
    "<div>Race: @black_not_white</div>\n",
    "<div>Percent arrested_byagency: @y{1.1}</div>\n",
    "\"\"\"\n",
    "# Fix bar width issue\n",
    "for r in p2.renderers:\n",
    "    try:\n",
    "        r.glyph.width = 0.3\n",
    "    except AttributeError:\n",
    "        pass\n",
    "\n",
    "source_arrests_black = ColumnDataSource(arrest_rates[arrest_rates['black_not_white_text'] == 'Black'])\n",
    "source_arrests_white = ColumnDataSource(arrest_rates[arrest_rates['black_not_white_text'] == 'White'])\n",
    "\n",
    "offender_labels_white = LabelSet(x=\"offense\", y=\"arrested\", text=\"arrested\", y_offset=8, x_offset=-11,\n",
    "                  text_font_size=\"8pt\", text_color=\"#555555\", source=source_arrests_white, text_align='center')\n",
    "offender_labels_black = LabelSet(x=\"offense\", y=\"arrested\", text=\"arrested\", y_offset=8, x_offset=11,\n",
    "                  text_font_size=\"8pt\", text_color=\"#555555\", source=source_arrests_black, text_align='center')\n",
    "p1.add_layout(offender_labels_white)\n",
    "p1.add_layout(offender_labels_black)\n",
    "\n",
    "agency_labels_white = LabelSet(x=\"offense\", y=\"arrested_byagency\", text=\"arrested_byagency\", y_offset=8, x_offset=-11,\n",
    "                  text_font_size=\"8pt\", text_color=\"#555555\", source=source_arrests_white, text_align='center')\n",
    "agency_labels_black = LabelSet(x=\"offense\", y=\"arrested_byagency\", text=\"arrested_byagency\", y_offset=8, x_offset=11,\n",
    "                  text_font_size=\"8pt\", text_color=\"#555555\", source=source_arrests_black, text_align='center')\n",
    "p2.add_layout(agency_labels_white)\n",
    "p2.add_layout(agency_labels_black)\n",
    "\n",
    "tab1_arrested = Panel(child=p1, title=\"Offender\")\n",
    "tab2_arrested = Panel(child=p2, title=\"Agency\")\n",
    "tabs_arrested = Tabs(tabs=[ tab1_arrested, tab2_arrested ])\n",
    "\n",
    "output_file(\"output/percent_arrested.html\")\n",
    "show(tabs_arrested)"
   ]
  },
  {
   "cell_type": "markdown",
   "metadata": {},
   "source": [
    "### Do \"Whiter\" agencies have higher arrest rates for black offenders, or lower arrest rates for white offenders?"
   ]
  },
  {
   "cell_type": "code",
   "execution_count": null,
   "metadata": {
    "collapsed": false
   },
   "outputs": [],
   "source": [
    "output_notebook()"
   ]
  },
  {
   "cell_type": "code",
   "execution_count": null,
   "metadata": {
    "collapsed": false
   },
   "outputs": [],
   "source": [
    "tabs_list = []\n",
    "for offense in offenses:\n",
    "    offense_title = offense.replace('_', ' ').title()\n",
    "    subset = df[df['offense_' + offense] == 1]\n",
    "    subset['arrested'] = subset['arrested'] * 100\n",
    "    subset_black = subset[subset['black_not_white'] == 1]\n",
    "    subset_white = subset[subset['black_not_white'] == 0]\n",
    "    agg_data = subset.groupby(['ori', 'black_not_white'])[['arrested', 'w_officers_percent']].mean().reset_index()\n",
    "    black_data = agg_data[agg_data['black_not_white'] == 1]\n",
    "    white_data = agg_data[agg_data['black_not_white'] == 0]\n",
    "\n",
    "    predictions_black = pd.DataFrame(lowess(black_data['arrested'], black_data['w_officers_percent']))\n",
    "    predictions_white = pd.DataFrame(lowess(white_data['arrested'], white_data['w_officers_percent']))\n",
    "    \n",
    "    p = figure(tools=TOOLS, title=\"Percent of Offenders Arrested by Race and Percent Officers White\")\n",
    "    p.scatter(black_data['w_officers_percent'], black_data['arrested'], fill_color=black_color, line_color=None, legend=\"Black\")\n",
    "    p.scatter(white_data['w_officers_percent'], white_data['arrested'], fill_color=white_color, line_color=None, legend=\"White\")\n",
    "    p.line(x = predictions_black[0], y = predictions_black[1], color = black_color, line_width=2)\n",
    "    p.line(x = predictions_white[0], y = predictions_white[1], color = white_color, line_width=2)\n",
    "    p.xaxis.axis_label = \"Percent Officers White\"\n",
    "    p.yaxis.axis_label = \"Percent of Offenders Arrested\"\n",
    "    p.y_range = Range1d(-1, 101)\n",
    "    p.x_range = Range1d(-1, 101)\n",
    "    p.legend[0].location = \"top_left\"\n",
    "    tab = Panel(child=p, title=offense_title)\n",
    "    tabs_list.append(tab)\n",
    "\n",
    "tabs_object = Tabs(tabs=tabs_list)\n",
    "output_file(\"output/arrested_wofficers_byagency.html\")\n",
    "show(tabs_object)"
   ]
  }
 ],
 "metadata": {
  "kernelspec": {
   "display_name": "Python 2",
   "language": "python",
   "name": "python2"
  },
  "language_info": {
   "codemirror_mode": {
    "name": "ipython",
    "version": 2
   },
   "file_extension": ".py",
   "mimetype": "text/x-python",
   "name": "python",
   "nbconvert_exporter": "python",
   "pygments_lexer": "ipython2",
   "version": "2.7.11"
  }
 },
 "nbformat": 4,
 "nbformat_minor": 0
}
