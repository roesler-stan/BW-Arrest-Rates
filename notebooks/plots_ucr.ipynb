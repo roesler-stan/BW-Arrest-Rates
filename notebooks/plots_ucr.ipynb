{
 "cells": [
  {
   "cell_type": "markdown",
   "metadata": {},
   "source": [
    "### Plot provider cost predictions and residuals"
   ]
  },
  {
   "cell_type": "code",
   "execution_count": 1,
   "metadata": {
    "collapsed": false,
    "scrolled": true
   },
   "outputs": [
    {
     "name": "stderr",
     "output_type": "stream",
     "text": [
      "/usr/local/lib/python2.7/site-packages/matplotlib/__init__.py:872: UserWarning: axes.color_cycle is deprecated and replaced with axes.prop_cycle; please use the latter.\n",
      "  warnings.warn(self.msg_depr % (key, alt_key))\n"
     ]
    }
   ],
   "source": [
    "import pandas as pd\n",
    "import requests, zipfile, io\n",
    "from bokeh.charts import Bar, Scatter, output_notebook, show, output_file\n",
    "from bokeh.charts.attributes import CatAttr, color\n",
    "from bokeh.models import HoverTool, Range1d, Span, LabelSet, ColumnDataSource, Title\n",
    "from bokeh.models.widgets import Panel, Tabs\n",
    "from bokeh.models.glyphs import Text\n",
    "from bokeh.plotting import figure\n",
    "from bokeh.palettes import PuOr5, RdYlBu10\n",
    "import statsmodels.api as sm\n",
    "lowess = sm.nonparametric.lowess"
   ]
  },
  {
   "cell_type": "markdown",
   "metadata": {},
   "source": [
    "### Read the zipped file"
   ]
  },
  {
   "cell_type": "code",
   "execution_count": 8,
   "metadata": {
    "collapsed": false
   },
   "outputs": [],
   "source": [
    "# df = pd.read_stata('../../Data/ucr13_offenses/36122-0001-Data.dta')\n",
    "# df = pd.read_stata('../../Data/ucr13_arrests/arrest_dems13_clean.dta')\n",
    "df = pd.read_csv('../../Data/ucr13_arrests_offenses.csv')\n",
    "# r = requests.get('http://crimedata.io/data/36122-0001-Data.dta.zip')\n",
    "# z = zipfile.ZipFile(io.BytesIO(r.content))\n",
    "# df = pd.read_csv(z.open('36122-0001-Data.dta'))"
   ]
  },
  {
   "cell_type": "markdown",
   "metadata": {},
   "source": [
    "### See what the data look like"
   ]
  },
  {
   "cell_type": "code",
   "execution_count": 9,
   "metadata": {
    "collapsed": false
   },
   "outputs": [
    {
     "data": {
      "text/html": [
       "<div>\n",
       "<table border=\"1\" class=\"dataframe\">\n",
       "  <thead>\n",
       "    <tr style=\"text-align: right;\">\n",
       "      <th></th>\n",
       "      <th>ori</th>\n",
       "      <th>black_arrests_012</th>\n",
       "      <th>black_arrests_080</th>\n",
       "      <th>black_arrests_090</th>\n",
       "      <th>black_arrests_100</th>\n",
       "      <th>black_arrests_120</th>\n",
       "      <th>black_arrests_130</th>\n",
       "      <th>black_arrests_140</th>\n",
       "      <th>black_arrests_150</th>\n",
       "      <th>black_arrests_160</th>\n",
       "      <th>...</th>\n",
       "      <th>cleared_jun_murder</th>\n",
       "      <th>cleared_jun_manslaugher</th>\n",
       "      <th>murder_offenses_total</th>\n",
       "      <th>rape_offenses_total</th>\n",
       "      <th>robbery_offenses_total</th>\n",
       "      <th>aggravated_assault_offenses_total</th>\n",
       "      <th>burglary_offenses_total</th>\n",
       "      <th>larceny_offenses_total</th>\n",
       "      <th>motor_vehicle_theft_offenses_total</th>\n",
       "      <th>total_offenses_offenses_total</th>\n",
       "    </tr>\n",
       "  </thead>\n",
       "  <tbody>\n",
       "    <tr>\n",
       "      <th>0</th>\n",
       "      <td>AK00101</td>\n",
       "      <td>1</td>\n",
       "      <td>325</td>\n",
       "      <td>1</td>\n",
       "      <td>5</td>\n",
       "      <td>11</td>\n",
       "      <td>4</td>\n",
       "      <td>70</td>\n",
       "      <td>14</td>\n",
       "      <td>83</td>\n",
       "      <td>...</td>\n",
       "      <td>1</td>\n",
       "      <td>0</td>\n",
       "      <td>29</td>\n",
       "      <td>500</td>\n",
       "      <td>688</td>\n",
       "      <td>8540</td>\n",
       "      <td>1460</td>\n",
       "      <td>12112</td>\n",
       "      <td>1140</td>\n",
       "      <td>24473</td>\n",
       "    </tr>\n",
       "    <tr>\n",
       "      <th>1</th>\n",
       "      <td>AK00102</td>\n",
       "      <td>NaN</td>\n",
       "      <td>37</td>\n",
       "      <td>NaN</td>\n",
       "      <td>0</td>\n",
       "      <td>1</td>\n",
       "      <td>NaN</td>\n",
       "      <td>8</td>\n",
       "      <td>4</td>\n",
       "      <td>0</td>\n",
       "      <td>...</td>\n",
       "      <td>0</td>\n",
       "      <td>0</td>\n",
       "      <td>0</td>\n",
       "      <td>47</td>\n",
       "      <td>47</td>\n",
       "      <td>1229</td>\n",
       "      <td>164</td>\n",
       "      <td>1409</td>\n",
       "      <td>133</td>\n",
       "      <td>3029</td>\n",
       "    </tr>\n",
       "  </tbody>\n",
       "</table>\n",
       "<p>2 rows × 949 columns</p>\n",
       "</div>"
      ],
      "text/plain": [
       "       ori  black_arrests_012  black_arrests_080  black_arrests_090  \\\n",
       "0  AK00101                  1                325                  1   \n",
       "1  AK00102                NaN                 37                NaN   \n",
       "\n",
       "   black_arrests_100  black_arrests_120  black_arrests_130  black_arrests_140  \\\n",
       "0                  5                 11                  4                 70   \n",
       "1                  0                  1                NaN                  8   \n",
       "\n",
       "   black_arrests_150  black_arrests_160              ...                \\\n",
       "0                 14                 83              ...                 \n",
       "1                  4                  0              ...                 \n",
       "\n",
       "   cleared_jun_murder  cleared_jun_manslaugher  murder_offenses_total  \\\n",
       "0                   1                        0                     29   \n",
       "1                   0                        0                      0   \n",
       "\n",
       "   rape_offenses_total  robbery_offenses_total  \\\n",
       "0                  500                     688   \n",
       "1                   47                      47   \n",
       "\n",
       "   aggravated_assault_offenses_total  burglary_offenses_total  \\\n",
       "0                               8540                     1460   \n",
       "1                               1229                      164   \n",
       "\n",
       "   larceny_offenses_total  motor_vehicle_theft_offenses_total  \\\n",
       "0                   12112                                1140   \n",
       "1                    1409                                 133   \n",
       "\n",
       "   total_offenses_offenses_total  \n",
       "0                          24473  \n",
       "1                           3029  \n",
       "\n",
       "[2 rows x 949 columns]"
      ]
     },
     "execution_count": 9,
     "metadata": {},
     "output_type": "execute_result"
    }
   ],
   "source": [
    "df.head(2)"
   ]
  },
  {
   "cell_type": "code",
   "execution_count": 5,
   "metadata": {
    "collapsed": false
   },
   "outputs": [
    {
     "data": {
      "text/plain": [
       "22202"
      ]
     },
     "execution_count": 5,
     "metadata": {},
     "output_type": "execute_result"
    }
   ],
   "source": [
    "len(df)"
   ]
  },
  {
   "cell_type": "markdown",
   "metadata": {},
   "source": [
    "#### Define the offenses beforehand"
   ]
  },
  {
   "cell_type": "code",
   "execution_count": 30,
   "metadata": {
    "collapsed": true
   },
   "outputs": [],
   "source": [
    "offenses = ['murder', 'rape', 'sex_offense', 'robbery', 'aggravated_assault', 'burglary',\n",
    "            'motor_vehicle_theft', 'fraud', 'larceny', 'drunkenness']"
   ]
  },
  {
   "cell_type": "code",
   "execution_count": 34,
   "metadata": {
    "collapsed": false
   },
   "outputs": [],
   "source": [
    "percent_black = pd.DataFrame()\n",
    "for offense in offenses:\n",
    "    total_arrests = df[offense + '_arrests_total'].sum()\n",
    "    black_arrests = df['black_arrests_' + offense].sum()\n",
    "    percent_arrests_black = black_arrests / total_arrests\n",
    "\n",
    "    row1 = {'offense': offense, 'percent_black': percent_arrests_black}\n",
    "    percent_black = percent_black.append(row1, ignore_index = True)\n",
    "\n",
    "percent_black['offense'] = percent_black['offense'].str.replace('_', ' ')\n",
    "percent_black['offense'] = percent_black['offense'].str.title()\n",
    "percent_black['percent_black'] = (percent_black['percent_black'] * 100).round(1)"
   ]
  },
  {
   "cell_type": "code",
   "execution_count": 38,
   "metadata": {
    "collapsed": true
   },
   "outputs": [],
   "source": [
    "p = Bar(percent_black, label=CatAttr(columns=['offense'], sort=False), values='percent_black',\n",
    "        tools=\"resize,reset,previewsave\", height=550, width=800, legend=False,\n",
    "        title=\"Percent of Arrestees Black by Offense\", xlabel=\"Offense\", ylabel=\"Percent Black\")\n",
    "\n",
    "# Horizontal line showing % of US population that is black (13%) - sample is 13.0% black\n",
    "hline = Span(location=13, dimension='width', line_color='gray', line_width=2, line_dash=[4,4])\n",
    "p.renderers.extend([hline])\n",
    "\n",
    "msg = \"\"\"Note: Data are from 2013 Uniform Crime Reports (UCR). Dashed gray line shows percentage of US population that is black (13).\"\"\"\n",
    "caption = Title(text=msg, align='left', text_font_size='8pt')\n",
    "p.add_layout(caption, 'below')\n",
    "\n",
    "output_file(\"output/ucr_percent_black.html\")\n",
    "show(p)"
   ]
  },
  {
   "cell_type": "code",
   "execution_count": 39,
   "metadata": {
    "collapsed": false,
    "scrolled": true
   },
   "outputs": [
    {
     "data": {
      "text/html": [
       "<div>\n",
       "<table border=\"1\" class=\"dataframe\">\n",
       "  <thead>\n",
       "    <tr style=\"text-align: right;\">\n",
       "      <th></th>\n",
       "      <th>offense</th>\n",
       "      <th>percent_black</th>\n",
       "    </tr>\n",
       "  </thead>\n",
       "  <tbody>\n",
       "    <tr>\n",
       "      <th>0</th>\n",
       "      <td>Murder</td>\n",
       "      <td>51.8</td>\n",
       "    </tr>\n",
       "    <tr>\n",
       "      <th>1</th>\n",
       "      <td>Rape</td>\n",
       "      <td>30.6</td>\n",
       "    </tr>\n",
       "    <tr>\n",
       "      <th>2</th>\n",
       "      <td>Sex Offense</td>\n",
       "      <td>24.2</td>\n",
       "    </tr>\n",
       "    <tr>\n",
       "      <th>3</th>\n",
       "      <td>Robbery</td>\n",
       "      <td>52.5</td>\n",
       "    </tr>\n",
       "    <tr>\n",
       "      <th>4</th>\n",
       "      <td>Aggravated Assault</td>\n",
       "      <td>31.8</td>\n",
       "    </tr>\n",
       "    <tr>\n",
       "      <th>5</th>\n",
       "      <td>Burglary</td>\n",
       "      <td>28.3</td>\n",
       "    </tr>\n",
       "    <tr>\n",
       "      <th>6</th>\n",
       "      <td>Motor Vehicle Theft</td>\n",
       "      <td>27.4</td>\n",
       "    </tr>\n",
       "    <tr>\n",
       "      <th>7</th>\n",
       "      <td>Fraud</td>\n",
       "      <td>31.5</td>\n",
       "    </tr>\n",
       "    <tr>\n",
       "      <th>8</th>\n",
       "      <td>Larceny</td>\n",
       "      <td>27.2</td>\n",
       "    </tr>\n",
       "    <tr>\n",
       "      <th>9</th>\n",
       "      <td>Drunkenness</td>\n",
       "      <td>14.8</td>\n",
       "    </tr>\n",
       "  </tbody>\n",
       "</table>\n",
       "</div>"
      ],
      "text/plain": [
       "               offense  percent_black\n",
       "0               Murder           51.8\n",
       "1                 Rape           30.6\n",
       "2          Sex Offense           24.2\n",
       "3              Robbery           52.5\n",
       "4   Aggravated Assault           31.8\n",
       "5             Burglary           28.3\n",
       "6  Motor Vehicle Theft           27.4\n",
       "7                Fraud           31.5\n",
       "8              Larceny           27.2\n",
       "9          Drunkenness           14.8"
      ]
     },
     "execution_count": 39,
     "metadata": {},
     "output_type": "execute_result"
    }
   ],
   "source": [
    "percent_black"
   ]
  }
 ],
 "metadata": {
  "kernelspec": {
   "display_name": "Python 2",
   "language": "python",
   "name": "python2"
  },
  "language_info": {
   "codemirror_mode": {
    "name": "ipython",
    "version": 2
   },
   "file_extension": ".py",
   "mimetype": "text/x-python",
   "name": "python",
   "nbconvert_exporter": "python",
   "pygments_lexer": "ipython2",
   "version": "2.7.11"
  }
 },
 "nbformat": 4,
 "nbformat_minor": 0
}
