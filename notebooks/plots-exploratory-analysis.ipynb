{
 "cells": [
  {
   "cell_type": "markdown",
   "metadata": {},
   "source": [
    "### Plot provider cost predictions and residuals"
   ]
  },
  {
   "cell_type": "code",
   "execution_count": 1,
   "metadata": {
    "collapsed": false,
    "scrolled": true
   },
   "outputs": [
    {
     "name": "stderr",
     "output_type": "stream",
     "text": [
      "/usr/local/lib/python2.7/site-packages/matplotlib/__init__.py:872: UserWarning: axes.color_cycle is deprecated and replaced with axes.prop_cycle; please use the latter.\n",
      "  warnings.warn(self.msg_depr % (key, alt_key))\n"
     ]
    }
   ],
   "source": [
    "import pandas as pd\n",
    "import requests, zipfile, io\n",
    "import statsmodels.api as sm\n",
    "lowess = sm.nonparametric.lowess\n",
    "from bokeh.charts import Bar, Scatter, output_notebook, show, output_file\n",
    "from bokeh.charts.attributes import CatAttr, color\n",
    "from bokeh.models import HoverTool, Range1d, Span, LabelSet, ColumnDataSource, Title, NumeralTickFormatter\n",
    "from bokeh.models.widgets import Panel, Tabs\n",
    "from bokeh.models.glyphs import Text\n",
    "from bokeh.plotting import figure\n",
    "from bokeh.palettes import PuOr5, RdYlBu10"
   ]
  },
  {
   "cell_type": "markdown",
   "metadata": {},
   "source": [
    "### Read the zipped file"
   ]
  },
  {
   "cell_type": "code",
   "execution_count": 2,
   "metadata": {
    "collapsed": false
   },
   "outputs": [
    {
     "name": "stderr",
     "output_type": "stream",
     "text": [
      "/usr/local/lib/python2.7/site-packages/IPython/core/interactiveshell.py:2902: DtypeWarning: Columns (12,24,57,68,75,81,86,95,106,143,149,210,212,213,225,241,242,255) have mixed types. Specify dtype option on import or set low_memory=False.\n",
      "  interactivity=interactivity, compiler=compiler, result=result)\n"
     ]
    }
   ],
   "source": [
    "df = pd.read_csv('../../Data/offenders_2013_caplg_ucr_clean2.csv')\n",
    "# r = requests.get('http://crimedata.io/data/offenders_2013_caplg_ucr_clean2.csv.zip')\n",
    "# z = zipfile.ZipFile(io.BytesIO(r.content))\n",
    "# df = pd.read_csv(z.open('offenders_2013_caplg_ucr_clean2.csv'))\n",
    "# Exclude non-Black/White offenders\n",
    "df = df[df['black_not_white'].notnull()]\n",
    "# Fix an issue in the data (wofficers_divres was missing)\n",
    "df['wofficers_divres'] = df['w_officers_percent'] / df['w_residents_percent']\n",
    "# Only include men\n",
    "df = df[df['sex'] == 'male']"
   ]
  },
  {
   "cell_type": "markdown",
   "metadata": {},
   "source": [
    "#### Define the offenses beforehand"
   ]
  },
  {
   "cell_type": "code",
   "execution_count": 3,
   "metadata": {
    "collapsed": true
   },
   "outputs": [],
   "source": [
    "offenses = ['robbery', 'aggravated_assault', 'simple_assault', 'intimidation', 'weapon',\n",
    "            'shoplifting', 'vandalism', 'drugs_narcotics', 'drug_equipment']"
   ]
  },
  {
   "cell_type": "code",
   "execution_count": 4,
   "metadata": {
    "collapsed": true
   },
   "outputs": [],
   "source": [
    "# Create city, state abbreviation column\n",
    "states_dict = {'Alabama': 'AL', 'Alaska': 'AK', 'Arizona': 'AZ', 'Arkansas': 'AR', 'California': 'CA', 'Colorado': 'CO',\n",
    "               'Connecticut': 'CT', 'Delaware': 'DE', 'Florida': 'FL', 'Georgia': 'GA', 'Hawaii': 'HI', 'Idaho': 'ID',\n",
    "               'Illinois': 'IL', 'Indiana': 'IN', 'Iowa': 'IA', 'Kansas': 'KS', 'Kentucky': 'KY', 'Louisiana': 'LA',\n",
    "               'Maine': 'ME', 'Maryland': 'MD', 'Massachusetts': 'MA', 'Michigan': 'MI', 'Minnesota': 'MN', 'Mississippi': 'MS',\n",
    "               'Missouri': 'MO', 'Montana': 'MT', 'Nebraska': 'NE', 'Nevada': 'NV', 'New Hampshire': 'NH', 'New Jersey': 'NJ',\n",
    "               'New Mexico': 'NM', 'New York': 'NY', 'North Carolina': 'NC', 'North Dakota': 'ND', 'Ohio': 'OH',\n",
    "               'Oklahoma': 'OK', 'Oregon': 'OR', 'Pennsylvania': 'PA', 'Rhode Island': 'RI', 'South Carolina': 'SC',\n",
    "               'South Dakota': 'SD', 'Tennessee': 'TN', 'Texas': 'TX', 'Utah': 'UT', 'Vermont': 'VT', 'Virginia': 'VA',\n",
    "               'Washington': 'WA', 'West Virginia': 'WV', 'Wisconsin': 'WI', 'Wyoming': 'WY'}\n",
    "df['state'] = df['state_name'].map(states_dict)\n",
    "df['city_state'] = df['city'] + ', ' + df['state']\n",
    "df.loc[df['city_state'].isnull(), 'city_state'] = ''"
   ]
  },
  {
   "cell_type": "markdown",
   "metadata": {},
   "source": [
    "### Why do agencies with fewer offenders arrest relatively fewer black offenders?  Are smaller agencies faced with similar proportions of black and white offenders originally?"
   ]
  },
  {
   "cell_type": "code",
   "execution_count": 5,
   "metadata": {
    "collapsed": true
   },
   "outputs": [],
   "source": [
    "continuous_variables = {'male_officers_percent': 'Percent of Officers Male', 'b_officers_percent': 'Percent of Officers Black',\n",
    "                        'bofficers_divres': 'Percent Officers / Residents Black', 'bdgt_ttl': 'Total Agency Budget',\n",
    "           'agency_bdgt_per_offender': 'Agency Budget per Offender', 'bdgt_per_ftoff': 'Agency Budget per Full-Time Officer',\n",
    "                        'ftsworn': 'Full-Time Sworn Officers', 'mean_inc': 'County Mean Income',\n",
    "                        'w_residents_percent': 'Percent of Residents White', 'total_residents': 'Total County Population'}"
   ]
  },
  {
   "cell_type": "code",
   "execution_count": 6,
   "metadata": {
    "collapsed": false
   },
   "outputs": [
    {
     "name": "stderr",
     "output_type": "stream",
     "text": [
      "/usr/local/lib/python2.7/site-packages/ipykernel/__main__.py:9: SettingWithCopyWarning: \n",
      "A value is trying to be set on a copy of a slice from a DataFrame.\n",
      "Try using .loc[row_indexer,col_indexer] = value instead\n",
      "\n",
      "See the caveats in the documentation: http://pandas.pydata.org/pandas-docs/stable/indexing.html#indexing-view-versus-copy\n",
      "/usr/local/lib/python2.7/site-packages/numpy/core/_methods.py:59: RuntimeWarning: Mean of empty slice.\n",
      "  warnings.warn(\"Mean of empty slice.\", RuntimeWarning)\n"
     ]
    }
   ],
   "source": [
    "black_color = PuOr5[-1]\n",
    "white_color = PuOr5[0]\n",
    "\n",
    "for variable, variable_nice in continuous_variables.items():\n",
    "    tabs_list = []\n",
    "    for offense in offenses:\n",
    "        offense_title = offense.replace('_', ' ').title()\n",
    "        subset = df[df['offense_' + offense] == 1]\n",
    "        subset['arrested'] = subset['arrested'] * 100\n",
    "        subset_black = subset[subset['black_not_white'] == 1]\n",
    "        subset_white = subset[subset['black_not_white'] == 0]\n",
    "        agg_data = subset.groupby(['ori', 'black_not_white'])[['arrested', variable]].mean().reset_index()\n",
    "        city_data = subset.groupby('ori')['city_state'].max().reset_index()\n",
    "        agg_data = agg_data.merge(city_data, on = ['ori'], how = 'inner')\n",
    "        \n",
    "        black_data = agg_data[agg_data['black_not_white'] == 1]\n",
    "        white_data = agg_data[agg_data['black_not_white'] == 0]\n",
    "\n",
    "        predictions_black = pd.DataFrame(lowess(black_data['arrested'], black_data[variable]))\n",
    "        predictions_white = pd.DataFrame(lowess(white_data['arrested'], white_data[variable]))\n",
    "\n",
    "        p = figure(tools=\"previewsave\", title=\"Percent of Offenders Arrested\", height=600, width=600)\n",
    "        p.scatter(black_data[variable], black_data['arrested'], fill_color=black_color, line_color=None, legend=\"Black\")\n",
    "        p.scatter(white_data[variable], white_data['arrested'], fill_color=white_color, line_color=None, legend=\"White\")\n",
    "        p.line(x = predictions_black[0], y = predictions_black[1], color = black_color, line_width=2)\n",
    "        p.line(x = predictions_white[0], y = predictions_white[1], color = white_color, line_width=2)\n",
    "        p.xaxis.axis_label = variable_nice\n",
    "        p.yaxis.axis_label = \"Percent of Offenders Arrested\"\n",
    "        p.y_range = Range1d(-1, 101)\n",
    "#         p.xaxis[0].formatter = NumeralTickFormatter(format=\"0,0\")\n",
    "        p.legend[0].location = \"top_right\"\n",
    "        \n",
    "        tab = Panel(child=p, title=offense_title)\n",
    "        tabs_list.append(tab)\n",
    "        msg = \"\"\"Note: Data are from 2013 NIBRS and LEMAS, and only male offenders are included.\"\"\"\n",
    "        caption = Title(text=msg, align='left', text_font_size='8pt')\n",
    "        p.add_layout(caption, 'below')\n",
    "\n",
    "    tabs_object = Tabs(tabs=tabs_list)\n",
    "    output_file(\"output/bw_\" + variable + \".html\")\n",
    "    show(tabs_object)"
   ]
  },
  {
   "cell_type": "code",
   "execution_count": null,
   "metadata": {
    "collapsed": true
   },
   "outputs": [],
   "source": [
    "binary_variables = ['tech_typ_vpat', 'com_mis', 'min_hiring_educ_gths']"
   ]
  }
 ],
 "metadata": {
  "anaconda-cloud": {},
  "kernelspec": {
   "display_name": "Python 2",
   "language": "python",
   "name": "python2"
  },
  "language_info": {
   "codemirror_mode": {
    "name": "ipython",
    "version": 2
   },
   "file_extension": ".py",
   "mimetype": "text/x-python",
   "name": "python",
   "nbconvert_exporter": "python",
   "pygments_lexer": "ipython2",
   "version": "2.7.11"
  }
 },
 "nbformat": 4,
 "nbformat_minor": 0
}
