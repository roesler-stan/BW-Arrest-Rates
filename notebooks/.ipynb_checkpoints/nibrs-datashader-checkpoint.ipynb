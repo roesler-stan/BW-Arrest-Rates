{
 "cells": [
  {
   "cell_type": "markdown",
   "metadata": {},
   "source": [
    "### Plot provider cost predictions and residuals"
   ]
  },
  {
   "cell_type": "code",
   "execution_count": 1,
   "metadata": {
    "collapsed": false,
    "scrolled": true
   },
   "outputs": [
    {
     "name": "stderr",
     "output_type": "stream",
     "text": [
      "/usr/local/lib/python2.7/site-packages/matplotlib/__init__.py:872: UserWarning: axes.color_cycle is deprecated and replaced with axes.prop_cycle; please use the latter.\n",
      "  warnings.warn(self.msg_depr % (key, alt_key))\n"
     ]
    }
   ],
   "source": [
    "import pandas as pd\n",
    "import zipfile\n",
    "from bokeh.charts import Bar, Scatter, output_notebook, show, vplot, hplot, output_file\n",
    "from bokeh.charts.attributes import CatAttr\n",
    "from bokeh.models import NumeralTickFormatter, HoverTool, Range1d, Span, LabelSet, ColumnDataSource\n",
    "from bokeh.models.widgets import Panel, Tabs\n",
    "from bokeh.models.glyphs import Text\n",
    "from bokeh.plotting import figure\n",
    "from bokeh.palettes import PuOr5\n",
    "import statsmodels.api as sm\n",
    "lowess = sm.nonparametric.lowess\n",
    "from sklearn.linear_model import LinearRegression"
   ]
  },
  {
   "cell_type": "markdown",
   "metadata": {},
   "source": [
    "### Read the zipped file"
   ]
  },
  {
   "cell_type": "code",
   "execution_count": 7,
   "metadata": {
    "collapsed": false
   },
   "outputs": [
    {
     "name": "stderr",
     "output_type": "stream",
     "text": [
      "/usr/local/lib/python2.7/site-packages/IPython/core/interactiveshell.py:2902: DtypeWarning: Columns (12,24,57,68,75,81,86,95,106,143,149,210,212,213,225,241,242,255) have mixed types. Specify dtype option on import or set low_memory=False.\n",
      "  interactivity=interactivity, compiler=compiler, result=result)\n"
     ]
    }
   ],
   "source": [
    "zf = zipfile.ZipFile('../data/offenders_2013_caplg_ucr_clean2.csv.zip')\n",
    "df = pd.read_csv(zf.open('offenders_2013_caplg_ucr_clean2.csv'))"
   ]
  },
  {
   "cell_type": "markdown",
   "metadata": {},
   "source": [
    "### Which offenders are arrested, compared to their police agencies' racial demographics?"
   ]
  },
  {
   "cell_type": "code",
   "execution_count": null,
   "metadata": {
    "collapsed": true
   },
   "outputs": [],
   "source": [
    "tabs_list = []\n",
    "for offense in offenses:\n",
    "    offense_title = offense.replace('_', ' ').title()\n",
    "    subset = df[df['offense_' + offense] == 1]\n",
    "    subset_black = subset[subset['black_not_white'] == 1]\n",
    "    subset_white = subset[subset['black_not_white'] == 0]\n",
    "\n",
    "    predictions_white = pd.DataFrame(lowess(subset_white['arrested'], subset_white['w_officers_percent']))\n",
    "    predictions_black = pd.DataFrame(lowess(subset_black['arrested'], subset_black['w_officers_percent']))\n",
    "    \n",
    "    p = figure(tools=TOOLS, title=\"Probability Arrested by Race and Percent Officers White\")\n",
    "    p.line(x = predictions_white[0], y = predictions_white[1], color = white_color, legend=\"White\")\n",
    "    p.line(x = predictions_black[0], y = predictions_black[1], color = black_color, legend=\"Black\")\n",
    "    p.xaxis.axis_label = \"Percent Officers White\"\n",
    "    p.yaxis.axis_label = \"Probability Arrested (Local Regression)\"\n",
    "    p.y_range = Range1d(-0.1, 1.1)\n",
    "    tab = Panel(child=p, title=offense_title)\n",
    "    tabs_list.append(tab)\n",
    "\n",
    "tabs_object = Tabs(tabs=tabs_list)\n",
    "show(tabs_object)"
   ]
  },
  {
   "cell_type": "markdown",
   "metadata": {},
   "source": [
    "### Which offenders are arrested, compared to their police agencies' racial demographics?"
   ]
  },
  {
   "cell_type": "markdown",
   "metadata": {},
   "source": [
    "#### Use datashader, which can handle many points"
   ]
  },
  {
   "cell_type": "code",
   "execution_count": null,
   "metadata": {
    "collapsed": false
   },
   "outputs": [],
   "source": [
    "import datashader as ds\n",
    "from datashader.bokeh_ext import InteractiveImage\n",
    "from functools import partial\n",
    "from datashader.utils import export_image\n",
    "from datashader.colors import colormap_select, Greys9, Hot, viridis, inferno\n",
    "from IPython.core.display import HTML, display\n",
    "from datashader import transfer_functions as tf\n",
    "from datashader.utils import export_image\n",
    "from bokeh.plotting import output_notebook, figure\n",
    "import statsmodels.api as sm\n",
    "lowess = sm.nonparametric.lowess\n",
    "from sklearn.linear_model import LinearRegression"
   ]
  },
  {
   "cell_type": "code",
   "execution_count": null,
   "metadata": {
    "collapsed": false
   },
   "outputs": [],
   "source": [
    "offense = 'shoplifting'\n",
    "output_notebook()\n",
    "\n",
    "# Make height small b/c do'nt need empty space in middle\n",
    "plot_width  = int(750)\n",
    "plot_height = int(plot_width // 2.2)\n",
    "\n",
    "background = \"white\"\n",
    "export = partial(export_image, export_path=\"output\", background=background)\n",
    "cm = partial(colormap_select, reverse=(background==\"white\"))\n",
    "TOOLS=\"pan,wheel_zoom,box_zoom,reset,previewsave\"\n",
    "\n",
    "x_min = df['w_officers_percent'].min()\n",
    "x_max = df['w_officers_percent'].max()\n",
    "x_range = (x_min, x_max)\n",
    "y_range = (-0.1, 1.1)\n",
    "area = x_range, y_range\n",
    "\n",
    "def base_plot(prediction_white, predictions_black,\n",
    "              plot_title, x_label, y_label, tools=TOOLS, plot_width=plot_width, plot_height=plot_height, **plot_args):\n",
    "    p = figure(title = plot_title, tools=tools, plot_width=plot_width, plot_height=plot_height,\n",
    "        x_range=x_range, y_range=y_range, outline_line_color=None,\n",
    "        min_border=0, min_border_left=0, min_border_right=0,\n",
    "        min_border_top=0, min_border_bottom=0, **plot_args)\n",
    "    p.xaxis.axis_label = x_label\n",
    "    p.yaxis.axis_label = y_label\n",
    "    p.line(x = predictions_white[0], y = predictions_white[1], color = \"green\", legend=\"White\")\n",
    "    p.line(x = predictions_black[0], y = predictions_black[1], color = \"red\", legend=\"Black\")\n",
    "    p.legend[0].location = \"top_left\"\n",
    "    \n",
    "    return p\n",
    "\n",
    "def create_image(x_range, y_range, w=plot_width, h=plot_height):\n",
    "    cvs = ds.Canvas(plot_width=w, plot_height=h, x_range=x_range, y_range=y_range)\n",
    "    agg = cvs.points(subset, 'w_officers_percent', 'arrested', ds.mean('black_not_white'))\n",
    "    img = tf.shade(agg, cmap=[\"green\", \"yellow\", \"red\"], how='eq_hist')\n",
    "    return tf.dynspread(img, threshold=0.5, max_px=4)\n",
    "\n",
    "subset = df[df['offense_' + offense] == 1]\n",
    "subset_black = subset[subset['black_not_white'] == 1]\n",
    "subset_white = subset[subset['black_not_white'] == 0]\n",
    "\n",
    "predictions_white = pd.DataFrame(lowess(subset_white['arrested'], subset_white['w_officers_percent']))\n",
    "predictions_black = pd.DataFrame(lowess(subset_black['arrested'], subset_black['w_officers_percent']))\n",
    "\n",
    "p = base_plot(predictions_white, predictions_black,\n",
    "              plot_title = \"Offenders by Race and Agency Racial Demographics\",\n",
    "              x_label = \"Percent Officers White\", y_label = \"Arrested\", background_fill_color=background)\n",
    "export(create_image(*area), offense + \"_raw\")\n",
    "InteractiveImage(p, create_image)"
   ]
  }
 ],
 "metadata": {
  "kernelspec": {
   "display_name": "Python 2",
   "language": "python",
   "name": "python2"
  },
  "language_info": {
   "codemirror_mode": {
    "name": "ipython",
    "version": 2
   },
   "file_extension": ".py",
   "mimetype": "text/x-python",
   "name": "python",
   "nbconvert_exporter": "python",
   "pygments_lexer": "ipython2",
   "version": "2.7.11"
  }
 },
 "nbformat": 4,
 "nbformat_minor": 0
}
