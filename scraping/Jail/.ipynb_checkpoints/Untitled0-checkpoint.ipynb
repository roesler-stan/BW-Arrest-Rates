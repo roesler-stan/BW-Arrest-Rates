{
 "metadata": {
  "name": "",
  "signature": "sha256:d34257629b4c45252c34288fd43a4fd31cb6719ab0089e7a9fdda9d44f2634de"
 },
 "nbformat": 3,
 "nbformat_minor": 0,
 "worksheets": []
}