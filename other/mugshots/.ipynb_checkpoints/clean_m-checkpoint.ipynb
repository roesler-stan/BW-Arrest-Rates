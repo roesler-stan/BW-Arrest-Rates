{
 "metadata": {
  "name": "",
  "signature": "sha256:0e763cccd7fca3583dd6638d4c778441f3657443111f57b6bc3d1b4f21387ebc"
 },
 "nbformat": 3,
 "nbformat_minor": 0,
 "worksheets": [
  {
   "cells": [
    {
     "cell_type": "heading",
     "level": 4,
     "metadata": {},
     "source": [
      "This file is mugshots.com-specific"
     ]
    },
    {
     "cell_type": "heading",
     "level": 4,
     "metadata": {},
     "source": [
      "To make \"combo\" variables before cleaning them with \"general clean\""
     ]
    },
    {
     "cell_type": "code",
     "collapsed": false,
     "input": [
      "import pandas\n",
      "import numpy\n",
      "import re"
     ],
     "language": "python",
     "metadata": {},
     "outputs": []
    },
    {
     "cell_type": "code",
     "collapsed": false,
     "input": [
      "# This file reads the pickle created from the html and selects columns to clean later\n",
      "def clean_arrests(input_file, counties_file):\n",
      "    dataset = pandas.read_pickle(input_file)\n",
      "    dataset = clean_vars(dataset)\n",
      "    dataset = clean_counties(dataset, counties_file)\n",
      "    dataset = combine_charges(dataset)\n",
      "\n",
      "    dataset = keep_vars(dataset)\n",
      "    \n",
      "    return dataset"
     ],
     "language": "python",
     "metadata": {},
     "outputs": []
    },
    {
     "cell_type": "code",
     "collapsed": false,
     "input": [
      "# Take each column whose name has the include values given and not the exclude values and combine them into _combo vars\n",
      "# Address shouldn't come from a table, so excluding that\n",
      "# Need to eliminate bad columns - e.g. \"offense date\"\n",
      "\n",
      "def clean_vars(dataset):\n",
      "    # First value is to include, second to exclude\n",
      "    combo_vars = {'race': ['race|racial|ethnic'], 'gender':['^gender$|^sex$'],\n",
      "        'birthday':['birth','place'], 'age':['(^|[^a-z])age([^a-z]|$)','victim'],\n",
      "        'address':['address','work|facility|court|temp|emp|other|school|verified|2|jail|second|table|google'],\n",
      "        'zipcode':['zip','work|facility|court|temp|emp|other|school|2|jail|prison|second'],\n",
      "        'date':['(^date$)|((?=.*date)(?=.*/?time|desc|charg|book|confin|admi|arrest|arrrest|'\n",
      "                'detain|regist|comm|cust|filed|post|intake|arriv|incarc|initial|enter|'\n",
      "                 'hold|start|in|lodged|added|jail|receiv|entry|issue|recept|publish|intake|'\n",
      "                 'cust|start|begin))',\n",
      "                 'release|court|sentenc|download_date|conv|offense|crime|photo|parole|hearing|'\n",
      "                 'discharge|maximum|min|renew|regist|superv']}\n",
      "\n",
      "    for key in combo_vars.keys():\n",
      "        dataset[key + '_combo'] = ''\n",
      "        include = re.compile(combo_vars[key][0])\n",
      "        if len(combo_vars[key]) > 1:\n",
      "            exclude = re.compile(combo_vars[key][1] + '|combo')\n",
      "        else:\n",
      "            exclude = re.compile('combo')\n",
      "        \n",
      "        for col in dataset.columns:\n",
      "            if re.search(include, str(col)) and not re.search(exclude, str(col)):\n",
      "                dataset.loc[dataset[col].notnull(), key + '_combo'] += dataset[col].astype(str) + '; '\n",
      "    \n",
      "    dataset['download_date'] = pandas.to_datetime(dataset['download_date'], coerce = True, utc = True)\n",
      "\n",
      "    # This arrest_id has duplicates, but is unique within county-state folders\n",
      "    dataset = dataset.rename(columns = {'arrest_id': 'scraping_arrest_id'})\n",
      "    \n",
      "    return dataset"
     ],
     "language": "python",
     "metadata": {},
     "outputs": []
    },
    {
     "cell_type": "code",
     "collapsed": false,
     "input": [
      "# Labels counties with their FIPS ID (county_no)\n",
      "def clean_counties(dataset, counties_file):\n",
      "    official_counties = {}\n",
      "    with open(counties_file, 'r') as county_file:\n",
      "        for line in county_file:\n",
      "            # counties are on the right, as County, State\n",
      "            key = line.split('\\t')[1].strip()\n",
      "            value = line.split('\\t')[0]\n",
      "            official_counties[key] = value\n",
      "\n",
      "    dataset['arrest_county'] = dataset['arrest_county'].str.replace('-', ' ')\n",
      "    dataset['county_state'] = dataset['arrest_county'] + ', ' + dataset['arrest_state']\n",
      "\n",
      "    def get_countyno(county_string):\n",
      "        if official_counties.has_key(county_string):\n",
      "            return str(official_counties[county_string])\n",
      "\n",
      "    # Returns strings of the county number\n",
      "    dataset['county_no'] = dataset['county_state'].map(get_countyno)\n",
      "\n",
      "    return dataset"
     ],
     "language": "python",
     "metadata": {},
     "outputs": []
    },
    {
     "cell_type": "code",
     "collapsed": false,
     "input": [
      "def combine_charges(dataset):\n",
      "    # Combining variables with 'charge' or 'offense' in their name\n",
      "    dataset['charge_combo'] = ''\n",
      "\n",
      "    charge_include = re.compile('charge|offense')\n",
      "    charge_exclude = re.compile('\\#|number|authority|bail|discharged|date|charge_combo|charge_cat'\n",
      "                                'count|degree|level|related')\n",
      "    \n",
      "    def get_charges(charge_value):\n",
      "        if isinstance(charge_value, tuple) and charge_value:\n",
      "            return ' +++ ' + str(charge_value) + ' +++ '\n",
      "\n",
      "        elif isinstance(charge_value, basestring):\n",
      "            if not charge_value.isspace():\n",
      "                return ' || ' + charge_value + ' || '\n",
      "            else:\n",
      "                return ''\n",
      "        \n",
      "        return ''\n",
      "    \n",
      "    for col in dataset.columns:\n",
      "        if re.search(charge_include, str(col)) and not re.search(charge_exclude, str(col)):\n",
      "            dataset.loc[dataset[col].notnull(), 'charge_combo'] += dataset[col].map(get_charges)\n",
      "\n",
      "    return dataset"
     ],
     "language": "python",
     "metadata": {},
     "outputs": []
    },
    {
     "cell_type": "code",
     "collapsed": false,
     "input": [
      "def keep_vars(dataset):\n",
      "    # The variables to keep.  _combo are new  vars\n",
      "    dataset = dataset[['scraping_arrest_id', 'county_no', 'arrest_state', 'arrest_county', 'page_views',\n",
      "                       'download_date', 'description_found', 'disclaimer_found',\n",
      "                       'fullname', 'google_address',\n",
      "                       'age_combo','gender_combo','zipcode_combo','birthday_combo','race_combo',\n",
      "                       'address_combo', 'date_combo', 'charge_combo']]\n",
      "\n",
      "    # Now you can rename _combo to correct var name\n",
      "    dataset = dataset.rename(columns=lambda x: x.split('_combo')[0])\n",
      "\n",
      "    dataset = dataset.rename(columns = {'fullname':'name', 'arrest_state':'state',\n",
      "                                        'arrest_county':'county', 'charge':'all_charges',\n",
      "                                        'description_found':'description',\n",
      "                                        'disclaimer_found':'disclaimer'})\n",
      "    \n",
      "    return dataset"
     ],
     "language": "python",
     "metadata": {},
     "outputs": []
    }
   ],
   "metadata": {}
  }
 ]
}