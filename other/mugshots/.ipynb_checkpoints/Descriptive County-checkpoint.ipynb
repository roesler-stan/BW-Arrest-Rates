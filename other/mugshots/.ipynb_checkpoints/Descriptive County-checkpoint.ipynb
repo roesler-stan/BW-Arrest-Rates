{
 "metadata": {
  "name": "",
  "signature": "sha256:46745e56348aebdef589f95406d9acd8dff1d173678fb07623146bfc2fa74b23"
 },
 "nbformat": 3,
 "nbformat_minor": 0,
 "worksheets": [
  {
   "cells": [
    {
     "cell_type": "code",
     "collapsed": true,
     "input": [
      "import pandas\n",
      "import numpy\n",
      "import Setup_Datasets as su\n",
      "import Analysis_Prep as ap\n",
      "import statsmodels.formula.api as sm\n",
      "from statsmodels.iolib.summary2 import summary_col\n",
      "import statsmodels.genmod.generalized_estimating_equations as sgm\n",
      "import statsmodels.genmod.generalized_linear_model as glm\n",
      "from patsy import Treatment\n",
      "from scipy.stats import pearsonr"
     ],
     "language": "python",
     "metadata": {},
     "outputs": [],
     "prompt_number": 1
    },
    {
     "cell_type": "code",
     "collapsed": false,
     "input": [
      "dataset = su.main('../../Data/SQL Output/Subqueries/arrests_2014.csv')\n",
      "\n",
      "dataset, d2014 = ap.main(dataset, 2014)\n",
      "m2014 = d2014[d2014['gender'] == 'male'][:]\n",
      "# These data exclude anyone without a charge coded."
     ],
     "language": "python",
     "metadata": {},
     "outputs": [],
     "prompt_number": 2
    },
    {
     "cell_type": "code",
     "collapsed": false,
     "input": [
      "# Counties' Characteristics - Income, Race, Unemployment, etc.\n",
      "def county_table(dataset, all_vars, outfile):\n",
      "    ave_values = {}\n",
      "    std_values = {}\n",
      "    counts_dict = {}\n",
      "\n",
      "    for var in all_vars:\n",
      "        ave_values[var] = dataset[var].mean()\n",
      "        std_values[var] = dataset[var].std()\n",
      "        counts_dict[var] = dataset[var].count().astype(float)\n",
      "\n",
      "    # Mean Values Table\n",
      "    data_dict = {'Mean': ave_values, 'S.D.': std_values, 'N' : counts_dict}\n",
      "    table_data = pandas.DataFrame(data_dict, index = [all_vars])\n",
      "    table_data = table_data[['Mean', 'S.D.', 'N']]\n",
      "\n",
      "    # lambda x: '%.2f' % x\n",
      "    def table_format(number):\n",
      "        if number == numpy.nan:\n",
      "            return 'N/A'\n",
      "        # If it's really small, put 4 numbers after the decimal\n",
      "        if number <= 0.001:\n",
      "            return '%.4f' % number\n",
      "        if number <= 100:\n",
      "            return '%.3f' % number\n",
      "        if number > 100:\n",
      "            return '{0:,d}'.format(int(number))\n",
      "        else:\n",
      "            return 'N/A'\n",
      "    \n",
      "    with open ('../Figures_Output/Draft 1/tables/' + outfile + '.tex', 'w') as mfile:\n",
      "        mfile.write(pandas.DataFrame.to_latex(table_data, float_format = lambda x: table_format(x)))"
     ],
     "language": "python",
     "metadata": {},
     "outputs": [],
     "prompt_number": 3
    },
    {
     "cell_type": "code",
     "collapsed": false,
     "input": [
      "# Not sure 'agcytype_count' is right.\n",
      "# asforest is wrong until take average rather than sum in PGAdmin\n",
      "ldesc_vars = ['agency_count', 'swnftemp', 'w_officers_percent_calc', 'b_officers_percent_calc',\n",
      "              'wofficers_minusres', 'male_officers_percent', 'opbudget', 'drugforf']\n",
      "\n",
      "laccount_vars = ['car_cameras_ave', 'ccrb', 'ccrb_wpowers', 'outsideinv']\n",
      "\n",
      "lcomplaint_vars = ['numuofsust', 'numuofoth', 'numuofpend', 'numuoftot']\n",
      "\n",
      "lpay_vars = ['chiefmin', 'chiefmax', 'sgtmin', 'sgtmax', 'entrymin', 'entrymax']\n",
      "\n",
      "lpaytype_vars = ['educpay', 'hazardpay', 'meritpay', 'shiftpay', 'skillpay', 'langpay',\n",
      "                 'tuitionpay', 'milpay', 'collbarg', 'respay']\n",
      "\n",
      "# CPTRNNEW and cptrninserv are an annoying format (categorical)\n",
      "# CPSARA and CPSARANUM are annoying, too, but aren't in data anyway\n",
      "# Omitting mineduc and edreqexm for now b/c categorical\n",
      "lcommunity_vars = ['cpmission', 'cpacademy', 'cpplan', 'cppartner', 'cpsurvey', 'cpunit', 'cpnone']\n",
      "\n",
      "lreq_vars = ['totacad', 'totfield', 'totinsrv', 'voicestress', 'writaptest', 'anprobsolv', 'cultdiv',\n",
      "             'confmgt', 'psycheval', 'polyexam', 'perstest', 'intervw', 'drivhis',\n",
      "             'backgrnd', 'credhis', 'crimhis', 'seclang', 'volhis', 'drugtest', 'medexam', 'phystest']\n",
      "\n",
      "# Add early_warn in future datasets\n",
      "lpolicy_vars = ['deadforcplcy', 'lessthanplcy', 'earlywarn', 'codecondplcy', 'offdemplplcy', 'maxhoursplcy',\n",
      "                'offdcondplcy', 'mediaplcy', 'eapplcy', 'mentillplcy', 'homelessplcy', 'domdispplcy',\n",
      "                'juvenileplcy', 'limitengplcy', 'incusdthplcy', 'racialprplcy', 'citcompplcy', 'immstatplcy']\n",
      "\n",
      "limpute_vars = ['impbudget', 'impcarcam', 'impgender', 'imprace']\n",
      "\n",
      "lemas_vars = ldesc_vars + laccount_vars + lcomplaint_vars + lpay_vars + lpaytype_vars + lcommunity_vars + \\\n",
      "    lreq_vars + lpolicy_vars + limpute_vars\n",
      "\n",
      "lcontrols_all = ['w_officers_percent_calc', 'b_officers_percent_calc', 'male_officers_percent',\n",
      "                 'opbudget', 'car_cameras_ave', 'ccrb',\n",
      "                 'meritpay', 'cpnone', 'psycheval', 'totacad', 'totfield', 'earlywarn', 'racialprplcy', 'citcompplcy']\n",
      "\n",
      "# do lcontrols_all.remove(iv) to get all controls except a certain IV\n",
      "\n",
      "county_vars = ['total_residents', 'w_residents_percent', 'b_residents_percent', 'inc_mean',\n",
      "               'unemployed', 'gov_dem', 'gov_repub', 'gov_indep',\n",
      "               'winc_under40_percent', 'binc_under40_percent']\n",
      "\n",
      "# 'b_ator', 'w_ator', 'bdivw_ator'"
     ],
     "language": "python",
     "metadata": {},
     "outputs": []
    },
    {
     "cell_type": "code",
     "collapsed": false,
     "input": [
      "m2014_counties = m2014.groupby('county_no')\n",
      "m2014_counties = m2014_counties.mean().reset_index()\n",
      "\n",
      "d2014_counties = d2014.groupby('county_no')\n",
      "d2014_counties = d2014_counties.mean().reset_index()"
     ],
     "language": "python",
     "metadata": {},
     "outputs": [],
     "prompt_number": 4
    },
    {
     "cell_type": "code",
     "collapsed": false,
     "input": [
      "# Only 7 counties have CCRB's with powers\n",
      "m2014.groupby('county_no')['ccrb_wpowers'].mean().sum()"
     ],
     "language": "python",
     "metadata": {},
     "outputs": []
    },
    {
     "cell_type": "code",
     "collapsed": false,
     "input": [
      "d2014_counties['b_ator'].mean() / d2014_counties['w_ator'].mean()\n",
      "#m2014_counties['b_ator'].mean() / m2014_counties['w_ator'].mean()"
     ],
     "language": "python",
     "metadata": {},
     "outputs": []
    },
    {
     "cell_type": "code",
     "collapsed": true,
     "input": [
      "county_table(m2014_counties, lemas_vars, 'lemas_vars_m2014b')\n",
      "#county_table(m2014_counties, county_vars, 'county_vars_m2014')"
     ],
     "language": "python",
     "metadata": {},
     "outputs": []
    },
    {
     "cell_type": "code",
     "collapsed": true,
     "input": [
      "corr_vars = ['w_officers_percent_calc', 'wofficers_minusres', 'male_officers_percent', 'opbudget',\n",
      "               'numuoftot', 'psycheval', 'totinsrv', 'cultdiv', 'confmgt', 'ccrb',\n",
      "               'binc_under40_percent', 'winc_under40_percent', 'bwinc_under40_pdiff']\n",
      "\n",
      "corr_table = m2014_counties[corr_vars].corr()\n",
      "\n",
      "with open ('../Figures_Output/Draft 1/tables/lemas_corr_m2014b.tex', 'w') as mfile:\n",
      "    mfile.write(pandas.DataFrame.to_latex(corr_table, float_format = lambda x: '%.3f' % x))\n",
      "\n",
      "# How to get p-values?"
     ],
     "language": "python",
     "metadata": {},
     "outputs": []
    },
    {
     "cell_type": "code",
     "collapsed": false,
     "input": [
      "white_vres = numpy.ma.masked_array(m2014_counties['wofficers_minusres'], mask = m2014_counties['wofficers_minusres'].isnull())\n",
      "bw_inc = numpy.ma.masked_array(m2014_counties['bwinc_under40_pdiff'], mask = m2014_counties['bwinc_under40_pdiff'].isnull())"
     ],
     "language": "python",
     "metadata": {},
     "outputs": [],
     "prompt_number": 7
    },
    {
     "cell_type": "code",
     "collapsed": false,
     "input": [
      "len(white_vres)"
     ],
     "language": "python",
     "metadata": {},
     "outputs": [
      {
       "metadata": {},
       "output_type": "pyout",
       "prompt_number": 11,
       "text": [
        "1058"
       ]
      }
     ],
     "prompt_number": 11
    },
    {
     "cell_type": "code",
     "collapsed": false,
     "input": [
      "numpy.ma.corrcoef([white_vres, bw_inc], allow_masked = True)"
     ],
     "language": "python",
     "metadata": {},
     "outputs": [
      {
       "metadata": {},
       "output_type": "pyout",
       "prompt_number": 12,
       "text": [
        "masked_array(data =\n",
        " [[1.0 -0.13331711083529973]\n",
        " [-0.13331711083529973 1.0]],\n",
        "             mask =\n",
        " [[False False]\n",
        " [False False]],\n",
        "       fill_value = 1e+20)"
       ]
      }
     ],
     "prompt_number": 12
    },
    {
     "cell_type": "code",
     "collapsed": false,
     "input": [
      "N = 1058\n",
      "r = -.031246\n",
      "t = r * numpy.sqrt((N - 2) / (1 - (r ** 2)))"
     ],
     "language": "python",
     "metadata": {},
     "outputs": [],
     "prompt_number": 9
    },
    {
     "cell_type": "code",
     "collapsed": false,
     "input": [
      "t"
     ],
     "language": "python",
     "metadata": {},
     "outputs": [
      {
       "metadata": {},
       "output_type": "pyout",
       "prompt_number": 10,
       "text": [
        "-1.0158708407716346"
       ]
      }
     ],
     "prompt_number": 10
    },
    {
     "cell_type": "heading",
     "level": 4,
     "metadata": {},
     "source": [
      "Missingness"
     ]
    },
    {
     "cell_type": "code",
     "collapsed": false,
     "input": [
      "count_75 = {}\n",
      "mean_75 = {}\n",
      "max_miss = .75\n",
      "county_groups = m2014.groupby('county_no')\n",
      "county_arrests = county_groups['arrest_id'].count()\n",
      "\n",
      "count_75['Black vs. White'] = ((county_groups['black_not_white'].count() / county_arrests) > max_miss).sum()\n",
      "count_75['Zip Code'] = ((county_groups['zipcode'].count() / county_arrests) > max_miss).sum()\n",
      "count_75['Age'] = ((county_groups['age'].count() / county_arrests) > max_miss).sum()\n",
      "\n",
      "mean_75['Black vs. White'] = ((county_groups['black_not_white'].count() / county_arrests) > max_miss).mean()\n",
      "mean_75['Zip Code'] = ((county_groups['zipcode'].count() / county_arrests) > max_miss).mean()\n",
      "mean_75['Age'] = ((county_groups['age'].count() / county_arrests) > max_miss).mean()\n",
      "\n",
      "# % of counties with at least 75% non-missing for each var.mean_75"
     ],
     "language": "python",
     "metadata": {},
     "outputs": []
    },
    {
     "cell_type": "code",
     "collapsed": false,
     "input": [
      "(m2014['charge_no'] > 1).mean()"
     ],
     "language": "python",
     "metadata": {},
     "outputs": []
    },
    {
     "cell_type": "heading",
     "level": 4,
     "metadata": {},
     "source": [
      "How do police IVs relate to one another?"
     ]
    },
    {
     "cell_type": "code",
     "collapsed": false,
     "input": [
      "#pearsonr(numpy.isfinite(m2014_counties['psycheval']), numpy.isfinite(m2014_counties['numuoftot']))\n",
      "pearsonr(numpy.isfinite(m2014_counties['psycheval']), numpy.isfinite(m2014_counties['numuofsust']))"
     ],
     "language": "python",
     "metadata": {},
     "outputs": []
    },
    {
     "cell_type": "code",
     "collapsed": false,
     "input": [
      "# How well police requirements hang together\n",
      "def check_reqs(dataset):\n",
      "    #from scipy.stats.stats import pearsonr\n",
      "    # pearsonr(x,y)\n",
      "    # two vars at a time\n",
      "\n",
      "    from statsmodels.stats.inter_rater import cohens_kappa\n",
      "    cohens_kappa(table)\n",
      "\n",
      "    def CronbachAlpha(itemscores):\n",
      "        itemscores = numpy.asarray(itemscores)\n",
      "        itemvars = itemscores.var(axis=1, ddof=1)\n",
      "        tscores = itemscores.sum(axis=0)\n",
      "        nitems = len(itemscores)\n",
      "        return nitems / (nitems-1.) * (1 - itemvars.sum() / tscores.var(ddof=1))\n",
      "\n",
      "    CronbachAlpha(police_reqs)\n",
      "\n",
      "    return kappa, alpha"
     ],
     "language": "python",
     "metadata": {},
     "outputs": []
    }
   ],
   "metadata": {}
  }
 ]
}