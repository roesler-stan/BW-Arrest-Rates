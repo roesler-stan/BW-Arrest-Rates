{
 "metadata": {
  "name": "",
  "signature": "sha256:59daa87e3300100446faad8c0a0a752d8556a621ad95980d1857e8c29c2e39f3"
 },
 "nbformat": 3,
 "nbformat_minor": 0,
 "worksheets": [
  {
   "cells": [
    {
     "cell_type": "code",
     "collapsed": false,
     "input": [
      "import pandas\n",
      "import numpy\n",
      "import Setup_Datasets as su\n",
      "import Analysis_Prep as ap\n",
      "\n",
      "import pylab as pl\n",
      "import matplotlib.pyplot as plt\n",
      "import matplotlib.patches as mpatches\n",
      "import matplotlib.cm as cm\n",
      "import statsmodels.api as sa\n",
      "import statsmodels.formula.api as sm\n",
      "import statsmodels.stats.api as sms\n",
      "from statsmodels.compat import lzip\n",
      "import scipy.stats as stats"
     ],
     "language": "python",
     "metadata": {},
     "outputs": [],
     "prompt_number": 1
    },
    {
     "cell_type": "code",
     "collapsed": false,
     "input": [
      "dataset = su.setup('mugshots', '../Data/SQL Output/Subqueries/arrests_2014.csv', quoting = '\"',\n",
      "                   memory = False)\n",
      "\n",
      "dataset, d2014, m2014, f2014 = ap.analysis_prep(dataset)"
     ],
     "language": "python",
     "metadata": {},
     "outputs": [],
     "prompt_number": 2
    },
    {
     "cell_type": "code",
     "collapsed": false,
     "input": [
      "%matplotlib inline"
     ],
     "language": "python",
     "metadata": {},
     "outputs": [],
     "prompt_number": 3
    },
    {
     "cell_type": "code",
     "collapsed": false,
     "input": [
      "# Ratio of Black vs. White Arrest to Resident Rates by Proportion White Officers Minus Residents\n",
      "# If you want to do this for a specific offense, you need to calculate AtoR before averaging by county\n",
      "\n",
      "bycounty = m2014.groupby('county_no').mean().reset_index()\n",
      "\n",
      "plt.plot([0,0], [-2,15], label = 'Equal police rate')\n",
      "plt.plot([-2,2], [1,1], label = 'Equal arrest rate')\n",
      "plt.scatter(bycounty.wofficers_minusres, bycounty.bdivw_ator, s = 5)\n",
      "plt.grid(False)\n",
      "plt.legend(loc = \"best\", fontsize = 7)\n",
      "plt.xlim(-1.01, 1.01)\n",
      "plt.ylim(-.01, 15)\n",
      "plt.tick_params(axis='both', which='major', labelsize=6)\n",
      "plt.xlabel('Proportion Police Minus Residents White', size = 8)\n",
      "plt.ylabel('Ratio of Black to White Arrests to Residents Rate', size = 8)\n",
      "plt.title(\"Black vs. White Likelihood of Arrest by Officer Racial Disparity\", size = 8)\n",
      "plt.figtext(0.13, -.01, 'Mugshots.com 2014 male arrests with charge coded, LEMAS 2007 police agencies, ACS 2009-2013',\n",
      "            horizontalalignment='left', size = 6)\n",
      "#plt.savefig(\"../Figures_Output/Draft 1/wpolice_atorratio.png\", dpi=600, bbox_inches='tight')\n",
      "#plt.close()"
     ],
     "language": "python",
     "metadata": {},
     "outputs": [
      {
       "metadata": {},
       "output_type": "pyout",
       "prompt_number": 6,
       "text": [
        "<matplotlib.text.Text at 0x1125431d0>"
       ]
      },
      {
       "metadata": {},
       "output_type": "display_data",
       "png": "[encoded data removed]",
       "text": [
        "<matplotlib.figure.Figure at 0x11256efd0>"
       ]
      }
     ],
     "prompt_number": 6
    },
    {
     "cell_type": "code",
     "collapsed": true,
     "input": [
      "bycounty[['bdivw_ator', 'wofficers_minusres']].corr()"
     ],
     "language": "python",
     "metadata": {},
     "outputs": [
      {
       "html": [
        "<div style=\"max-height:1000px;max-width:1500px;overflow:auto;\">\n",
        "<table border=\"1\" class=\"dataframe\">\n",
        "  <thead>\n",
        "    <tr style=\"text-align: right;\">\n",
        "      <th></th>\n",
        "      <th>bdivw_ator</th>\n",
        "      <th>wofficers_minusres</th>\n",
        "    </tr>\n",
        "  </thead>\n",
        "  <tbody>\n",
        "    <tr>\n",
        "      <th>bdivw_ator</th>\n",
        "      <td> 1.000000</td>\n",
        "      <td>-0.017691</td>\n",
        "    </tr>\n",
        "    <tr>\n",
        "      <th>wofficers_minusres</th>\n",
        "      <td>-0.017691</td>\n",
        "      <td> 1.000000</td>\n",
        "    </tr>\n",
        "  </tbody>\n",
        "</table>\n",
        "</div>"
       ],
       "metadata": {},
       "output_type": "pyout",
       "prompt_number": 26,
       "text": [
        "                    bdivw_ator  wofficers_minusres\n",
        "bdivw_ator            1.000000           -0.017691\n",
        "wofficers_minusres   -0.017691            1.000000"
       ]
      }
     ],
     "prompt_number": 26
    },
    {
     "cell_type": "heading",
     "level": 4,
     "metadata": {},
     "source": [
      "Other Stuff"
     ]
    },
    {
     "cell_type": "code",
     "collapsed": true,
     "input": [
      "# Black Arrest to Resident Rates by Proportion White Officers Minus Residents\n",
      "plt.scatter(bycounty.wofficers_minusres, bycounty.b_ator, s = 5)\n",
      "plt.grid(False)\n",
      "plt.plot([0,0], [-2,2], label = 'Police and residents equally White')\n",
      "plt.legend(loc = \"best\", fontsize = 7)\n",
      "plt.xlim(-1.01, 1.01)\n",
      "plt.ylim(-.01, .5)\n",
      "plt.tick_params(axis='both', which='major', labelsize=6)\n",
      "plt.xlabel('Proportion Police - Residents White', size = 9)\n",
      "plt.ylabel('Ratio of Black Arrests to Residents', size = 9)\n",
      "plt.title(\"Black Arrest Likelihood by Proportion Police Minus Residents White\", size = 9)\n",
      "plt.figtext(0.15, -.01, 'Mugshots.com 2014 male arrests, LEMAS 2007 police agencies, ACS 2009-2013 residents',\n",
      "            horizontalalignment='left', size = 6)\n",
      "plt.savefig(\"../Figures_Output/Draft 1/wpolice_bator.png\", dpi=600, bbox_inches='tight')\n",
      "plt.close()"
     ],
     "language": "python",
     "metadata": {},
     "outputs": []
    },
    {
     "cell_type": "code",
     "collapsed": true,
     "input": [
      "# Difference rather than ratio\n",
      "# Black vs. White Arrest to Resident Rates by Proportion White Officers Minus Residents\n",
      "plt.plot([0,0], [-1,15], label = 'Equal police rate')\n",
      "plt.plot([-1,1], [0,0], label = 'Equal arrest rate')\n",
      "plt.scatter(bycounty.wofficers_minusres, bycounty.bminusw_ator, s = 5)\n",
      "plt.grid(False)\n",
      "plt.legend(loc = \"best\", fontsize = 7)\n",
      "plt.xlim(-1.01, 1.01)\n",
      "plt.ylim(-.005, .075)\n",
      "plt.tick_params(axis='both', which='major', labelsize=6)\n",
      "plt.xlabel('Proportion Officers Minus Proportion Residents White', size = 8)\n",
      "plt.ylabel('Black-White Arrest Rate Difference', size = 8)\n",
      "plt.title(\"Difference in Black and White Likelihood of Arrest by Officer Racial Disparity\", size = 8)\n",
      "plt.figtext(0.15, -.01, 'Mugshots.com 2014 male arrests, LEMAS 2007 police agencies, ACS 2009-2013 residents',\n",
      "            horizontalalignment='left', size = 6)\n",
      "plt.savefig(\"../Figures_Output/Draft 1/wpolice_atordiff.png\", dpi=300, bbox_inches='tight')\n",
      "plt.close()"
     ],
     "language": "python",
     "metadata": {},
     "outputs": []
    },
    {
     "cell_type": "code",
     "collapsed": false,
     "input": [
      "# Zoom In\n",
      "# Black Arrest to Resident Rates by Proportion White Officers Minus Residents\n",
      "plt.scatter(bycounty.wofficers_minusres, bycounty.b_ator, s = 5)\n",
      "plt.grid(False)\n",
      "plt.plot([0,0], [-2,2], label = 'Police and residents equally White')\n",
      "plt.legend(loc = \"best\", fontsize = 7)\n",
      "plt.xlim(-.15, .5)\n",
      "plt.ylim(-.01, .3)\n",
      "plt.tick_params(axis='both', which='major', labelsize=6)\n",
      "plt.xlabel('Proportion Police - Residents White', size = 9)\n",
      "plt.ylabel('Ratio of Black Arrests to Residents', size = 9)\n",
      "plt.title(\"Black Arrest Likelihood by Proportion Police Minus Residents White\", size = 9)\n",
      "plt.figtext(0.15, -.01, 'Mugshots.com 2014 male arrests, LEMAS 2007 police agencies, ACS 2009-2013 residents',\n",
      "            horizontalalignment='left', size = 6)\n",
      "plt.savefig(\"../Figures_Output/Draft 1/wpolice_bator_zoom.png\", dpi=300, bbox_inches='tight')\n",
      "plt.close()"
     ],
     "language": "python",
     "metadata": {},
     "outputs": []
    },
    {
     "cell_type": "code",
     "collapsed": true,
     "input": [
      "# Proportion White officers to residents by Black Resident Rates\n",
      "plt.scatter(bycounty.b_residents_percent, bycounty.wofficers_minusres, s = 5)\n",
      "plt.grid(False)\n",
      "plt.plot([-1,1], [0,0], label = 'Police and residents equally White')\n",
      "plt.legend(loc = \"best\", fontsize = 7)\n",
      "plt.xlim(-.01,.8)\n",
      "plt.ylim(-1.01,)\n",
      "plt.tick_params(axis='both', which='major', labelsize=6)\n",
      "plt.xlabel('Proportion Residents Black', size = 8)\n",
      "plt.ylabel('Proportion Officers - Residents White', size = 8)\n",
      "plt.title(\"Officer Racial Disparity by Proportion Residents Black\", size = 9)\n",
      "plt.figtext(0.15, -.01, 'Mugshots.com 2014 male arrests, LEMAS 2007 police agencies, ACS 2009-2013 residents',\n",
      "            horizontalalignment='left', size = 6)\n",
      "plt.savefig(\"../Figures_Output/Draft 1/policebyres.png\", dpi=300, bbox_inches='tight')\n",
      "plt.close()"
     ],
     "language": "python",
     "metadata": {},
     "outputs": []
    },
    {
     "cell_type": "code",
     "collapsed": false,
     "input": [
      "# Proportion White officers to residents by Black Resident Rates\n",
      "plt.scatter(bycounty.b_residents_percent, bycounty.wofficers_minusres, s = 5)\n",
      "plt.grid(False)\n",
      "plt.plot([-1,1], [0,0], label = 'Police and residents equally White')\n",
      "plt.legend(loc = \"best\", fontsize = 7)\n",
      "plt.xlim(-.01,.3)\n",
      "plt.ylim(-1.01,)\n",
      "plt.tick_params(axis='both', which='major', labelsize=6)\n",
      "plt.xlabel('Proportion Residents Black', size = 8)\n",
      "plt.ylabel('Proportion Officers - Residents White', size = 8)\n",
      "plt.title(\"Officer Racial Disparity by Proportion Residents Black\", size = 9)\n",
      "plt.figtext(0.15, -.01, 'Mugshots.com 2014 male arrests, LEMAS 2007 police agencies, ACS 2009-2013 residents',\n",
      "            horizontalalignment='left', size = 6)\n",
      "plt.savefig(\"../Figures_Output/Draft 1/policebyres_zoom.png\", dpi=300, bbox_inches='tight')\n",
      "plt.close()"
     ],
     "language": "python",
     "metadata": {},
     "outputs": []
    },
    {
     "cell_type": "heading",
     "level": 3,
     "metadata": {},
     "source": [
      "SORT THROUGH THE CRAP BELOW"
     ]
    },
    {
     "cell_type": "heading",
     "level": 5,
     "metadata": {},
     "source": [
      "Testing for Robustness, Influence"
     ]
    },
    {
     "cell_type": "code",
     "collapsed": false,
     "input": [
      "results = sm.ols(formula = 'wofficers_minusres ~ b_residents_percent', \\\n",
      "                     data = bycounty).fit()"
     ],
     "language": "python",
     "metadata": {},
     "outputs": []
    },
    {
     "cell_type": "code",
     "collapsed": false,
     "input": [
      "# Residuals - whether certain counties have undue influence\n",
      "fig, ax = plt.subplots(figsize=(12,8))\n",
      "fig = sa.graphics.influence_plot(results, ax=ax, criterion=\"cooks\")"
     ],
     "language": "python",
     "metadata": {},
     "outputs": []
    },
    {
     "cell_type": "code",
     "collapsed": false,
     "input": [
      "# Outputs array, not sure what the point is\n",
      "#from statsmodels.stats.outliers_influence import OLSInfluence\n",
      "#influ = OLSInfluence(results)"
     ],
     "language": "python",
     "metadata": {},
     "outputs": []
    },
    {
     "cell_type": "code",
     "collapsed": true,
     "input": [
      "from statsmodels.graphics.regressionplots import plot_leverage_resid2\n",
      "fig, ax = plt.subplots(figsize=(8,6))\n",
      "fig = plot_leverage_resid2(results, ax = ax)"
     ],
     "language": "python",
     "metadata": {},
     "outputs": []
    },
    {
     "cell_type": "code",
     "collapsed": false,
     "input": [
      "# Whether Linear Specification is Correct\n",
      "name = ['t value', 'p value']\n",
      "test = sms.linear_harvey_collier(results)\n",
      "lzip(name, test)"
     ],
     "language": "python",
     "metadata": {},
     "outputs": []
    },
    {
     "cell_type": "code",
     "collapsed": false,
     "input": [
      "from statsmodels.sandbox.regression.predstd import wls_prediction_std\n",
      "prstd, iv_l, iv_u = wls_prediction_std(results)\n",
      "\n",
      "fig, ax = plt.subplots(figsize=(8,6))\n",
      "plt.grid(False)\n",
      "\n",
      "ax.plot(bycounty['b_residents_percent'], bycounty['wofficers_minusres'], 'o', label=\"data\")\n",
      "#ax.plot(x, y_true, 'b-', label=\"True\")\n",
      "ax.plot(bycounty['b_residents_percent'], results.predict, 'r--.', label=\"OLS\")\n",
      "#ax.plot(bycounty['b_residents_percent'], iv_u, 'r--')\n",
      "#ax.plot(bycounty['b_residents_percent'], iv_l, 'r--')\n",
      "ax.legend(loc='best');"
     ],
     "language": "python",
     "metadata": {},
     "outputs": []
    },
    {
     "cell_type": "code",
     "collapsed": false,
     "input": [
      "import seaborn as sns\n",
      "sns.lmplot(\"b_residents_percent\", \"wofficers_minusres\", bycounty)"
     ],
     "language": "python",
     "metadata": {},
     "outputs": []
    },
    {
     "cell_type": "code",
     "collapsed": false,
     "input": [
      "params = sm.ols(formula = 'wofficers_minusres ~ b_residents_percent', \\\n",
      "                     data = bycounty).fit().params"
     ],
     "language": "python",
     "metadata": {},
     "outputs": []
    },
    {
     "cell_type": "code",
     "collapsed": true,
     "input": [
      "# Percent White officers minus white residents by Black Resident Rates\n",
      "plt.scatter(bycounty.b_residents_percent, bycounty.wofficers_minusres, s = 5)\n",
      "# linear regression line\n",
      "plt.plot(bycounty.b_residents_percent, params.Intercept + params.b_residents_percent * bycounty.b_residents_percent)\n",
      "plt.plot([0,1], [0,0])\n",
      "plt.grid(False)\n",
      "plt.xlim(-.01,1.01)\n",
      "plt.ylim(-1.01, 1.01)\n",
      "plt.tick_params(axis='both', which='major', labelsize=6)\n",
      "plt.xlabel('Proportion Residents Black', size = 9)\n",
      "plt.ylabel('Proportion Police Minus Residents White', size = 9)\n",
      "plt.title(\"Officer Racial Disparity vs. Proportion Residents Black\", size = 9)\n",
      "plt.figtext(0.22, -.01, 'Mugshots.com 2014 county arrests, LEMAS 2007 police agencies, ACS 2009-2013',\n",
      "            horizontalalignment='left', size = 6)\n",
      "#plt.savefig(\"../Figures_Output/wpolice_bator_d2014.png\", dpi=300, bbox_inches='tight')\n",
      "#plt.close()"
     ],
     "language": "python",
     "metadata": {},
     "outputs": []
    },
    {
     "cell_type": "code",
     "collapsed": true,
     "input": [
      "# Impact of Percent White officers minus white residents on Black Arrest to Resident Rates\n",
      "plt.scatter(bycounty.wofficers_minusres, bycounty.b_aminusr, s = 5)\n",
      "plt.plot([0,0], [-1,1])\n",
      "plt.plot([-1,1], [0,0])\n",
      "plt.grid(False)\n",
      "plt.xlim(-1.01,1.01)\n",
      "plt.ylim(-1.01,1.01)\n",
      "plt.tick_params(axis='both', which='major', labelsize=6)\n",
      "plt.xlabel('Proportion Police Minus Residents White', size = 9)\n",
      "plt.ylabel('Proportion Arrestees minus Residents Black', size = 9)\n",
      "plt.title(\"Black Arrests vs. Residents by Officer Racial Disparity\", size = 9)\n",
      "plt.figtext(0.22, -.01, 'Mugshots.com 2014 county arrests, LEMAS 2007 police agencies, ACS 2009-2013',\n",
      "            horizontalalignment='left', size = 6)\n",
      "#plt.savefig(\"../Figures_Output/wpolice_bator_d2014.png\", dpi=300, bbox_inches='tight')\n",
      "#plt.close()"
     ],
     "language": "python",
     "metadata": {},
     "outputs": []
    },
    {
     "cell_type": "code",
     "collapsed": false,
     "input": [
      "# Zooming in on area with most counties\n",
      "# Impact of Percent White officers minus white residents on Black Arrest to Resident Rates\n",
      "zerotohalf_w = bycounty[bycounty['wofficers_minusres'] > 0]\n",
      "zerotohalf_w = zerotohalf_w[zerotohalf_w['wofficers_minusres'] < 0.5]\n",
      "plt.scatter(zerotohalf_w.wofficers_minusres, zerotohalf_w.b_aminusr, s = 5)\n",
      "# Impact of Percent White officers minus white residents on Black Arrest to Resident Rates\n",
      "plt.scatter(bycounty.wofficers_minusres, bycounty.b_aminusr, s = 5)\n",
      "plt.plot([0,0], [-1,1])\n",
      "plt.plot([-1,1], [0,0])\n",
      "plt.grid(False)\n",
      "plt.xlim(-.01,.51)\n",
      "plt.ylim(-1.01,1.01)\n",
      "plt.tick_params(axis='both', which='major', labelsize=6)\n",
      "plt.xlabel('Proportion Police Minus Residents White', size = 9)\n",
      "plt.ylabel('Proportion Arrestees minus Residents Black', size = 9)\n",
      "plt.title(\"Black Arrests vs. Residents by Officer Racial Disparity\", size = 9)\n",
      "plt.figtext(0.22, -.01, 'Mugshots.com 2014 county arrests, LEMAS 2007 police agencies, ACS 2009-2013',\n",
      "            horizontalalignment='left', size = 6)\n",
      "plt.savefig(\"../Figures_Output/wpolice_bator_d2014_zoomin.png\", dpi=300, bbox_inches='tight')\n",
      "#plt.close()"
     ],
     "language": "python",
     "metadata": {},
     "outputs": []
    },
    {
     "cell_type": "code",
     "collapsed": true,
     "input": [
      "# Percent White officers minus white residents by black residents\n",
      "# The pattern in the top left corner is b/c there can't be a greater difference than there are non-whites\n",
      "# It would be nice to scale dots by # residents per county\n",
      "plt.scatter(bycounty.nonw_residents_percent, bycounty.wofficers_minusres, s = 6)\n",
      "plt.plot([0,1], [0,0])\n",
      "plt.grid(False)\n",
      "plt.xlim(-.01,1.01)\n",
      "plt.ylim(-1.1,1.1)\n",
      "plt.tick_params(axis='both', which='major', labelsize=6)\n",
      "plt.xlabel('Proportion Residents Non-White', size = 9)\n",
      "plt.ylabel('Officers - Residents White', size = 9)\n",
      "plt.title(\"Officer Racial Disparity by Proportion Residents Black\", size = 9)\n",
      "plt.figtext(0.22, -.01, 'Mugshots.com 2014 counties, LEMAS 2007 police agencies, ACS 2009-2013',\n",
      "            horizontalalignment='left', size = 6)\n",
      "plt.savefig(\"../Figures_Output/bpolice_res_d2014.png\", dpi=300, bbox_inches='tight')\n",
      "plt.close()"
     ],
     "language": "python",
     "metadata": {},
     "outputs": []
    },
    {
     "cell_type": "code",
     "collapsed": false,
     "input": [
      "# Zooming in on the high white resident counties\n",
      "many_whites = bycounty[bycounty['w_residents_percent'] > .70]\n",
      "plt.scatter(many_whites.nonw_residents_percent, many_whites.wofficers_minusres, s = 6)\n",
      "plt.plot([0,1], [0,0])\n",
      "plt.grid(False)\n",
      "plt.xlim(-.01,.31)\n",
      "plt.ylim(-1.1,1.1)\n",
      "plt.tick_params(axis='both', which='major', labelsize=6)\n",
      "plt.xlabel('Proportion Residents Non-White', size = 9)\n",
      "plt.ylabel('Officers - Residents White', size = 9)\n",
      "plt.title(\"Officer Racial Disparity by Proportion Residents Non-White\", size = 9)\n",
      "plt.figtext(0.22, -.01, 'Mugshots.com 2014 counties, LEMAS 2007 police agencies, ACS 2009-2013',\n",
      "            horizontalalignment='left', size = 6)\n",
      "#plt.savefig(\"../Figures_Output/bpolice_res.png\", dpi=300, bbox_inches='tight')\n",
      "#plt.close()"
     ],
     "language": "python",
     "metadata": {},
     "outputs": []
    },
    {
     "cell_type": "code",
     "collapsed": true,
     "input": [
      "# Percent Black police officers compared to black residents\n",
      "plt.scatter(bycounty.b_residents_percent, bycounty.b_officers_percent_calc, s = 6)\n",
      "plt.plot([0,1], [0,1])\n",
      "plt.grid(False)\n",
      "plt.xlim(-.05,1.1)\n",
      "plt.ylim(-.05,1.1)\n",
      "plt.xlabel('Percent Residents Black')\n",
      "plt.ylabel('Percent Police Officers Black')\n",
      "plt.title(\"Black Officers vs. Residents by County\")\n",
      "plt.figtext(0.22, -.01, 'Mugshots.com 2014 counties, LEMAS 2007 police agencies, ACS 2009-2013',\n",
      "            horizontalalignment='left', size = 6)\n",
      "#plt.savefig(\"../Figures_Output/bpolice_res.png\", dpi=200, bbox_inches='tight')\n",
      "#plt.close()\n",
      "\n",
      "#plt.scatter(dataset.bw_residents_pdiff, dataset.bw_officers_pdiff)"
     ],
     "language": "python",
     "metadata": {},
     "outputs": []
    },
    {
     "cell_type": "code",
     "collapsed": true,
     "input": [
      "# Zooming in on the low black resident counties\n",
      "few_blacks = bycounty[bycounty['b_residents_percent'] < .25]\n",
      "plt.scatter(few_blacks.b_residents_percent, few_blacks.b_officers_percent_calc)\n",
      "plt.plot([0,.25], [0,.25])\n",
      "plt.grid(False)\n",
      "plt.xlim(-.01,.26)\n",
      "plt.ylim(-.01,.26)\n",
      "plt.xlabel('Percent Residents Black')\n",
      "plt.ylabel('Percent Police Officers Black')\n",
      "plt.title(\"Black Officers vs. Residents by County\")\n",
      "plt.figtext(0.22, -.01, 'Mugshots.com 2014 counties, LEMAS 2007 police agencies, ACS 2009-2013',\n",
      "            horizontalalignment='left', size = 6)\n",
      "#plt.savefig(\"../Figures_Output/bpolice_res_zoomin.png\", dpi=200, bbox_inches='tight')\n",
      "#plt.close()"
     ],
     "language": "python",
     "metadata": {},
     "outputs": []
    },
    {
     "cell_type": "code",
     "collapsed": false,
     "input": [
      "bycounty.bpolice_vres.describe()\n",
      "\n",
      "# The mean is significantly below 0\n",
      "stats.ttest_1samp(bycounty['bpolice_vres'], 0)"
     ],
     "language": "python",
     "metadata": {},
     "outputs": []
    },
    {
     "cell_type": "code",
     "collapsed": false,
     "input": [
      "# Making dictionary of empty counties per state (check that site gets all counties per state)\n",
      "empty_d = {}\n",
      "with open('../Data/Mugshots Scraped/empty_counties.txt', 'r') as empty:\n",
      "    for line in empty:\n",
      "        state = line.split(',')[2].strip()\n",
      "        if state not in empty_d:\n",
      "            empty_d[state] = 1\n",
      "        else:\n",
      "            empty_d[state] += 1"
     ],
     "language": "python",
     "metadata": {},
     "outputs": []
    },
    {
     "cell_type": "code",
     "collapsed": false,
     "input": [
      "# Label each row with its state's empty columns value\n",
      "for state in dataset['arrest_state'].unique():\n",
      "    if state in empty_d:\n",
      "        dataset.loc[dataset['arrest_state'] == state, 'empty_counties'] = empty_d[state]\n",
      "    # If the dictionary doesn't have an entry for this state, then there were no empty counties\n",
      "    else:\n",
      "        dataset.loc[dataset['arrest_state'] == state, 'empty_counties'] = 0"
     ],
     "language": "python",
     "metadata": {},
     "outputs": []
    },
    {
     "cell_type": "code",
     "collapsed": false,
     "input": [
      "# Calculate % of counties with arrests per state\n",
      "\n",
      "\n",
      "# Calculate % of counties with fewer than 10 arrests per state"
     ],
     "language": "python",
     "metadata": {},
     "outputs": []
    },
    {
     "cell_type": "code",
     "collapsed": false,
     "input": [
      "# To plot a bar chart based on dictionary values, in ascending order of missing values\n",
      "# Would be nice to get this as a % of counties per state, using outside info or my dataset\n",
      "# Might want to include states without missing counties\n",
      "vsorted = collections.OrderedDict(sorted(empty_d.items(), key=lambda t: t[1]))\n",
      "\n",
      "%matplotlib inline\n",
      "X = numpy.arange(len(od))\n",
      "plt.bar(X, vsorted.values(), width=0.5)\n",
      "plt.xticks(X, vsorted.keys(), rotation=75)\n",
      "ymax = max(vsorted.values()) + 1\n",
      "plt.ylim(0, ymax)\n",
      "plt.tick_params(axis='x', which='major', labelsize=5)\n",
      "plt.tick_params(axis='y', which='major', labelsize=6)\n",
      "plt.title(\"# Counties without mugshots by state, all years\", size=8)\n",
      "plt.savefig(\"../Figures_Output/empty_counties.png\", dpi=200, bbox_inches='tight')\n",
      "plt.close()"
     ],
     "language": "python",
     "metadata": {},
     "outputs": []
    },
    {
     "cell_type": "code",
     "collapsed": false,
     "input": [
      "# To plot a bar chart based on dictionary values, alphabetic by state\n",
      "od = collections.OrderedDict(sorted(empty_d.items()))\n",
      "\n",
      "X = numpy.arange(len(od))\n",
      "plt.bar(X, od.values(), width=0.5)\n",
      "plt.xticks(X, od.keys(), rotation=75)\n",
      "ymax = max(od.values()) + 1\n",
      "plt.ylim(0, ymax)\n",
      "plt.tick_params(axis='x', which='major', labelsize=5)\n",
      "plt.title(\"# Counties without mugshots by state, all years\")\n",
      "plt.savefig(\"../Figures_Output/empty_counties.png\", dpi=200, bbox_inches='tight')"
     ],
     "language": "python",
     "metadata": {},
     "outputs": []
    },
    {
     "cell_type": "code",
     "collapsed": false,
     "input": [
      "# I need to figure out how to remove decimal from year label\n",
      "#dataset.year.hist(grid=False, bins = 20, range=[1995,2016])\n",
      "#plt.title(\"Arrest Years\")\n",
      "#plt.savefig(\"../Figures_Output/years.png\", dpi=150, bbox_inches='tight')\n",
      "dataset[dataset['year'] > 1994].groupby('year').arrest_id.count().plot(kind='bar', rot = 45)\n",
      "plt.grid(False)\n",
      "plt.xlabel('Year')\n",
      "plt.ylabel('Arrests')\n",
      "plt.title(\"Arrests by Year\")\n",
      "plt.figtext(0.89, -.03, 'Mugshots.com', horizontalalignment='right')\n",
      "\n",
      "#plt.close()"
     ],
     "language": "python",
     "metadata": {},
     "outputs": []
    },
    {
     "cell_type": "code",
     "collapsed": false,
     "input": [
      "pandas.value_counts(d2014.gender).plot(kind = \"bar\", rot=0)\n",
      "plt.title(\"Gender, 2014\")\n",
      "plt.grid(False)\n",
      "#plt.savefig(\"../Figures_Output/FL_gender.png\", dpi=150)"
     ],
     "language": "python",
     "metadata": {},
     "outputs": []
    },
    {
     "cell_type": "code",
     "collapsed": true,
     "input": [
      "pandas.value_counts(d2014.race).plot(kind = \"bar\", rot=0)\n",
      "plt.title(\"Racial/Ethnic Groups, 2014\")\n",
      "plt.grid(False)\n",
      "#plt.savefig(\"../Figures_Output/race.png\", dpi=150)"
     ],
     "language": "python",
     "metadata": {},
     "outputs": []
    },
    {
     "cell_type": "code",
     "collapsed": true,
     "input": [
      "d2014.age.dropna().plot(kind='kde', xlim=(0,100))\n",
      "plt.title(\"Age, 2014\")\n",
      "plt.grid(False)\n",
      "#plt.savefig(\"../Figures_Output/age.png\", dpi=150)"
     ],
     "language": "python",
     "metadata": {},
     "outputs": []
    },
    {
     "cell_type": "code",
     "collapsed": false,
     "input": [
      "f2014.age.dropna().plot(kind='kde', xlim=(0,100), c = \"pink\")\n",
      "m2014.age.dropna().plot(kind='kde', xlim=(0,100), c = \"lightblue\")\n",
      "pink = mpatches.Patch(color='pink', label='Women')\n",
      "lightblue = mpatches.Patch(color='lightblue', label='Men')\n",
      "plt.legend(handles=[pink, lightblue])\n",
      "plt.title(\"Age by Gender, 2014\")\n",
      "plt.grid(False)\n",
      "plt.savefig(\"../Figures_Output/age_gender.png\", dpi=150)"
     ],
     "language": "python",
     "metadata": {},
     "outputs": []
    },
    {
     "cell_type": "code",
     "collapsed": true,
     "input": [
      "#dataset.groupby('county_no').arrest_id.count().plot(kind='bar', rot = 45)\n",
      "pandas.value_counts(dataset.county_no).plot(kind = \"bar\", rot=45, ylim = (0, 1100))\n",
      "plt.tick_params(axis='x', which='major', labelsize=2)\n",
      "plt.grid(False)\n",
      "plt.title(\"Counties\")\n",
      "#plt.savefig(\"../Figures_Output/counties.png\", dpi=200)"
     ],
     "language": "python",
     "metadata": {},
     "outputs": []
    },
    {
     "cell_type": "code",
     "collapsed": false,
     "input": [
      "pandas.value_counts(d2014.county_no).plot(kind = \"bar\", \\\n",
      "   rot=45, ylim = (0, 1100))\n",
      "plt.title(\"Counties in 2014\")\n",
      "plt.tick_params(axis='x', which='major', labelsize = 2)\n",
      "plt.grid(False)\n",
      "#plt.savefig(\"../Figures_Output/counties_2014.png\", dpi=200)"
     ],
     "language": "python",
     "metadata": {},
     "outputs": []
    }
   ],
   "metadata": {}
  }
 ]
}